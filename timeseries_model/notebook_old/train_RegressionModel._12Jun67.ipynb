{
 "cells": [
  {
   "cell_type": "code",
   "execution_count": null,
   "metadata": {},
   "outputs": [],
   "source": [
    "import numpy as np\n",
    "import pandas as pd\n",
    "import matplotlib.pyplot as plt\n",
    "\n",
    "from sklearn.linear_model import BayesianRidge\n",
    "\n",
    "from darts.models import (\n",
    "    LinearRegressionModel,\n",
    "    RegressionModel,\n",
    "    LightGBMModel,\n",
    "    XGBModel,\n",
    "    CatBoostModel,\n",
    "    RandomForest\n",
    ")\n",
    "from darts.metrics import mape\n",
    "from darts.datasets import ElectricityConsumptionZurichDataset\n",
    "from darts.explainability import ShapExplainer"
   ]
  },
  {
   "cell_type": "code",
   "execution_count": null,
   "metadata": {},
   "outputs": [],
   "source": [
    "import pandas as pd\n",
    "\n",
    "# อ่านข้อมูลจากไฟล์ CSV\n",
    "df = pd.read_csv('csv/Ming13Jun67_total_order.csv')\n",
    "\n",
    "# แปลงคอลัมน์ order_completed_at เป็น datetime\n",
    "df['order_completed_at'] = pd.to_datetime(df['order_completed_at'])\n",
    "\n",
    "# แสดงข้อมูลเบื้องต้นของ DataFrame\n",
    "df.info()"
   ]
  },
  {
   "cell_type": "code",
   "execution_count": null,
   "metadata": {},
   "outputs": [],
   "source": [
    "print(df.head())\n",
    "print(df.tail())"
   ]
  },
  {
   "cell_type": "code",
   "execution_count": null,
   "metadata": {},
   "outputs": [],
   "source": [
    "from darts import TimeSeries\n",
    "\n",
    "ts_order_quantity = TimeSeries.from_dataframe(df, 'order_completed_at', 'unique_order_count')\n",
    "\n",
    "# resample to hourly frequency\n",
    "ts_order_quantity = ts_order_quantity.resample(freq=\"D\")\n",
    "\n",
    "ts_order = ts_order_quantity[\"unique_order_count\"]\n",
    "\n",
    "# create train and validation splits\n",
    "validation_cutoff = pd.Timestamp(\"2024-05-31\")\n",
    "ts_training, ts_validation = ts_order.split_after(validation_cutoff)\n",
    "ts_cov_train,ts_cov_test  = ts_order.split_after(validation_cutoff)\n",
    "\n",
    "plt.figure(figsize=(12, 6))  \n",
    "ts_order.plot()\n",
    "plt.show()\n",
    "\n"
   ]
  },
  {
   "cell_type": "markdown",
   "metadata": {},
   "source": [
    "# Linear Regression"
   ]
  },
  {
   "cell_type": "code",
   "execution_count": null,
   "metadata": {},
   "outputs": [],
   "source": [
    "model = LinearRegressionModel(lags=33)\n",
    "model.fit(ts_training)\n",
    "pred = model.predict(30)\n",
    "\n",
    "plt.figure(figsize=(20, 10)) \n",
    "\n",
    "ts_training.plot(label=\"training\")\n",
    "ts_validation.plot(label=\"validation\")\n",
    "pred.plot(label=\"forecast\")\n",
    "\n",
    "\n",
    "plt.show()"
   ]
  },
  {
   "cell_type": "code",
   "execution_count": null,
   "metadata": {},
   "outputs": [],
   "source": [
    "from darts.metrics import mape, mse, mae, rmse\n",
    "pred_lr = model.predict(len(ts_validation))\n",
    "\n",
    "print(f'Linear Regression MAPE: lag {33} {mape(ts_validation, pred_lr)}')\n",
    "print(f'MSE {mse(ts_validation, pred_lr)}')\n",
    "print(f'MAE {mae(ts_validation, pred_lr)}')\n",
    "print(f'RMSE {rmse(ts_validation, pred_lr)}')"
   ]
  },
  {
   "cell_type": "code",
   "execution_count": null,
   "metadata": {},
   "outputs": [],
   "source": [
    "# Predict\n",
    "best_model = LinearRegressionModel.load('model/linearRegressionModel_totalOrder_13Jun67.pkl')\n",
    "best_model.fit(ts_order_quantity)\n",
    "\n",
    "# ts_order_quantity.pd_dataframe().tail()\n",
    "\n",
    "forecast = best_model.predict(7)\n",
    "forecast = forecast.pd_dataframe().reset_index()\n",
    "forecast.columns = ['Date', 'Total Order']\n",
    "forecast.tail(7)"
   ]
  },
  {
   "cell_type": "code",
   "execution_count": null,
   "metadata": {},
   "outputs": [],
   "source": [
    "from darts.models import LinearRegressionModel, Prophet\n",
    "\n",
    "best_model.save(\"model/linearRegressionModel_totalOrder_13Jun67.pkl\")"
   ]
  },
  {
   "cell_type": "markdown",
   "metadata": {},
   "source": [
    "# Linear Single Model, Multi Model"
   ]
  },
  {
   "cell_type": "code",
   "execution_count": null,
   "metadata": {},
   "outputs": [],
   "source": [
    "from darts.metrics import mape, mse, mae, rmse\n",
    "\n",
    "def find_best_chunk_len(len_chunk:int):\n",
    "    best_value = {\"chunk\":1, \"value\":0} #num chunk, error value (mape)\n",
    "    for i in range(1,len_chunk+1):\n",
    "        multi_models = LinearRegressionModel(lags=33, output_chunk_length=len_chunk, multi_models=True)\n",
    "        multi_models.fit(ts_training)\n",
    "        pred_multi_models = multi_models.predict(len(ts_validation))\n",
    "        \n",
    "        if i==1:\n",
    "            best_value[\"value\"] = mape(ts_validation, pred_multi_models)\n",
    "        else:\n",
    "            if best_value[\"value\"] > mape(ts_validation, pred_multi_models) : \n",
    "                best_value[\"chunk\"]=i; best_value[\"value\"]=mape(ts_validation, pred_multi_models)\n",
    "        \n",
    "        return best_value\n",
    "\n",
    "out = find_best_chunk_len(60)\n",
    "print(f\"chunk {out[\"chunk\"]} mape: {out[\"value\"]}\")\n"
   ]
  },
  {
   "cell_type": "code",
   "execution_count": null,
   "metadata": {},
   "outputs": [],
   "source": [
    "\n",
    "multi_models = LinearRegressionModel(lags=33, output_chunk_length=1, multi_models=True)\n",
    "multi_models.fit(ts_training)\n",
    "\n",
    "pred_multi_models = multi_models.predict(len(ts_validation))\n",
    "\n",
    "plt.figure(figsize=(20, 10)) \n",
    "ts_training.plot(label=\"training\")\n",
    "ts_validation.plot(label=\"validation\")\n",
    "pred_multi_models.plot(label=\"forecast (multi models)\")"
   ]
  },
  {
   "cell_type": "code",
   "execution_count": null,
   "metadata": {},
   "outputs": [],
   "source": [
    "print(f'Linear Regression Multi Model MAPE: lag {33} {mape(ts_validation, pred_multi_models)}')\n",
    "print(f'MSE {mse(ts_validation, pred_multi_models)}')\n",
    "print(f'MAE {mae(ts_validation, pred_multi_models)}')\n",
    "print(f'RMSE {rmse(ts_validation, pred_multi_models)}')"
   ]
  },
  {
   "cell_type": "code",
   "execution_count": null,
   "metadata": {},
   "outputs": [],
   "source": [
    "from darts.metrics import mape, mse, mae, rmse\n",
    "\n",
    "def find_best_chunk_len(len_chunk:int):\n",
    "    best_value = {\"chunk\":1, \"value\":0} #num chunk, error value (mape)\n",
    "    for i in range(1,len_chunk+1):\n",
    "        single_models = LinearRegressionModel(lags=33, output_chunk_length=len_chunk, multi_models=False)\n",
    "        single_models.fit(ts_training)\n",
    "        pred_single_models = single_models.predict(len(ts_validation))\n",
    "        \n",
    "        if i==1:\n",
    "            best_value[\"value\"]=mape(ts_validation, pred_single_models)\n",
    "        else:\n",
    "            if best_value[\"value\"]>pred_single_models : \n",
    "                best_value[\"chunk\"]=i; best_value[\"value\"]=pred_single_models\n",
    "        \n",
    "        return best_value\n",
    "\n",
    "out = find_best_chunk_len(60)\n",
    "print(f\"chunk {out[\"chunk\"]} mape: {out[\"value\"]}\")\n"
   ]
  },
  {
   "cell_type": "code",
   "execution_count": null,
   "metadata": {},
   "outputs": [],
   "source": [
    "\n",
    "single_models = LinearRegressionModel(lags=33, output_chunk_length=1, multi_models=False)\n",
    "single_models.fit(ts_training)\n",
    "\n",
    "pred_single_models = single_models.predict(len(ts_validation))\n",
    "\n",
    "plt.figure(figsize=(20, 10)) \n",
    "ts_training.plot(label=\"training\")\n",
    "ts_validation.plot(label=\"validation\")\n",
    "pred_single_models.plot(label=\"forecast (multi models)\")"
   ]
  },
  {
   "cell_type": "code",
   "execution_count": null,
   "metadata": {},
   "outputs": [],
   "source": [
    "print(f'Linear Regression Single Model MAPE: lag {33} {mape(ts_validation, pred_single_models)}')\n",
    "print(f'MSE {mse(ts_validation, pred_single_models)}')\n",
    "print(f'MAE {mae(ts_validation, pred_single_models)}')\n",
    "print(f'RMSE {rmse(ts_validation, pred_single_models)}')"
   ]
  },
  {
   "cell_type": "markdown",
   "metadata": {},
   "source": [
    "# Random Forest Model"
   ]
  },
  {
   "cell_type": "code",
   "execution_count": null,
   "metadata": {},
   "outputs": [],
   "source": [
    "from darts.models import (\n",
    "    LinearRegressionModel,\n",
    "    RegressionModel,\n",
    "    LightGBMModel,\n",
    "    XGBModel,\n",
    "    CatBoostModel,\n",
    "    RandomForest\n",
    ")\n",
    "\n",
    "# สร้างและฝึก Linear Regression Model\n",
    "best_lag = 1\n",
    "for i in range(1,31):\n",
    "    model_Rforest = RandomForest(lags=i)\n",
    "    model_Rforest.fit(ts_training)\n",
    "\n",
    "    # ทำนายค่าใน validation set\n",
    "    pred_Rforest = model_Rforest.predict(len(ts_validation))\n",
    "\n",
    "    # คำนวณค่า MAPE (Mean Absolute Percentage Error)\n",
    "    error = mape(ts_validation, pred_Rforest)\n",
    "    if i==1:\n",
    "        error_best= error\n",
    "    else:\n",
    "        if error < error_best:\n",
    "            error_best = error; best_lag = i\n",
    "print(f'Random Forest MAPE: lag {best_lag} MAPE {error_best}\\n')\n",
    "\n",
    "model_Rforest = RandomForest(lags=best_lag)\n",
    "model_Rforest.fit(ts_training)\n",
    "pred_Rforest = model_Rforest.predict(len(ts_validation))\n",
    "\n",
    "print(f'Train Random Forest MAPE: lag {best_lag} MAPE {mape(ts_validation, pred_Rforest)}')\n",
    "print(f'MSE {mse(ts_validation, pred_Rforest)}')\n",
    "print(f'MAE {mae(ts_validation, pred_Rforest)}')\n",
    "print(f'RMSE {rmse(ts_validation, pred_Rforest)}')"
   ]
  },
  {
   "cell_type": "code",
   "execution_count": null,
   "metadata": {},
   "outputs": [],
   "source": [
    "best_depth = 1\n",
    "for i in range(1,31):\n",
    "    model_Rforest = RandomForest(lags=27, max_depth=i)\n",
    "    model_Rforest.fit(ts_training)\n",
    "\n",
    "    # ทำนายค่าใน validation set\n",
    "    pred_Rforest = model_Rforest.predict(len(ts_validation))\n",
    "\n",
    "    # คำนวณค่า MAPE (Mean Absolute Percentage Error)\n",
    "    error = mape(ts_validation, pred_Rforest)\n",
    "    if i==1:\n",
    "        error_best= error\n",
    "    else:\n",
    "        if error < error_best:\n",
    "            error_best = error;best_depth = i\n",
    "    print(f'Random Forest MAPE: depth {best_depth} MAPE {error_best}\\n')\n",
    "\n",
    "model_Rforest = RandomForest(lags=27, max_depth=best_depth)\n",
    "model_Rforest.fit(ts_training)\n",
    "pred_Rforest = model_Rforest.predict(len(ts_validation))\n",
    "\n",
    "print(f'Train Random Forest MAPE: depth {best_depth} MAPE {mape(ts_validation, pred_Rforest)}')\n",
    "print(f'MSE {mse(ts_validation, pred_Rforest)}')\n",
    "print(f'MAE {mae(ts_validation, pred_Rforest)}')\n",
    "print(f'RMSE {rmse(ts_validation, pred_Rforest)}')"
   ]
  },
  {
   "cell_type": "code",
   "execution_count": null,
   "metadata": {},
   "outputs": [],
   "source": [
    "# # สร้างและฝึก Linear Regression Model\n",
    "# best_est_n = 100\n",
    "# for i in [20,50,100,150,200,300,400,500,600,700,800,900,1000]:\n",
    "#     model_Rforest = RandomForest(lags=1, max_depth=9, n_estimators=i)\n",
    "#     model_Rforest.fit(ts_training)\n",
    "\n",
    "#     # ทำนายค่าใน validation set\n",
    "#     pred_Rforest = model_Rforest.predict(len(ts_validation))\n",
    "\n",
    "#     # คำนวณค่า MAPE (Mean Absolute Percentage Error)\n",
    "#     error = mape(ts_validation, pred_Rforest)\n",
    "#     if i==20:\n",
    "#         error_best_est = error\n",
    "#     else:\n",
    "#         if error < error_best_est:\n",
    "#             error_best_est = error; best_est_n = i\n",
    "\n",
    "# print(f'Linear Regression MAPE:  {best_est_n}  max depth {error_best_est}')\n",
    "# print(f'MSE {mse(ts_validation, pred_Rforest)}')\n",
    "# print(f'MAE {mae(ts_validation, pred_Rforest)}')\n",
    "# print(f'RMSE {rmse(ts_validation, pred_Rforest)}')\n",
    "\n",
    "best_est = 100\n",
    "for i in [100,200,300,400,500,600,700,800,900,1000]:\n",
    "    model_Rforest = RandomForest(lags=27, max_depth=28, n_estimators=i)\n",
    "    model_Rforest.fit(ts_training)\n",
    "\n",
    "    # ทำนายค่าใน validation set\n",
    "    pred_Rforest = model_Rforest.predict(len(ts_validation))\n",
    "\n",
    "    # คำนวณค่า MAPE (Mean Absolute Percentage Error)\n",
    "    error = mape(ts_validation, pred_Rforest)\n",
    "    if i==100:\n",
    "        error_best= error\n",
    "    else:\n",
    "        if error < error_best:\n",
    "            error_best = error;best_est = i\n",
    "    print(f'Random Forest MAPE: n_est {best_est} MAPE {error_best}\\n')\n",
    "\n",
    "model_Rforest = RandomForest(lags=26, max_depth=28, n_estimators=best_est)\n",
    "model_Rforest.fit(ts_training)\n",
    "pred_Rforest = model_Rforest.predict(len(ts_validation))\n",
    "\n",
    "print(f'Train Random Forest MAPE: n_est {best_est} MAPE {mape(ts_validation, pred_Rforest)}')\n",
    "print(f'MSE {mse(ts_validation, pred_Rforest)}')\n",
    "print(f'MAE {mae(ts_validation, pred_Rforest)}')\n",
    "print(f'RMSE {rmse(ts_validation, pred_Rforest)}')"
   ]
  },
  {
   "cell_type": "code",
   "execution_count": null,
   "metadata": {},
   "outputs": [],
   "source": [
    "# # note random forset lag=1, max_depth=7, n_estimators=200\n",
    "# lags_in = 27\n",
    "# max_depths_in = 28\n",
    "# n_estimators_in = 1000\n",
    "\n",
    "# Rmodel = RandomForest(lags=lags_in, \n",
    "#                       max_depth=max_depths_in, \n",
    "#                       n_estimators=n_estimators_in\n",
    "#                       )\n",
    "# Rmodel.fit(ts_training)\n",
    "pred = model_Rforest.predict(30)\n",
    "\n",
    "plt.figure(figsize=(20, 10)) \n",
    "\n",
    "ts_training.plot(label=\"training\")\n",
    "ts_validation.plot(label=\"validation\")\n",
    "pred.plot(label=\"forecast\")\n"
   ]
  },
  {
   "cell_type": "code",
   "execution_count": null,
   "metadata": {},
   "outputs": [],
   "source": [
    "from darts.metrics import mape, mse, mae, rmse\n",
    "lags_in = 26\n",
    "max_depths_in = 9\n",
    "n_estimators_in = 400\n",
    "\n",
    "best_mape = 100\n",
    "for i in range(1,31):\n",
    "    Rmodel = RandomForest(lags=lags_in, \n",
    "                        max_depth=max_depths_in, \n",
    "                        n_estimators=n_estimators_in\n",
    "                        )\n",
    "    Rmodel.fit(ts_training)\n",
    "    pred_lr = Rmodel.predict(len(ts_validation))\n",
    "    mape_value = mape(ts_validation, pred_lr)\n",
    "\n",
    "    if mape_value < best_mape:\n",
    "        Best_model = Rmodel\n",
    "        best_mape = mape_value\n",
    "        print(f'\\nRandom Forest MAPE: lag {lags_in} max_depth {max_depths_in}  n_estimator {n_estimators_in} MAPE {mape_value}')\n",
    "        print(f'MSE {mse(ts_validation, pred_lr)}')\n",
    "        print(f'MAE {mae(ts_validation, pred_lr)}')\n",
    "        print(f'RMSE {rmse(ts_validation, pred_lr)}\\n')\n",
    "    print(f'epoch {i}')"
   ]
  },
  {
   "cell_type": "code",
   "execution_count": null,
   "metadata": {},
   "outputs": [],
   "source": [
    "from darts.models import LinearRegressionModel, Prophet\n",
    "\n",
    "Best_model.save(\"model/RandomForestModel_totalOrder_13Jun67_V1_1.pkl\")"
   ]
  },
  {
   "cell_type": "code",
   "execution_count": null,
   "metadata": {},
   "outputs": [],
   "source": [
    "# Predict\n",
    "best_model= RandomForest.load(\"model/RandomForestModel_totalOrder_13Jun67_V1_1.pkl\")\n",
    "best_model.fit(ts_order_quantity)\n",
    "\n",
    "# ts_order_quantity.pd_dataframe().tail()"
   ]
  },
  {
   "cell_type": "code",
   "execution_count": null,
   "metadata": {},
   "outputs": [],
   "source": [
    "forecast = best_model.predict(7)\n",
    "forecast = forecast.pd_dataframe().reset_index()\n",
    "forecast.columns = ['Date', 'Total Order']\n",
    "forecast.tail(7)"
   ]
  },
  {
   "cell_type": "code",
   "execution_count": null,
   "metadata": {},
   "outputs": [],
   "source": [
    "from darts.models import LinearRegressionModel, Prophet\n",
    "\n",
    "best_model.save(\"model/RandomForestModel_totalOrder_13Jun67_V1_1.pkl\")"
   ]
  },
  {
   "cell_type": "markdown",
   "metadata": {},
   "source": [
    "# CatBoostModel"
   ]
  },
  {
   "cell_type": "code",
   "execution_count": null,
   "metadata": {},
   "outputs": [],
   "source": [
    "from darts.models import (\n",
    "    CatBoostModel\n",
    ")\n",
    "\n",
    "# สร้างและฝึก Linear Regression Model\n",
    "best_lag = 1\n",
    "for i in range(1,31):\n",
    "    model_Cat = CatBoostModel(lags=i)\n",
    "    model_Cat.fit(ts_training)\n",
    "\n",
    "    # ทำนายค่าใน validation set\n",
    "    pred_Cat = model_Cat.predict(len(ts_validation))\n",
    "\n",
    "    # คำนวณค่า MAPE (Mean Absolute Percentage Error)\n",
    "    error_lr = mape(ts_validation, pred_Cat)\n",
    "    if i==1:\n",
    "        error_best_lag = error_lr\n",
    "    else:\n",
    "        if error_lr < error_best_lag:\n",
    "            error_best_lag = error_lr; best_lag = i\n",
    "\n",
    "print(f'Linear Regression MAPE: lag {best_lag} {error_best_lag}')\n",
    "print(f'MSE {mse(ts_validation, pred_Cat)}')\n",
    "print(f'MAE {mae(ts_validation, pred_Cat)}')\n",
    "print(f'RMSE {rmse(ts_validation, pred_Cat)}')"
   ]
  }
 ],
 "metadata": {
  "kernelspec": {
   "display_name": "conda_dart",
   "language": "python",
   "name": "python3"
  },
  "language_info": {
   "codemirror_mode": {
    "name": "ipython",
    "version": 3
   },
   "file_extension": ".py",
   "mimetype": "text/x-python",
   "name": "python",
   "nbconvert_exporter": "python",
   "pygments_lexer": "ipython3",
   "version": "3.12.3"
  }
 },
 "nbformat": 4,
 "nbformat_minor": 2
}
