{
 "cells": [
  {
   "cell_type": "code",
   "execution_count": null,
   "metadata": {},
   "outputs": [],
   "source": [
    "import pandas as pd\n",
    "import matplotlib.pyplot as plt\n",
    "from darts import TimeSeries"
   ]
  },
  {
   "cell_type": "markdown",
   "metadata": {},
   "source": [
    "# Import Data"
   ]
  },
  {
   "cell_type": "code",
   "execution_count": null,
   "metadata": {},
   "outputs": [],
   "source": [
    "df = pd.read_csv('csv/Ming12Jun67_V8_Group.csv')"
   ]
  },
  {
   "cell_type": "code",
   "execution_count": null,
   "metadata": {},
   "outputs": [],
   "source": [
    "df.head()"
   ]
  },
  {
   "cell_type": "code",
   "execution_count": null,
   "metadata": {},
   "outputs": [],
   "source": [
    "df.shape"
   ]
  },
  {
   "cell_type": "code",
   "execution_count": null,
   "metadata": {},
   "outputs": [],
   "source": [
    "df.info()"
   ]
  },
  {
   "cell_type": "markdown",
   "metadata": {},
   "source": [
    "# Data Preprocessing"
   ]
  },
  {
   "cell_type": "code",
   "execution_count": null,
   "metadata": {},
   "outputs": [],
   "source": [
    "# แปลงคอลัมน์ order_completed_at เป็น datetime\n",
    "df['order_completed_at'] = pd.to_datetime(df['order_completed_at'])\n",
    "\n",
    "# Group by คอลัมน์ order_completed_at และนับจำนวน order ที่ไม่ซ้ำกัน\n",
    "df_order = df.groupby(df['order_completed_at'])['number'].nunique().reset_index()\n",
    "\n",
    "# เปลี่ยนชื่อคอลัมน์\n",
    "df_order.columns = ['order_completed_at', 'unique_order_count']\n",
    "\n",
    "# เรียงลำดับวันที่\n",
    "df_order = df_order.sort_values('order_completed_at')\n",
    "\n",
    "# แสดง DataFrame ที่ได้\n",
    "print(df_order.head())\n",
    "print(df_order.tail())"
   ]
  },
  {
   "cell_type": "code",
   "execution_count": null,
   "metadata": {},
   "outputs": [],
   "source": [
    "df_order.info()"
   ]
  },
  {
   "cell_type": "code",
   "execution_count": null,
   "metadata": {},
   "outputs": [],
   "source": [
    "df_order.head()"
   ]
  },
  {
   "cell_type": "code",
   "execution_count": null,
   "metadata": {},
   "outputs": [],
   "source": [
    "df_order.to_csv('Ming12Jun67_total_order.csv', index=False)"
   ]
  },
  {
   "cell_type": "code",
   "execution_count": null,
   "metadata": {},
   "outputs": [],
   "source": [
    "date_to_find = pd.Timestamp('2024-06-11').date()\n",
    "df_order_filtered = df_order[df_order['order_completed_at'].dt.date == date_to_find]\n",
    "df_order_filtered"
   ]
  },
  {
   "cell_type": "code",
   "execution_count": null,
   "metadata": {},
   "outputs": [],
   "source": [
    "df_order = df_order[df_order['order_completed_at'] < '2024-06-12']"
   ]
  },
  {
   "cell_type": "code",
   "execution_count": null,
   "metadata": {},
   "outputs": [],
   "source": [
    "df_order.info()"
   ]
  },
  {
   "cell_type": "code",
   "execution_count": null,
   "metadata": {},
   "outputs": [],
   "source": [
    "import matplotlib.dates as mdates\n",
    "\n",
    "\n",
    "series = TimeSeries.from_dataframe(df_order, 'order_completed_at', 'unique_order_count')\n",
    "\n",
    "# ดูข้อมูลเบื้องต้นและปรับขนาดของภาพ\n",
    "plt.figure(figsize=(20, 10))  # ปรับขนาดของภาพ (กว้าง x สูง)\n",
    "series.plot()\n",
    "\n",
    "# ตั้งค่ารูปแบบของวันที่บนแกน x\n",
    "plt.gca().xaxis.set_major_formatter(mdates.DateFormatter('%b %Y'))\n",
    "plt.gca().xaxis.set_major_locator(mdates.MonthLocator())\n",
    "plt.gcf().autofmt_xdate()  # ปรับให้วันที่ไม่ซ้อนกัน\n",
    "\n",
    "# กำหนด Title และชื่อของแกน x และ y\n",
    "plt.title('Total Order By Date from 2022-2024')\n",
    "plt.xlabel('Date')\n",
    "plt.ylabel('Number of Orders (Unit)')\n",
    "\n",
    "plt.show()"
   ]
  },
  {
   "cell_type": "markdown",
   "metadata": {},
   "source": [
    "# Feature Engineering"
   ]
  },
  {
   "cell_type": "code",
   "execution_count": null,
   "metadata": {},
   "outputs": [],
   "source": []
  },
  {
   "cell_type": "markdown",
   "metadata": {},
   "source": [
    "# Modeling And Evaluate Model"
   ]
  },
  {
   "cell_type": "code",
   "execution_count": null,
   "metadata": {},
   "outputs": [],
   "source": [
    "from darts.models import LinearRegressionModel, Prophet"
   ]
  },
  {
   "cell_type": "code",
   "execution_count": null,
   "metadata": {},
   "outputs": [],
   "source": [
    "from darts.metrics import mape\n",
    "\n",
    "# แบ่งข้อมูลออกเป็น train และ test set\n",
    "train, val = series.split_before(0.9)\n",
    "plt.figure(figsize=(20, 10))  # ปรับขนาดของภาพ (กว้าง x สูง)\n",
    "train.plot(label=\"training\")\n",
    "val.plot(label=\"validation\")\n"
   ]
  },
  {
   "cell_type": "code",
   "execution_count": null,
   "metadata": {},
   "outputs": [],
   "source": [
    "# สร้างและฝึก Prophet Model\n",
    "model_prophet = Prophet()\n",
    "model_prophet.fit(train)"
   ]
  },
  {
   "cell_type": "code",
   "execution_count": null,
   "metadata": {},
   "outputs": [],
   "source": [
    "# # สร้างและฝึก Linear Regression Model\n",
    "# best_lag = 1\n",
    "# for i in range(1,31):\n",
    "#     model_lr = LinearRegressionModel(lags=i)\n",
    "#     model_lr.fit(train)\n",
    "\n",
    "\n",
    "#     # ทำนายค่าใน validation set\n",
    "#     pred_lr = model_lr.predict(len(val))\n",
    "\n",
    "#     # คำนวณค่า MAPE (Mean Absolute Percentage Error)\n",
    "#     error_lr = mape(val, pred_lr)\n",
    "#     if i==1:\n",
    "#         error_best_lag = error_lr\n",
    "#     else:\n",
    "#         if error_lr < error_best_lag:\n",
    "#             error_best_lag = error_lr; best_lag = i\n",
    "\n",
    "# print(f'Linear Regression MAPE: lag {best_lag} {error_best_lag}')"
   ]
  },
  {
   "cell_type": "code",
   "execution_count": null,
   "metadata": {},
   "outputs": [],
   "source": [
    "plt.figure(figsize=(20, 10))  # ปรับขนาดของภาพ (กว้าง x สูง)\n",
    "pred_lr = model_prophet.predict(len(val))\n",
    "pred_lr.plot(label=\"prediction\")\n",
    "train.plot(label=\"training\")\n",
    "val.plot(label=\"validation\")\n",
    "\n",
    "plt.legend()\n",
    "plt.title('Train, Validation, and Prediction')\n",
    "plt.xlabel('Date')\n",
    "plt.ylabel('จำนวน Order หน่วย Unit')\n",
    "plt.show()"
   ]
  },
  {
   "cell_type": "code",
   "execution_count": null,
   "metadata": {},
   "outputs": [],
   "source": [
    "# import pandas as pd\n",
    "# import matplotlib.pyplot as plt\n",
    "# from darts import TimeSeries\n",
    "# from darts.models import LinearRegressionModel\n",
    "# from darts.metrics import mape\n",
    "# import matplotlib.dates as mdates\n",
    "\n",
    "\n",
    "\n",
    "# # แบ่งข้อมูลออกเป็น train และ test set\n",
    "# train, val = series.split_before(0.8)\n",
    "\n",
    "# # สร้างฟังก์ชันสำหรับการทดสอบค่า lag ต่างๆ\n",
    "# def find_best_lag(train, val, max_lag):\n",
    "#     best_lag = 1\n",
    "#     best_mape = float('inf')\n",
    "\n",
    "#     for lag in range(1, max_lag + 1):\n",
    "#         model_lr = LinearRegressionModel(lags=lag)\n",
    "#         model_lr.fit(train)\n",
    "#         pred_lr = model_lr.predict(len(val))\n",
    "#         error_lr = mape(val, pred_lr)\n",
    "#         print(f'Lag: {lag}, MAPE: {error_lr}')\n",
    "\n",
    "#         if error_lr < best_mape:\n",
    "#             best_mape = error_lr\n",
    "#             best_lag = lag\n",
    "\n",
    "#     return best_lag, best_mape\n",
    "\n",
    "# # กำหนดค่า max_lag ที่ต้องการทดสอบ\n",
    "# max_lag = 24\n",
    "\n",
    "# # หา lag ที่ดีที่สุด\n",
    "# best_lag, best_mape = find_best_lag(train, val, max_lag)\n",
    "\n",
    "# print(f'Best Lag: {best_lag}, Best MAPE: {best_mape}')"
   ]
  },
  {
   "cell_type": "code",
   "execution_count": null,
   "metadata": {},
   "outputs": [],
   "source": [
    "from darts.metrics import mape, mse, mae, rmse\n",
    "model_prophet.fit(train)\n",
    "\n",
    "# ทำนายค่าใน validation set\n",
    "pred_prophet = model_prophet.predict(len(val))\n",
    "\n",
    "# คำนวณค่า MAPE (Mean Absolute Percentage Error)\n",
    "error_prophet = mape(val, pred_prophet)\n",
    "\n",
    "print(f'Prophet MAPE: {error_prophet}')\n",
    "print(f'MSE {mse(val, pred_lr)}')\n",
    "print(f'MAE {mae(val, pred_lr)}')\n",
    "print(f'RMSE {rmse(val, pred_lr)}')"
   ]
  },
  {
   "cell_type": "code",
   "execution_count": null,
   "metadata": {},
   "outputs": [],
   "source": [
    "series.pd_dataframe().tail()"
   ]
  },
  {
   "cell_type": "code",
   "execution_count": null,
   "metadata": {},
   "outputs": [],
   "source": [
    "# predict future\n",
    "model_prophet.fit(series)\n",
    "\n",
    "forecast = model_prophet.predict(7)\n",
    "forecast = forecast.pd_dataframe().reset_index()\n",
    "forecast.columns = ['Date', 'Total Order']\n",
    "forecast.tail(7)"
   ]
  },
  {
   "cell_type": "markdown",
   "metadata": {},
   "source": [
    "# Save Model and Load Model"
   ]
  },
  {
   "cell_type": "code",
   "execution_count": null,
   "metadata": {},
   "outputs": [],
   "source": [
    "# from darts.models import LinearRegressionModel, Prophet\n",
    "\n",
    "# model_prophet.save(\"Prophet_totalOrder_12Jun67.pkl\")"
   ]
  },
  {
   "cell_type": "code",
   "execution_count": null,
   "metadata": {},
   "outputs": [],
   "source": [
    "# model_loaded = Prophet.load(\"model/Prophet_totalOrder_12Jun67.pkl\")"
   ]
  }
 ],
 "metadata": {
  "kernelspec": {
   "display_name": "conda_dart",
   "language": "python",
   "name": "python3"
  },
  "language_info": {
   "codemirror_mode": {
    "name": "ipython",
    "version": 3
   },
   "file_extension": ".py",
   "mimetype": "text/x-python",
   "name": "python",
   "nbconvert_exporter": "python",
   "pygments_lexer": "ipython3",
   "version": "3.12.3"
  }
 },
 "nbformat": 4,
 "nbformat_minor": 2
}
