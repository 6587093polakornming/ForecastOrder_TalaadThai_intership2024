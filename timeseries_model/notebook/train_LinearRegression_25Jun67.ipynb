{
 "cells": [
  {
   "cell_type": "markdown",
   "metadata": {},
   "source": [
    "# Import Library"
   ]
  },
  {
   "cell_type": "code",
   "execution_count": null,
   "metadata": {},
   "outputs": [],
   "source": [
    "import pandas as pd\n",
    "import numpy as np\n",
    "import matplotlib.pyplot as plt"
   ]
  },
  {
   "cell_type": "markdown",
   "metadata": {},
   "source": [
    "# Import Data"
   ]
  },
  {
   "cell_type": "code",
   "execution_count": null,
   "metadata": {},
   "outputs": [],
   "source": [
    "from darts import TimeSeries\n",
    "\n",
    "df = pd.read_csv('../csv/Ming1Jul67_total_order.csv')\n",
    "df.tail()"
   ]
  },
  {
   "cell_type": "code",
   "execution_count": null,
   "metadata": {},
   "outputs": [],
   "source": [
    "df.head()"
   ]
  },
  {
   "cell_type": "code",
   "execution_count": null,
   "metadata": {},
   "outputs": [],
   "source": [
    "df.shape"
   ]
  },
  {
   "cell_type": "code",
   "execution_count": null,
   "metadata": {},
   "outputs": [],
   "source": [
    "df.info()"
   ]
  },
  {
   "cell_type": "code",
   "execution_count": null,
   "metadata": {},
   "outputs": [],
   "source": [
    "df['order_completed_at'] = pd.to_datetime(df['order_completed_at'])"
   ]
  },
  {
   "cell_type": "code",
   "execution_count": null,
   "metadata": {},
   "outputs": [],
   "source": [
    "# make timeseries Object\n",
    "series = TimeSeries.from_dataframe(df,\n",
    "                                   time_col='order_completed_at',\n",
    "                                   value_cols=['unique_order_count'],\n",
    "                                   freq=\"D\")"
   ]
  },
  {
   "cell_type": "markdown",
   "metadata": {},
   "source": [
    "# Viusalize Data"
   ]
  },
  {
   "cell_type": "markdown",
   "metadata": {},
   "source": [
    "### plot import data"
   ]
  },
  {
   "cell_type": "code",
   "execution_count": null,
   "metadata": {},
   "outputs": [],
   "source": [
    "import matplotlib.pyplot as plt\n",
    "import matplotlib.dates as mdates\n",
    "\n",
    "plt.figure(figsize=(20, 10)) \n",
    "series.plot()\n",
    "\n",
    "plt.gca().xaxis.set_major_formatter(mdates.DateFormatter('%b %Y'))\n",
    "plt.gca().xaxis.set_major_locator(mdates.MonthLocator())\n",
    "plt.gcf().autofmt_xdate() \n",
    "\n",
    "plt.title('Total Order By Date from 2022-2024')\n",
    "plt.xlabel('Date')\n",
    "plt.ylabel('Number of Orders (Unit)')\n",
    "\n",
    "plt.show()"
   ]
  },
  {
   "cell_type": "code",
   "execution_count": null,
   "metadata": {},
   "outputs": [],
   "source": [
    "from darts.utils.statistics import extract_trend_and_seasonality\n",
    "trends , seasonal = extract_trend_and_seasonality(series)\n",
    "\n",
    "\n",
    "# Plot the results\n",
    "plt.figure(figsize=(12, 8))\n",
    "\n",
    "# Original series\n",
    "plt.subplot(3, 1, 1)\n",
    "plt.plot(series.time_index, series.values(), label='Original Series')\n",
    "plt.title('Original Series')\n",
    "plt.legend()\n",
    "\n",
    "# Trend component\n",
    "plt.subplot(3, 1, 2)\n",
    "plt.plot(trends.time_index, trends.values(), label='Trend Component', color='orange')\n",
    "plt.title('Trend Component')\n",
    "plt.legend()\n",
    "\n",
    "# Seasonal component\n",
    "plt.subplot(3, 1, 3)\n",
    "plt.plot(seasonal.time_index, seasonal.values(), label='Seasonal Component', color='green')\n",
    "plt.title('Seasonal Component')\n",
    "plt.legend()\n",
    "\n",
    "# Adjust layout\n",
    "plt.tight_layout()\n",
    "plt.show()"
   ]
  },
  {
   "cell_type": "markdown",
   "metadata": {},
   "source": [
    "### stationary test"
   ]
  },
  {
   "cell_type": "code",
   "execution_count": null,
   "metadata": {},
   "outputs": [],
   "source": [
    "# Plot stationary and also the seasonality using ACF and PACF plots\n",
    "from darts.utils.statistics import check_seasonality, plot_acf, plot_residuals_analysis, plot_pacf\n",
    "\n",
    "#test stationary with autocorrelation function\n",
    "plot_acf(series, max_lag=60)\n",
    "plt.show()\n",
    "\n",
    "#กรณีข้อมูลเป็น Stationary จุดในแกน X (lags) มีค่า Y เป็น 0 หรือใกล้เคียง(ค่า Correlation -1,1)"
   ]
  },
  {
   "cell_type": "code",
   "execution_count": null,
   "metadata": {},
   "outputs": [],
   "source": [
    "plot_pacf(series, max_lag=60)\n",
    "plt.show()"
   ]
  },
  {
   "cell_type": "code",
   "execution_count": null,
   "metadata": {},
   "outputs": [],
   "source": [
    "# stationary test\n",
    "from statsmodels.tsa.stattools import adfuller\n",
    "\n",
    "result = adfuller(df[\"unique_order_count\"])\n",
    "print('ADF Statistic: %f' % result[0])\n",
    "print('p-value: %f' % result[1])\n",
    "\n",
    "#p-value > 0.05: Fail to reject the null hypothesis (H0), the data has a unit root and is non-stationary.\n",
    "#p-value <= 0.05: Reject the null hypothesis (H0), the data does not have a unit root and is stationary.\n",
    "#https://machinelearningmastery.com/time-series-data-stationary-python/"
   ]
  },
  {
   "cell_type": "markdown",
   "metadata": {},
   "source": [
    "### Training Test Split"
   ]
  },
  {
   "cell_type": "markdown",
   "metadata": {},
   "source": [
    "### Feature Engineering"
   ]
  },
  {
   "cell_type": "code",
   "execution_count": null,
   "metadata": {},
   "outputs": [],
   "source": [
    "# Function to replace outliers with the mean of the rest of the values\n",
    "from scipy.stats import zscore\n",
    "from darts import TimeSeries\n",
    "\n",
    "def replace_outliers_with_mean(df, column_name):\n",
    "    # Calculate Z-scores\n",
    "    z_scores = zscore(df[column_name])\n",
    "    \n",
    "    # Identify outliers (using a threshold of 3 for Z-score)\n",
    "    outliers = np.abs(z_scores) > 3\n",
    "    \n",
    "    # Calculate mean of non-outliers\n",
    "    mean_non_outliers = df.loc[~outliers, column_name].mean()\n",
    "    \n",
    "    # Replace outliers with the mean of non-outliers\n",
    "    df.loc[outliers, column_name] = mean_non_outliers\n",
    "    \n",
    "    return df\n",
    "\n",
    "# Replace outliers in 'gmv' column\n",
    "df_remove_out = replace_outliers_with_mean(df, 'unique_order_count')\n",
    "series_remove_outlier = TimeSeries.from_dataframe(df_remove_out,\n",
    "                                   time_col='order_completed_at',\n",
    "                                   value_cols=['unique_order_count'],\n",
    "                                   freq=\"D\")\n",
    "series = series_remove_outlier #!!!"
   ]
  },
  {
   "cell_type": "code",
   "execution_count": null,
   "metadata": {},
   "outputs": [],
   "source": [
    "from darts.dataprocessing.transformers import (Scaler,)\n",
    "\n",
    "scaler = Scaler()\n",
    "series_rescaled = scaler.fit_transform(series)\n",
    "series = series_rescaled"
   ]
  },
  {
   "cell_type": "markdown",
   "metadata": {},
   "source": [
    "### Split test"
   ]
  },
  {
   "cell_type": "code",
   "execution_count": null,
   "metadata": {},
   "outputs": [],
   "source": [
    "# training, validation =series.split_before(pd.Timestamp('2024-01-01'))\n",
    "cut_off = pd.Timestamp(\"2024-05-01\")\n",
    "# cut_off = pd.Timestamp(\"2024-05-01\")\n",
    "\n",
    "training, validation =series.split_before(cut_off)\n",
    "# training, validation =series.split_before(pd.Timestamp('2024-04-01')) # 2 month\n",
    "# training, validation =series.split_before(pd.Timestamp('2024-05-01')) # 1 month"
   ]
  },
  {
   "cell_type": "code",
   "execution_count": null,
   "metadata": {},
   "outputs": [],
   "source": [
    "#check date split\n",
    "validation_df = validation.pd_dataframe()\n",
    "training_df = training.pd_dataframe()\n",
    "print(training_df.tail())\n",
    "print(validation_df.head())"
   ]
  },
  {
   "cell_type": "code",
   "execution_count": null,
   "metadata": {},
   "outputs": [],
   "source": [
    "print(training_df.shape)\n",
    "print(validation_df.shape)"
   ]
  },
  {
   "cell_type": "code",
   "execution_count": null,
   "metadata": {},
   "outputs": [],
   "source": [
    "import matplotlib.dates as mdates\n",
    "\n",
    "plt.figure(figsize=(20, 10))  # ปรับขนาดของภาพ (กว้าง x สูง)\n",
    "training.plot()\n",
    "validation.plot()\n",
    "\n",
    "# ตั้งค่ารูปแบบของวันที่บนแกน x\n",
    "plt.gca().xaxis.set_major_formatter(mdates.DateFormatter('%b %Y'))\n",
    "plt.gca().xaxis.set_major_locator(mdates.MonthLocator())\n",
    "plt.gcf().autofmt_xdate()  # ปรับให้วันที่ไม่ซ้อนกัน\n",
    "\n",
    "# กำหนด Title และชื่อของแกน x และ y\n",
    "plt.title('Total Order By Date from 2022-2024')\n",
    "plt.xlabel('Date')\n",
    "plt.ylabel('Number of Orders (Unit)')\n",
    "\n",
    "plt.show()"
   ]
  },
  {
   "cell_type": "markdown",
   "metadata": {},
   "source": [
    "# Feature Engineering"
   ]
  },
  {
   "cell_type": "code",
   "execution_count": null,
   "metadata": {},
   "outputs": [],
   "source": [
    "# Feature Engineering is limited and hard to do, so skip"
   ]
  },
  {
   "cell_type": "markdown",
   "metadata": {},
   "source": [
    "# Modeling"
   ]
  },
  {
   "cell_type": "markdown",
   "metadata": {},
   "source": [
    "### LinearRegression Model"
   ]
  },
  {
   "cell_type": "code",
   "execution_count": null,
   "metadata": {},
   "outputs": [],
   "source": [
    "from darts.models import LinearRegressionModel\n",
    "\n",
    "model = LinearRegressionModel(lags=14, output_chunk_length=7, random_state=42) # must at least input lags\n",
    "model.fit(training)\n",
    "forecast = model.predict(len(validation))"
   ]
  },
  {
   "cell_type": "code",
   "execution_count": null,
   "metadata": {},
   "outputs": [],
   "source": [
    "# plot Actual and Predict\n",
    "import matplotlib.pyplot as plt\n",
    "\n",
    "plt.figure(figsize=(20, 10))  \n",
    "series.plot(label=\"Actual\")\n",
    "forecast.plot(label=\"forecast\", low_quantile=0.05, high_quantile=0.95)\n",
    "plt.legend()"
   ]
  },
  {
   "cell_type": "markdown",
   "metadata": {},
   "source": [
    "### Metric to Evaluate Model"
   ]
  },
  {
   "cell_type": "code",
   "execution_count": null,
   "metadata": {},
   "outputs": [],
   "source": [
    "from darts.metrics import mape, mae, mse, mase\n",
    "from math import sqrt\n",
    "#not recommendation\n",
    "\n",
    "mape_score = mape(validation, forecast)\n",
    "print(f'score MAPE: {mape_score}')\n",
    "\n",
    "mase_score = mase(validation, forecast, training)\n",
    "print(f'score MASE: {mase_score}')"
   ]
  },
  {
   "cell_type": "markdown",
   "metadata": {},
   "source": [
    "### Evaluating Model Performance \n",
    "historical_forecast() and backtest()"
   ]
  },
  {
   "cell_type": "code",
   "execution_count": null,
   "metadata": {},
   "outputs": [],
   "source": [
    "# historical forecast not found, only backtesting\n",
    "\n",
    "backtest_errors = model.backtest(\n",
    "     series,\n",
    "     start=pd.Timestamp(\"2024-05-01\"),          # เริ่มต้นที่ 80% ของข้อมูล\n",
    "     forecast_horizon=7, #จำนวนก้าวการพยากรณ์ในอนาคตที่ต้องการ\n",
    "     stride=1,           #ช่วงการเลื่อนในการทดสอบแต่ละครั้ง\n",
    "     last_points_only=False,  #  ให้แสดงเฉพาะจุดสิ้นสุดของการพยากรณ์หรือไม่ , เพราะต้องการแค่ทำนายวันพรุ่งนี้\n",
    "     metric=mape,\n",
    "     reduction=np.mean           #ฟังก์ชันการลดรูปผลลัพธ์ (เช่น mean การหาเฉลี่ย)\n",
    ")"
   ]
  },
  {
   "cell_type": "code",
   "execution_count": null,
   "metadata": {},
   "outputs": [],
   "source": [
    "print(f'backtest_errors MAPE: {round(backtest_errors,2)}%')"
   ]
  },
  {
   "cell_type": "code",
   "execution_count": null,
   "metadata": {},
   "outputs": [],
   "source": [
    "# historical forecast not found, only backtesting\n",
    "\n",
    "backtest_errors = model.backtest(\n",
    "     series,\n",
    "     start=pd.Timestamp(\"2024-0-01\"),          # เริ่มต้นที่ 80% ของข้อมูล\n",
    "     forecast_horizon=7, #จำนวนก้าวการพยากรณ์ในอนาคตที่ต้องการ\n",
    "     stride=1,           #ช่วงการเลื่อนในการทดสอบแต่ละครั้ง\n",
    "     last_points_only=False,  #  ให้แสดงเฉพาะจุดสิ้นสุดของการพยากรณ์หรือไม่ , เพราะต้องการแค่ทำนายวันพรุ่งนี้\n",
    "     metric=mse,\n",
    "     reduction=np.mean           #ฟังก์ชันการลดรูปผลลัพธ์ (เช่น mean การหาเฉลี่ย)\n",
    ")"
   ]
  },
  {
   "cell_type": "code",
   "execution_count": null,
   "metadata": {},
   "outputs": [],
   "source": [
    "print(f'backtest_errors MAPE: {round(backtest_errors,2)}%')"
   ]
  },
  {
   "cell_type": "markdown",
   "metadata": {},
   "source": [
    "# Tuning , Find Best Hyperparameter"
   ]
  },
  {
   "cell_type": "markdown",
   "metadata": {},
   "source": [
    "### GridSearch"
   ]
  },
  {
   "cell_type": "code",
   "execution_count": null,
   "metadata": {},
   "outputs": [],
   "source": [
    "# Making a parameter dictionary for use in the gridsearch function\n",
    "# Gridsearch will return the best model that hasn't been trained yet.\n",
    "from darts.models import LinearRegressionModel\n",
    "from darts.metrics import mape, mae, mse, mase\n",
    "from math import sqrt\n",
    "\n",
    "parameters = {\n",
    "    \"lags\": list(range(1, 36)),\n",
    "    \"output_chunk_length\": [7],\n",
    "    \"random_state\": [42]\n",
    "}\n",
    "\n",
    "best_parameter = LinearRegressionModel.gridsearch(\n",
    "    parameters=parameters,\n",
    "    series = series, #note (training + validation) X only training set!!!\n",
    "    start=0.8,\n",
    "    forecast_horizon=7,\n",
    "    stride=1,          \n",
    "    last_points_only=False,  \n",
    "    metric=mse,\n",
    "    verbose=-1\n",
    ")"
   ]
  },
  {
   "cell_type": "code",
   "execution_count": null,
   "metadata": {},
   "outputs": [],
   "source": [
    "print(best_parameter[0])\n",
    "print(best_parameter[1])\n",
    "print(f'MSE: {best_parameter[2]}')\n",
    "parameters_in = best_parameter[1].copy()\n",
    "print(parameters_in['lags'])"
   ]
  },
  {
   "cell_type": "code",
   "execution_count": null,
   "metadata": {},
   "outputs": [],
   "source": [
    "from darts.models import LinearRegressionModel\n",
    "\n",
    "# fit best model\n",
    "# best_model = best_parameter[0]\n",
    "best_model = LinearRegressionModel(lags=14, output_chunk_length=7, random_state=42)\n",
    "best_model.fit(training)"
   ]
  },
  {
   "cell_type": "code",
   "execution_count": null,
   "metadata": {},
   "outputs": [],
   "source": [
    "from darts.models import LinearRegressionModel\n",
    "from darts.metrics import mape, mae, mse, mase\n",
    "from math import sqrt\n",
    "\n",
    "# result from training , validation only\n",
    "prediction = best_model.predict(len(validation))\n",
    "\n",
    "# validation = scaler.inverse_transform(validation)\n",
    "# prediction = scaler.inverse_transform(prediction)\n",
    "\n",
    "mape_score = mape(validation, prediction)\n",
    "print(f'score MAPE: {round(mape_score, 4)}')\n",
    "print(f'score ACC: {100-(round(mape_score, 4))}')\n",
    "\n",
    "mse_score = mse(validation, prediction)\n",
    "print(f'score MSE: {round(mse_score, 4)}')\n",
    "\n",
    "print(f'score RMSE: {round(sqrt(mse_score), 4)}')\n",
    "\n",
    "mae_score = mae(validation, prediction)\n",
    "print(f'score MAE: {round(mae_score, 4)}')"
   ]
  },
  {
   "cell_type": "markdown",
   "metadata": {},
   "source": [
    "### rescaled train validation evaluate"
   ]
  },
  {
   "cell_type": "code",
   "execution_count": null,
   "metadata": {},
   "outputs": [],
   "source": [
    "validation_rescale = scaler.inverse_transform(validation)\n",
    "prediction_rescale = scaler.inverse_transform(prediction)\n",
    "\n",
    "mape_score = mape(validation_rescale, prediction_rescale)\n",
    "print(f'score MAPE: {round(mape_score, 4)}')\n",
    "print(f'score ACC: {100-(round(mape_score, 4))}')\n",
    "\n",
    "mse_score = mse(validation_rescale, prediction_rescale)\n",
    "print(f'score MSE: {round(mse_score, 4)}')\n",
    "\n",
    "print(f'score RMSE: {round(sqrt(mse_score), 4)}')\n",
    "\n",
    "mae_score = mae(validation_rescale, prediction_rescale)\n",
    "print(f'score MAE: {round(mae_score, 4)}')"
   ]
  },
  {
   "cell_type": "code",
   "execution_count": null,
   "metadata": {},
   "outputs": [],
   "source": [
    "# from darts.metrics import mape, mae, mse, mase\n",
    "# from math import sqrt\n",
    "\n",
    "# backtest_errors = best_model.backtest(\n",
    "#      series,\n",
    "#      start=0.9,          # เริ่มต้นที่ 90% ของข้อมูล\n",
    "#      forecast_horizon=7, #จำนวนก้าวการพยากรณ์ในอนาคตที่ต้องการ\n",
    "#      stride=1,           #ช่วงการเลื่อนในการทดสอบแต่ละครั้ง\n",
    "#      last_points_only=False,  #  ให้แสดงเฉพาะจุดสิ้นสุดของการพยากรณ์หรือไม่\n",
    "#      metric=mse,\n",
    "#      reduction=np.mean           #ฟังก์ชันการลดรูปผลลัพธ์ (เช่น mean การหาเฉลี่ย)\n",
    "# )\n",
    "# print(f'backtest_errors mse: {backtest_errors}')"
   ]
  },
  {
   "cell_type": "code",
   "execution_count": null,
   "metadata": {},
   "outputs": [],
   "source": [
    "# from darts.metrics import mape, mae, mse, mase\n",
    "# from math import sqrt\n",
    "\n",
    "# backtest_errors = best_model.backtest(\n",
    "#      scaler.inverse_transform(series),\n",
    "#      start=0.8,          # เริ่มต้นที่ 90% ของข้อมูล\n",
    "#      forecast_horizon=7, #จำนวนก้าวการพยากรณ์ในอนาคตที่ต้องการ\n",
    "#      stride=1,           #ช่วงการเลื่อนในการทดสอบแต่ละครั้ง\n",
    "#      last_points_only=False,  #  ให้แสดงเฉพาะจุดสิ้นสุดของการพยากรณ์หรือไม่\n",
    "#      metric=mape,\n",
    "#      reduction=np.mean           #ฟังก์ชันการลดรูปผลลัพธ์ (เช่น mean การหาเฉลี่ย)\n",
    "# )\n",
    "# print(f'backtest_errors mse: {backtest_errors}')"
   ]
  },
  {
   "cell_type": "code",
   "execution_count": null,
   "metadata": {},
   "outputs": [],
   "source": [
    "# linear reg , 4 lags , 80%split => mse:842.227, mape:22.97"
   ]
  },
  {
   "cell_type": "markdown",
   "metadata": {},
   "source": [
    "### mse"
   ]
  },
  {
   "cell_type": "code",
   "execution_count": null,
   "metadata": {},
   "outputs": [],
   "source": [
    "training, validation =series.split_before(pd.Timestamp('2024-05-01')) # 1 month"
   ]
  },
  {
   "cell_type": "code",
   "execution_count": null,
   "metadata": {},
   "outputs": [],
   "source": [
    "from darts.metrics import mape, mae, mse, mase\n",
    "from math import sqrt\n",
    "from darts.models import LinearRegressionModel\n",
    "\n",
    "training, validation =series.split_before(pd.Timestamp('2024-05-01')) # 1 month\n",
    "\n",
    "best_model = LinearRegressionModel.load(\"../model/linearRegressionModel_totalOrder_25Jun67_28lags.pkl\")\n",
    "backtest_errors = best_model.backtest(\n",
    "     series,\n",
    "     start=pd.Timestamp('2024-05-01'),          # เริ่มต้นที่ 90% ของข้อมูล\n",
    "     forecast_horizon=7, #จำนวนก้าวการพยากรณ์ในอนาคตที่ต้องการ\n",
    "     stride=1,           #ช่วงการเลื่อนในการทดสอบแต่ละครั้ง\n",
    "     last_points_only=False,  #  ให้แสดงเฉพาะจุดสิ้นสุดของการพยากรณ์หรือไม่\n",
    "     metric=mse,\n",
    "     reduction=np.mean           #ฟังก์ชันการลดรูปผลลัพธ์ (เช่น mean การหาเฉลี่ย)\n",
    ")\n",
    "print(f'backtest_errors MSE: {backtest_errors}')"
   ]
  },
  {
   "cell_type": "code",
   "execution_count": null,
   "metadata": {},
   "outputs": [],
   "source": [
    "# result from training , validation only\n",
    "prediction = best_model.predict(len(validation))\n",
    "\n",
    "mape_score = mape(validation, prediction)\n",
    "print(f'score MAPE: {round(mape_score, 4)}')\n",
    "print(f'score ACC: {100-(round(mape_score, 4))}')\n",
    "\n",
    "mse_score = mse(validation, prediction)\n",
    "print(f'score MSE: {round(mse_score, 4)}')\n",
    "\n",
    "print(f'score RMSE: {round(sqrt(mse_score), 4)}')\n",
    "\n",
    "mae_score = mae(validation, prediction)\n",
    "print(f'score MAE: {round(mae_score, 4)}')\n"
   ]
  },
  {
   "cell_type": "code",
   "execution_count": null,
   "metadata": {},
   "outputs": [],
   "source": [
    "# result from training , validation only\n",
    "prediction = best_model.predict(len(validation))\n",
    "\n",
    "mape_score = mape(validation, prediction)\n",
    "print(f'score MAPE: {round(mape_score, 4)}')\n",
    "print(f'score ACC: {100-(round(mape_score, 4))}')\n",
    "\n",
    "mse_score = mse(validation, prediction)\n",
    "print(f'score MSE: {round(mse_score, 4)}')\n",
    "\n",
    "print(f'score RMSE: {round(sqrt(mse_score), 4)}')\n",
    "\n",
    "mae_score = mae(validation, prediction)\n",
    "print(f'score MAE: {round(mae_score, 4)}')"
   ]
  },
  {
   "cell_type": "code",
   "execution_count": null,
   "metadata": {},
   "outputs": [],
   "source": [
    "plt.figure(figsize=(20, 10))  # ปรับขนาดของภาพ (กว้าง x สูง)\n",
    "##prediction\n",
    "prediction.plot(label=\"prediction\")\n",
    "training.plot(label=\"training\")\n",
    "validation.plot(label=\"validation\")\n",
    "\n",
    "plt.legend()\n",
    "plt.title('Train, Validation, and Prediction')\n",
    "plt.xlabel('Date')\n",
    "plt.ylabel('Order Unit')\n",
    "plt.show()"
   ]
  },
  {
   "cell_type": "code",
   "execution_count": null,
   "metadata": {},
   "outputs": [],
   "source": [
    "# predict future\n",
    "best_model.fit(series)\n"
   ]
  },
  {
   "cell_type": "code",
   "execution_count": null,
   "metadata": {},
   "outputs": [],
   "source": [
    "#check date\n",
    "series.pd_dataframe().tail(14)"
   ]
  },
  {
   "cell_type": "code",
   "execution_count": null,
   "metadata": {},
   "outputs": [],
   "source": [
    "forecast = best_model.predict(7)\n",
    "forecast  = scaler.inverse_transform(forecast)\n",
    "forecast = forecast.pd_dataframe().reset_index()\n",
    "forecast.columns = ['Date', 'Total Order']\n",
    "print(forecast.tail(7))\n",
    "\n",
    "forecast.tail(7).to_csv('../forecast/25-06-67_linear_1month.csv', index=False)"
   ]
  },
  {
   "cell_type": "markdown",
   "metadata": {},
   "source": [
    "### save model"
   ]
  },
  {
   "cell_type": "code",
   "execution_count": null,
   "metadata": {},
   "outputs": [],
   "source": [
    "#from darts.models import LinearRegressionModel, Prophet\n",
    "\n",
    "best_model.save(\"../model/linearRegressionModel_totalOrder_1Jul67_14lags.pkl\")\n",
    "# model_loaded = LinearRegressionModel.load(\"model/linearRegressionModel_totalOrder_12Jun67.pkl\")"
   ]
  }
 ],
 "metadata": {
  "kernelspec": {
   "display_name": "conda_dart",
   "language": "python",
   "name": "python3"
  },
  "language_info": {
   "codemirror_mode": {
    "name": "ipython",
    "version": 3
   },
   "file_extension": ".py",
   "mimetype": "text/x-python",
   "name": "python",
   "nbconvert_exporter": "python",
   "pygments_lexer": "ipython3",
   "version": "3.12.3"
  }
 },
 "nbformat": 4,
 "nbformat_minor": 2
}
