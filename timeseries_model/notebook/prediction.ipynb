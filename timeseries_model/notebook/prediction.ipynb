{
 "cells": [
  {
   "cell_type": "code",
   "execution_count": null,
   "metadata": {},
   "outputs": [],
   "source": [
    "from darts.models import (LinearRegressionModel,\n",
    "                          CatBoostModel, \n",
    "                          LightGBMModel, \n",
    "                          Prophet, \n",
    "                          RandomForest, \n",
    "                          XGBModel,\n",
    "                          ARIMA,\n",
    "                          AutoARIMA,\n",
    "                          Theta)\n",
    "\n",
    "# model_loaded = LinearRegressionModel.load(\"../model/linearRegressionModel_totalOrder_14Jun67.pkl\")"
   ]
  },
  {
   "cell_type": "code",
   "execution_count": null,
   "metadata": {},
   "outputs": [],
   "source": [
    "import pandas as pd\n",
    "import numpy as np\n",
    "import matplotlib.pyplot as plt"
   ]
  },
  {
   "cell_type": "code",
   "execution_count": null,
   "metadata": {},
   "outputs": [],
   "source": [
    "from darts import TimeSeries\n",
    "\n",
    "#file name data \"date\"-1 \n",
    "df = pd.read_csv('../csv/Ming25Jun67_total_order.csv')\n",
    "df.tail()"
   ]
  },
  {
   "cell_type": "code",
   "execution_count": null,
   "metadata": {},
   "outputs": [],
   "source": [
    "df.info()"
   ]
  },
  {
   "cell_type": "code",
   "execution_count": null,
   "metadata": {},
   "outputs": [],
   "source": [
    "df.shape"
   ]
  },
  {
   "cell_type": "code",
   "execution_count": null,
   "metadata": {},
   "outputs": [],
   "source": [
    "# predict future\n",
    "# make timeseries Object\n",
    "from darts import TimeSeries\n",
    "series = TimeSeries.from_dataframe(df,\n",
    "                                   time_col='order_completed_at',\n",
    "                                   value_cols=['unique_order_count'])"
   ]
  },
  {
   "cell_type": "code",
   "execution_count": null,
   "metadata": {},
   "outputs": [],
   "source": [
    "# model_loaded.fit(series)"
   ]
  },
  {
   "cell_type": "code",
   "execution_count": null,
   "metadata": {},
   "outputs": [],
   "source": [
    "# forecast = model_loaded.predict(7)\n",
    "# forecast = forecast.pd_dataframe().reset_index()\n",
    "# forecast.columns = ['Date', 'Total Order']\n",
    "# forecast.tail(7)"
   ]
  },
  {
   "cell_type": "code",
   "execution_count": null,
   "metadata": {},
   "outputs": [],
   "source": [
    "# model_loaded.save(\"../model/linearRegressionModel_totalOrder_16Jun67.pkl\")"
   ]
  },
  {
   "cell_type": "markdown",
   "metadata": {},
   "source": [
    "# Loop Predict and Save to csv"
   ]
  },
  {
   "cell_type": "code",
   "execution_count": null,
   "metadata": {},
   "outputs": [],
   "source": [
    "from darts import TimeSeries\n",
    "from darts.models import LinearRegressionModel, ExponentialSmoothing, CatBoostModel, LightGBMModel, Prophet, RandomForest\n",
    "import pandas as pd\n",
    "import numpy as np\n",
    "import matplotlib.pyplot as plt\n",
    "\n",
    "#file name data \"date\"-1 \n",
    "df = pd.read_csv('../csv/Ming25Jun67_total_order.csv')\n",
    "print(df.tail())\n",
    "\n",
    "from darts import TimeSeries\n",
    "series = TimeSeries.from_dataframe(df,\n",
    "                                   time_col='order_completed_at',\n",
    "                                   value_cols=['unique_order_count'],\n",
    "                                   freq=\"D\")\n",
    "\n",
    "\n"
   ]
  },
  {
   "cell_type": "code",
   "execution_count": null,
   "metadata": {},
   "outputs": [],
   "source": [
    "# Function to replace outliers with the mean of the rest of the values\n",
    "from scipy.stats import zscore\n",
    "from darts import TimeSeries\n",
    "\n",
    "def replace_outliers_with_mean(df, column_name):\n",
    "    # Calculate Z-scores\n",
    "    z_scores = zscore(df[column_name])\n",
    "    \n",
    "    # Identify outliers (using a threshold of 3 for Z-score)\n",
    "    outliers = np.abs(z_scores) > 3\n",
    "    \n",
    "    # Calculate mean of non-outliers\n",
    "    mean_non_outliers = df.loc[~outliers, column_name].mean()\n",
    "    \n",
    "    # Replace outliers with the mean of non-outliers\n",
    "    df.loc[outliers, column_name] = mean_non_outliers\n",
    "    \n",
    "    return df\n",
    "\n",
    "# Replace outliers in 'gmv' column\n",
    "df_remove_out = replace_outliers_with_mean(df, 'unique_order_count')\n",
    "series_remove_outlier = TimeSeries.from_dataframe(df_remove_out,\n",
    "                                   time_col='order_completed_at',\n",
    "                                   value_cols=['unique_order_count'],\n",
    "                                   freq=\"D\")"
   ]
  },
  {
   "cell_type": "code",
   "execution_count": null,
   "metadata": {},
   "outputs": [],
   "source": [
    "series = series_remove_outlier"
   ]
  },
  {
   "cell_type": "code",
   "execution_count": null,
   "metadata": {},
   "outputs": [],
   "source": [
    "from darts.dataprocessing.transformers import (Scaler,)\n",
    "\n",
    "scaler = Scaler()\n",
    "series_rescaled = scaler.fit_transform(series)"
   ]
  },
  {
   "cell_type": "code",
   "execution_count": null,
   "metadata": {},
   "outputs": [],
   "source": [
    "series_rescaled.head()"
   ]
  },
  {
   "cell_type": "code",
   "execution_count": null,
   "metadata": {},
   "outputs": [],
   "source": [
    "\n",
    "# Import module\n",
    "import pickle\n",
    "\n",
    "# loaded_model = pickle.load(open(\"\", 'rb'))\n",
    "\n",
    "def load_model_predict(path: str, timeseries, name: str):\n",
    "    loaded_model = pickle.load(open(path, 'rb'))\n",
    "    loaded_model.fit(timeseries)\n",
    "    loaded_model.save(path)\n",
    "\n",
    "    forecast = loaded_model.predict(7)\n",
    "    forecast  = scaler.inverse_transform(forecast)\n",
    "    forecast = forecast.pd_dataframe().reset_index()\n",
    "    forecast.columns = ['Date', 'Total Order']\n",
    "\n",
    "    print(name)\n",
    "    print(forecast)\n",
    "    print()\n",
    "\n",
    "    #!!! check date\n",
    "    date = \"2024-06-25\"\n",
    "    forecast.tail(7).to_csv(f'../forecast/{date}_{name}.csv', index=False)\n",
    "    return forecast.tail(7)\n",
    "\n",
    "\n",
    "import os\n",
    "# Assign directory\n",
    "directory = r\"D:\\Ming\\ProgramLang_And_IDE\\Python67\\pythonEnv_darts\\model\"\n",
    "out_df = pd.DataFrame()\n",
    "first_col_date = True\n",
    "# Iterate over files in directory\n",
    "for name in os.listdir(directory):\n",
    "\n",
    "    # Get the full file path\n",
    "    file_path = os.path.join(directory, name)\n",
    "\n",
    "    # Print the file path\n",
    "    print(file_path)\n",
    "    predict_df= load_model_predict(file_path, series_rescaled, name)\n",
    "    if first_col_date: \n",
    "        out_df[\"Date\"] = predict_df[\"Date\"];first_col_date=False\n",
    "    out_df[name] = predict_df[\"Total Order\"]\n",
    "\n",
    "date = \"2024-06-25\"\n",
    "out_df.tail(7).to_csv(f'../forecast/{date}.csv', index=False)\n",
    " "
   ]
  }
 ],
 "metadata": {
  "kernelspec": {
   "display_name": "conda_dart",
   "language": "python",
   "name": "python3"
  },
  "language_info": {
   "codemirror_mode": {
    "name": "ipython",
    "version": 3
   },
   "file_extension": ".py",
   "mimetype": "text/x-python",
   "name": "python",
   "nbconvert_exporter": "python",
   "pygments_lexer": "ipython3",
   "version": "3.12.3"
  }
 },
 "nbformat": 4,
 "nbformat_minor": 2
}
