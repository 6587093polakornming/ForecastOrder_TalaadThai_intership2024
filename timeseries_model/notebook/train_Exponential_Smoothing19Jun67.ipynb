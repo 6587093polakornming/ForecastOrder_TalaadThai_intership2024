{
 "cells": [
  {
   "cell_type": "code",
   "execution_count": null,
   "metadata": {},
   "outputs": [],
   "source": [
    "import pandas as pd\n",
    "import numpy as np\n",
    "import matplotlib.pyplot as plt"
   ]
  },
  {
   "cell_type": "code",
   "execution_count": null,
   "metadata": {},
   "outputs": [],
   "source": [
    "from darts import TimeSeries\n",
    "\n",
    "df = pd.read_csv('../csv/Ming1Jul67_total_order.csv')\n",
    "df.tail()"
   ]
  },
  {
   "cell_type": "code",
   "execution_count": null,
   "metadata": {},
   "outputs": [],
   "source": [
    "df.head()"
   ]
  },
  {
   "cell_type": "code",
   "execution_count": null,
   "metadata": {},
   "outputs": [],
   "source": [
    "df.shape"
   ]
  },
  {
   "cell_type": "code",
   "execution_count": null,
   "metadata": {},
   "outputs": [],
   "source": [
    "df.info()"
   ]
  },
  {
   "cell_type": "code",
   "execution_count": null,
   "metadata": {},
   "outputs": [],
   "source": [
    "df['order_completed_at'] = pd.to_datetime(df['order_completed_at'])\n",
    "# make timeseries Object\n",
    "series = TimeSeries.from_dataframe(df,\n",
    "                                   time_col='order_completed_at',\n",
    "                                   value_cols=['unique_order_count'],\n",
    "                                   freq=\"D\")"
   ]
  },
  {
   "cell_type": "code",
   "execution_count": null,
   "metadata": {},
   "outputs": [],
   "source": [
    "import matplotlib.pyplot as plt\n",
    "import matplotlib.dates as mdates\n",
    "\n",
    "plt.figure(figsize=(20, 10)) \n",
    "series.plot()\n",
    "\n",
    "plt.gca().xaxis.set_major_formatter(mdates.DateFormatter('%b %Y'))\n",
    "plt.gca().xaxis.set_major_locator(mdates.MonthLocator())\n",
    "plt.gcf().autofmt_xdate() \n",
    "\n",
    "plt.title('Total Order By Date from 2022-2024')\n",
    "plt.xlabel('Date')\n",
    "plt.ylabel('Number of Orders (Unit)')\n",
    "\n",
    "plt.show()"
   ]
  },
  {
   "cell_type": "code",
   "execution_count": null,
   "metadata": {},
   "outputs": [],
   "source": [
    "# Function to replace outliers with the mean of the rest of the values\n",
    "from scipy.stats import zscore\n",
    "from darts import TimeSeries\n",
    "\n",
    "def replace_outliers_with_mean(df, column_name):\n",
    "    # Calculate Z-scores\n",
    "    z_scores = zscore(df[column_name])\n",
    "    \n",
    "    # Identify outliers (using a threshold of 3 for Z-score)\n",
    "    outliers = np.abs(z_scores) > 3\n",
    "    \n",
    "    # Calculate mean of non-outliers\n",
    "    mean_non_outliers = df.loc[~outliers, column_name].mean()\n",
    "    \n",
    "    # Replace outliers with the mean of non-outliers\n",
    "    df.loc[outliers, column_name] = mean_non_outliers\n",
    "    \n",
    "    return df\n",
    "\n",
    "# Replace outliers in 'gmv' column\n",
    "df_remove_out = replace_outliers_with_mean(df, 'unique_order_count')\n",
    "series_remove_outlier = TimeSeries.from_dataframe(df_remove_out,\n",
    "                                   time_col='order_completed_at',\n",
    "                                   value_cols=['unique_order_count'],\n",
    "                                   freq=\"D\")\n",
    "series = series_remove_outlier"
   ]
  },
  {
   "cell_type": "code",
   "execution_count": null,
   "metadata": {},
   "outputs": [],
   "source": [
    "# from darts.dataprocessing.transformers import (Scaler,)\n",
    "\n",
    "# scaler = Scaler()\n",
    "# series = series_remove_outlier #!!!\n",
    "# series_rescaled = scaler.fit_transform(series)"
   ]
  },
  {
   "cell_type": "code",
   "execution_count": null,
   "metadata": {},
   "outputs": [],
   "source": [
    "# series = series_rescaled\n",
    "cut_off  = pd.Timestamp('2024-05-01')\n",
    "training, validation =series.split_before(cut_off)\n",
    "# training, validation =series.split_before(pd.Timestamp('2024-05-01')) # 1 month\n",
    "# training, validation =series.split_before(pd.Timestamp('2024-04-01')) # 2 month\n",
    "\n",
    "validation_df = validation.pd_dataframe()\n",
    "training_df = training.pd_dataframe()\n",
    "print(training_df.tail())\n",
    "print(validation_df.head())"
   ]
  },
  {
   "cell_type": "code",
   "execution_count": null,
   "metadata": {},
   "outputs": [],
   "source": [
    "print(training_df.shape)\n",
    "print(validation_df.shape)"
   ]
  },
  {
   "cell_type": "code",
   "execution_count": null,
   "metadata": {},
   "outputs": [],
   "source": [
    "import matplotlib.dates as mdates\n",
    "\n",
    "plt.figure(figsize=(20, 10))  # ปรับขนาดของภาพ (กว้าง x สูง)\n",
    "training.plot()\n",
    "validation.plot()\n",
    "\n",
    "# ตั้งค่ารูปแบบของวันที่บนแกน x\n",
    "plt.gca().xaxis.set_major_formatter(mdates.DateFormatter('%b %Y'))\n",
    "plt.gca().xaxis.set_major_locator(mdates.MonthLocator())\n",
    "plt.gcf().autofmt_xdate()  # ปรับให้วันที่ไม่ซ้อนกัน\n",
    "\n",
    "# กำหนด Title และชื่อของแกน x และ y\n",
    "plt.title('Total Order By Date from 2022-2024')\n",
    "plt.xlabel('Date')\n",
    "plt.ylabel('Number of Orders (Unit)')\n",
    "\n",
    "plt.show()"
   ]
  },
  {
   "cell_type": "code",
   "execution_count": null,
   "metadata": {},
   "outputs": [],
   "source": [
    "# from darts.models import ExponentialSmoothing\n",
    "\n",
    "# model = ExponentialSmoothing(\n",
    "\n",
    "#     random_state=42\n",
    "# )\n",
    "# model.fit(training)\n",
    "# forecast = model.predict(len(validation))"
   ]
  },
  {
   "cell_type": "code",
   "execution_count": null,
   "metadata": {},
   "outputs": [],
   "source": [
    "from darts.metrics import mape, mae, mse, mase\n",
    "from math import sqrt\n",
    "from darts.utils.utils import ModelMode, SeasonalityMode\n",
    "from darts.models import ExponentialSmoothing"
   ]
  },
  {
   "cell_type": "code",
   "execution_count": null,
   "metadata": {},
   "outputs": [],
   "source": [
    "parameters = {\n",
    "    \"trend\":[ModelMode.ADDITIVE, ModelMode.MULTIPLICATIVE],\n",
    "    \"seasonal\": [SeasonalityMode.ADDITIVE, SeasonalityMode.MULTIPLICATIVE],\n",
    "    'seasonal_periods': list(range(2,31)),\n",
    "    \"random_state\": [42]\n",
    "}\n",
    "\n",
    "best_parameter = ExponentialSmoothing.gridsearch(\n",
    "    parameters=parameters,\n",
    "    series = series, #note (training + validation) X only training set!!!\n",
    "    start=cut_off,\n",
    "    forecast_horizon=7,\n",
    "    stride=1,          \n",
    "    last_points_only=False,  \n",
    "    metric=mse,\n",
    "    verbose=-1\n",
    ")"
   ]
  },
  {
   "cell_type": "code",
   "execution_count": null,
   "metadata": {},
   "outputs": [],
   "source": [
    "best_model = ExponentialSmoothing(\n",
    "    trend=ModelMode.ADDITIVE, \n",
    "    seasonal=SeasonalityMode.MULTIPLICATIVE, \n",
    "    seasonal_periods=3, \n",
    "    random_state= 42\n",
    ")\n",
    "best_model.fit(training)"
   ]
  },
  {
   "cell_type": "code",
   "execution_count": null,
   "metadata": {},
   "outputs": [],
   "source": [
    "print(best_parameter)"
   ]
  },
  {
   "cell_type": "code",
   "execution_count": null,
   "metadata": {},
   "outputs": [],
   "source": [
    "best_model = best_parameter[0]\n",
    "best_model.fit(training)"
   ]
  },
  {
   "cell_type": "code",
   "execution_count": null,
   "metadata": {},
   "outputs": [],
   "source": [
    "# result from training , validation only\n",
    "prediction = best_model.predict(len(validation))\n",
    "\n",
    "mape_score = mape(validation, prediction)\n",
    "print(f'score MAPE: {round(mape_score, 4)}')\n",
    "print(f'score ACC: {100-(round(mape_score, 4))}')\n",
    "\n",
    "mse_score = mse(validation, prediction)\n",
    "print(f'score MSE: {round(mse_score, 4)}')\n",
    "\n",
    "print(f'score RMSE: {round(sqrt(mse_score), 4)}')\n",
    "\n",
    "mae_score = mae(validation, prediction)\n",
    "print(f'score MAE: {round(mae_score, 4)}')"
   ]
  },
  {
   "cell_type": "code",
   "execution_count": null,
   "metadata": {},
   "outputs": [],
   "source": [
    "from darts.metrics import mape, mae, mse, mase\n",
    "from math import sqrt\n",
    "\n",
    "backtest_errors = best_model.backtest(\n",
    "     series,\n",
    "     start=0.8,          # เริ่มต้นที่ 90% ของข้อมูล\n",
    "     forecast_horizon=7, #จำนวนก้าวการพยากรณ์ในอนาคตที่ต้องการ\n",
    "     stride=1,           #ช่วงการเลื่อนในการทดสอบแต่ละครั้ง\n",
    "     last_points_only=False,  #  ให้แสดงเฉพาะจุดสิ้นสุดของการพยากรณ์หรือไม่\n",
    "     metric=mape,\n",
    "     reduction=np.mean,           #ฟังก์ชันการลดรูปผลลัพธ์ (เช่น mean การหาเฉลี่ย)\n",
    "     verbose=-1\n",
    ")\n",
    "print(f'backtest_errors MAPE: {backtest_errors}')"
   ]
  },
  {
   "cell_type": "code",
   "execution_count": null,
   "metadata": {},
   "outputs": [],
   "source": [
    "plt.figure(figsize=(20, 10))  # ปรับขนาดของภาพ (กว้าง x สูง)\n",
    "##prediction\n",
    "prediction.plot(label=\"prediction\")\n",
    "training.plot(label=\"training\")\n",
    "validation.plot(label=\"validation\")\n",
    "\n",
    "plt.legend()\n",
    "plt.title('Train, Validation, and Prediction')\n",
    "plt.xlabel('Date')\n",
    "plt.ylabel('Order Unit')\n",
    "plt.show()"
   ]
  },
  {
   "cell_type": "code",
   "execution_count": null,
   "metadata": {},
   "outputs": [],
   "source": [
    "# predict future\n",
    "best_model.fit(series)"
   ]
  },
  {
   "cell_type": "code",
   "execution_count": null,
   "metadata": {},
   "outputs": [],
   "source": [
    "#check date\n",
    "series.pd_dataframe().tail(14)"
   ]
  },
  {
   "cell_type": "code",
   "execution_count": null,
   "metadata": {},
   "outputs": [],
   "source": [
    "forecast = best_model.predict(7)\n",
    "# forecast  = scaler.inverse_transform(forecast)\n",
    "forecast = forecast.pd_dataframe().reset_index()\n",
    "forecast.columns = ['Date', 'Total Order']\n",
    "print(forecast.tail(7))\n",
    "\n",
    "forecast.tail(7).to_csv('../forecast/Date_ExponentialSmoothing_1month.csv', index=False)"
   ]
  },
  {
   "cell_type": "code",
   "execution_count": null,
   "metadata": {},
   "outputs": [],
   "source": [
    "best_model.save(\"../model/Exponential_Smoothing_totalOrder_1Jul67.pkl\")"
   ]
  },
  {
   "cell_type": "code",
   "execution_count": null,
   "metadata": {},
   "outputs": [],
   "source": [
    "from darts.metrics import mape, mae, mse, mase\n",
    "from math import sqrt\n",
    "from darts.models import ExponentialSmoothing\n",
    "\n",
    "training, validation =series.split_before(pd.Timestamp('2024-05-01')) # 1 month\n",
    "\n",
    "best_model = ExponentialSmoothing.load(\"../model_old/exponentialSmooth/Exponential_Smoothing_totalOrder_25Jun67.pkl\")\n",
    "backtest_errors = best_model.backtest(\n",
    "     series,\n",
    "     start=pd.Timestamp('2024-05-01'),          # เริ่มต้นที่ 90% ของข้อมูล\n",
    "     forecast_horizon=7, #จำนวนก้าวการพยากรณ์ในอนาคตที่ต้องการ\n",
    "     stride=1,           #ช่วงการเลื่อนในการทดสอบแต่ละครั้ง\n",
    "     last_points_only=False,  #  ให้แสดงเฉพาะจุดสิ้นสุดของการพยากรณ์หรือไม่\n",
    "     metric=mse,\n",
    "     reduction=np.mean           #ฟังก์ชันการลดรูปผลลัพธ์ (เช่น mean การหาเฉลี่ย)\n",
    ")\n",
    "print(f'backtest_errors MSE: {backtest_errors}')"
   ]
  }
 ],
 "metadata": {
  "kernelspec": {
   "display_name": "conda_dart",
   "language": "python",
   "name": "python3"
  },
  "language_info": {
   "codemirror_mode": {
    "name": "ipython",
    "version": 3
   },
   "file_extension": ".py",
   "mimetype": "text/x-python",
   "name": "python",
   "nbconvert_exporter": "python",
   "pygments_lexer": "ipython3",
   "version": "3.12.3"
  }
 },
 "nbformat": 4,
 "nbformat_minor": 2
}
