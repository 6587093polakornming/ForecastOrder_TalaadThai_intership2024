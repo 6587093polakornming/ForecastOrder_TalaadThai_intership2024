{
 "cells": [
  {
   "cell_type": "code",
   "execution_count": 31,
   "metadata": {},
   "outputs": [],
   "source": [
    "import pandas as pd\n",
    "import matplotlib.pyplot as plt\n",
    "from darts import TimeSeries\n",
    "import numpy as np"
   ]
  },
  {
   "cell_type": "code",
   "execution_count": 32,
   "metadata": {},
   "outputs": [
    {
     "name": "stdout",
     "output_type": "stream",
     "text": [
      "  order_completed_at  unique_order_count\n",
      "0         2023-01-01                  15\n",
      "1         2023-01-02                  32\n",
      "2         2023-01-03                  89\n",
      "3         2023-01-04                  73\n",
      "4         2023-01-05                  67\n",
      "    order_completed_at  unique_order_count\n",
      "544         2024-06-28                 142\n",
      "545         2024-06-29                 126\n",
      "546         2024-06-30                 161\n",
      "547         2024-07-01                 142\n",
      "548         2024-07-02                 158\n",
      "<class 'pandas.core.frame.DataFrame'>\n",
      "RangeIndex: 549 entries, 0 to 548\n",
      "Data columns (total 2 columns):\n",
      " #   Column              Non-Null Count  Dtype         \n",
      "---  ------              --------------  -----         \n",
      " 0   order_completed_at  549 non-null    datetime64[ns]\n",
      " 1   unique_order_count  549 non-null    int64         \n",
      "dtypes: datetime64[ns](1), int64(1)\n",
      "memory usage: 8.7 KB\n",
      "None\n"
     ]
    }
   ],
   "source": [
    "df = pd.read_csv(\"../csv/Ming2Jul67_total_order.csv\")\n",
    "df['order_completed_at'] = pd.to_datetime(df['order_completed_at'])\n",
    "print(df.head())\n",
    "print(df.tail())\n",
    "print(df.info())"
   ]
  },
  {
   "cell_type": "code",
   "execution_count": 33,
   "metadata": {},
   "outputs": [],
   "source": [
    "df['year']=df['order_completed_at'].dt.year \n",
    "df['month']=df['order_completed_at'].dt.month \n",
    "df['day']=df['order_completed_at'].dt.day\n",
    "df['dayofweek_num']=df['order_completed_at'].dt.dayofweek"
   ]
  },
  {
   "cell_type": "code",
   "execution_count": 34,
   "metadata": {},
   "outputs": [
    {
     "name": "stdout",
     "output_type": "stream",
     "text": [
      "  order_completed_at  unique_order_count  year  month  day  dayofweek_num\n",
      "0         2023-01-01                  15  2023      1    1              6\n",
      "1         2023-01-02                  32  2023      1    2              0\n",
      "2         2023-01-03                  89  2023      1    3              1\n",
      "3         2023-01-04                  73  2023      1    4              2\n",
      "4         2023-01-05                  67  2023      1    5              3\n",
      "    order_completed_at  unique_order_count  year  month  day  dayofweek_num\n",
      "544         2024-06-28                 142  2024      6   28              4\n",
      "545         2024-06-29                 126  2024      6   29              5\n",
      "546         2024-06-30                 161  2024      6   30              6\n",
      "547         2024-07-01                 142  2024      7    1              0\n",
      "548         2024-07-02                 158  2024      7    2              1\n",
      "<class 'pandas.core.frame.DataFrame'>\n",
      "RangeIndex: 549 entries, 0 to 548\n",
      "Data columns (total 6 columns):\n",
      " #   Column              Non-Null Count  Dtype         \n",
      "---  ------              --------------  -----         \n",
      " 0   order_completed_at  549 non-null    datetime64[ns]\n",
      " 1   unique_order_count  549 non-null    int64         \n",
      " 2   year                549 non-null    int32         \n",
      " 3   month               549 non-null    int32         \n",
      " 4   day                 549 non-null    int32         \n",
      " 5   dayofweek_num       549 non-null    int32         \n",
      "dtypes: datetime64[ns](1), int32(4), int64(1)\n",
      "memory usage: 17.3 KB\n",
      "None\n"
     ]
    }
   ],
   "source": [
    "def print_df_info(df):\n",
    "    print(df.head())\n",
    "    print(df.tail())\n",
    "    print(df.info())\n",
    "\n",
    "print_df_info(df)"
   ]
  },
  {
   "cell_type": "code",
   "execution_count": 35,
   "metadata": {},
   "outputs": [],
   "source": [
    "df['midmonth'] = df['order_completed_at'].apply(lambda x: 1 if x.day == 15 else 0) # promotion midmonth\n",
    "df['payday'] = df['order_completed_at'].apply(lambda x: 1 if x.day >= 25 else 0)\n",
    "df['double_date'] = df['order_completed_at'].apply(lambda x: 1 if x.month == x.day else 0)"
   ]
  },
  {
   "cell_type": "code",
   "execution_count": 36,
   "metadata": {},
   "outputs": [
    {
     "name": "stdout",
     "output_type": "stream",
     "text": [
      "  order_completed_at  unique_order_count  year  month  day  dayofweek_num  \\\n",
      "0         2023-01-01                  15  2023      1    1              6   \n",
      "1         2023-01-02                  32  2023      1    2              0   \n",
      "2         2023-01-03                  89  2023      1    3              1   \n",
      "3         2023-01-04                  73  2023      1    4              2   \n",
      "4         2023-01-05                  67  2023      1    5              3   \n",
      "\n",
      "   midmonth  payday  double_date  \n",
      "0         0       0            1  \n",
      "1         0       0            0  \n",
      "2         0       0            0  \n",
      "3         0       0            0  \n",
      "4         0       0            0  \n",
      "    order_completed_at  unique_order_count  year  month  day  dayofweek_num  \\\n",
      "544         2024-06-28                 142  2024      6   28              4   \n",
      "545         2024-06-29                 126  2024      6   29              5   \n",
      "546         2024-06-30                 161  2024      6   30              6   \n",
      "547         2024-07-01                 142  2024      7    1              0   \n",
      "548         2024-07-02                 158  2024      7    2              1   \n",
      "\n",
      "     midmonth  payday  double_date  \n",
      "544         0       1            0  \n",
      "545         0       1            0  \n",
      "546         0       1            0  \n",
      "547         0       0            0  \n",
      "548         0       0            0  \n",
      "<class 'pandas.core.frame.DataFrame'>\n",
      "RangeIndex: 549 entries, 0 to 548\n",
      "Data columns (total 9 columns):\n",
      " #   Column              Non-Null Count  Dtype         \n",
      "---  ------              --------------  -----         \n",
      " 0   order_completed_at  549 non-null    datetime64[ns]\n",
      " 1   unique_order_count  549 non-null    int64         \n",
      " 2   year                549 non-null    int32         \n",
      " 3   month               549 non-null    int32         \n",
      " 4   day                 549 non-null    int32         \n",
      " 5   dayofweek_num       549 non-null    int32         \n",
      " 6   midmonth            549 non-null    int64         \n",
      " 7   payday              549 non-null    int64         \n",
      " 8   double_date         549 non-null    int64         \n",
      "dtypes: datetime64[ns](1), int32(4), int64(4)\n",
      "memory usage: 30.2 KB\n",
      "None\n"
     ]
    }
   ],
   "source": [
    "print_df_info(df)"
   ]
  },
  {
   "cell_type": "code",
   "execution_count": 37,
   "metadata": {},
   "outputs": [],
   "source": [
    "df.to_csv('../csv/2Jul67_feature.csv', index=False)"
   ]
  }
 ],
 "metadata": {
  "kernelspec": {
   "display_name": "conda_dart",
   "language": "python",
   "name": "python3"
  },
  "language_info": {
   "codemirror_mode": {
    "name": "ipython",
    "version": 3
   },
   "file_extension": ".py",
   "mimetype": "text/x-python",
   "name": "python",
   "nbconvert_exporter": "python",
   "pygments_lexer": "ipython3",
   "version": "3.12.3"
  }
 },
 "nbformat": 4,
 "nbformat_minor": 2
}
