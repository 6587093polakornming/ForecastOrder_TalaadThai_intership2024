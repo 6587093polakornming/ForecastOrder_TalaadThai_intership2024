{
 "cells": [
  {
   "cell_type": "code",
   "execution_count": null,
   "metadata": {},
   "outputs": [],
   "source": [
    "import pandas as pd\n",
    "import matplotlib.pyplot as plt\n",
    "from darts import TimeSeries\n",
    "import numpy as np"
   ]
  },
  {
   "cell_type": "code",
   "execution_count": null,
   "metadata": {},
   "outputs": [],
   "source": [
    "df = pd.read_csv(\"../csv/Ming2Jul67_total_order.csv\")\n",
    "df['order_completed_at'] = pd.to_datetime(df['order_completed_at'])\n",
    "print(df.head())\n",
    "print(df.tail())\n",
    "print(df.info())"
   ]
  },
  {
   "cell_type": "code",
   "execution_count": null,
   "metadata": {},
   "outputs": [],
   "source": [
    "df['year']=df['order_completed_at'].dt.year \n",
    "df['month']=df['order_completed_at'].dt.month \n",
    "df['day']=df['order_completed_at'].dt.day\n",
    "df['dayofweek_num']=df['order_completed_at'].dt.dayofweek"
   ]
  },
  {
   "cell_type": "code",
   "execution_count": null,
   "metadata": {},
   "outputs": [],
   "source": [
    "def print_df_info(df):\n",
    "    print(df.head())\n",
    "    print(df.tail())\n",
    "    print(df.info())\n",
    "\n",
    "print_df_info(df)"
   ]
  },
  {
   "cell_type": "code",
   "execution_count": null,
   "metadata": {},
   "outputs": [],
   "source": [
    "df['midmonth'] = df['order_completed_at'].apply(lambda x: 1 if x.day == 15 else 0) # promotion midmonth\n",
    "df['payday'] = df['order_completed_at'].apply(lambda x: 1 if x.day >= 25 else 0)\n",
    "df['double_date'] = df['order_completed_at'].apply(lambda x: 1 if x.month == x.day else 0)"
   ]
  },
  {
   "cell_type": "code",
   "execution_count": null,
   "metadata": {},
   "outputs": [],
   "source": [
    "print_df_info(df)"
   ]
  },
  {
   "cell_type": "code",
   "execution_count": null,
   "metadata": {},
   "outputs": [],
   "source": [
    "df.to_csv('../csv/2Jul67_feature.csv', index=False)"
   ]
  }
 ],
 "metadata": {
  "kernelspec": {
   "display_name": "conda_dart",
   "language": "python",
   "name": "python3"
  },
  "language_info": {
   "codemirror_mode": {
    "name": "ipython",
    "version": 3
   },
   "file_extension": ".py",
   "mimetype": "text/x-python",
   "name": "python",
   "nbconvert_exporter": "python",
   "pygments_lexer": "ipython3",
   "version": "3.12.3"
  }
 },
 "nbformat": 4,
 "nbformat_minor": 2
}
