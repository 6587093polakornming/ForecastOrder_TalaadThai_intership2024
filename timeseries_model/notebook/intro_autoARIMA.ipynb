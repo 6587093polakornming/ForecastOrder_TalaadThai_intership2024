{
 "cells": [
  {
   "cell_type": "code",
   "execution_count": null,
   "metadata": {},
   "outputs": [],
   "source": [
    "\"https://builtin.com/data-science/time-series-python\""
   ]
  },
  {
   "cell_type": "code",
   "execution_count": null,
   "metadata": {},
   "outputs": [],
   "source": [
    "import pandas as pd\n",
    "df = pd.read_csv(\"../csv/Ming25Jun67_total_order.csv\")\n",
    "df.head()"
   ]
  },
  {
   "cell_type": "code",
   "execution_count": null,
   "metadata": {},
   "outputs": [],
   "source": [
    "df.tail()"
   ]
  },
  {
   "cell_type": "code",
   "execution_count": null,
   "metadata": {},
   "outputs": [],
   "source": [
    "df['order_completed_at'] = pd.to_datetime(df['order_completed_at'])"
   ]
  },
  {
   "cell_type": "code",
   "execution_count": null,
   "metadata": {},
   "outputs": [],
   "source": [
    "df.info()"
   ]
  },
  {
   "cell_type": "code",
   "execution_count": null,
   "metadata": {},
   "outputs": [],
   "source": [
    "df.index = df['order_completed_at']\n",
    "del df['order_completed_at']\n",
    "print(df.head())"
   ]
  },
  {
   "cell_type": "code",
   "execution_count": null,
   "metadata": {},
   "outputs": [],
   "source": [
    "import matplotlib.pyplot as plt\n",
    "import seaborn as sns "
   ]
  },
  {
   "cell_type": "code",
   "execution_count": null,
   "metadata": {},
   "outputs": [],
   "source": [
    "plt.figure(figsize=(20, 10)) \n",
    "\n",
    "sns.lineplot(df)\n",
    "plt.title('Total Order By Date from 2022-2024')\n",
    "plt.xlabel('Date')\n",
    "plt.ylabel(\"Number Of Orders.\")"
   ]
  },
  {
   "cell_type": "markdown",
   "metadata": {},
   "source": [
    "### Stationarity test"
   ]
  },
  {
   "cell_type": "code",
   "execution_count": null,
   "metadata": {},
   "outputs": [],
   "source": [
    "rolling_mean = df.rolling(7).mean()\n",
    "rolling_std = df.rolling(7).std()"
   ]
  },
  {
   "cell_type": "code",
   "execution_count": null,
   "metadata": {},
   "outputs": [],
   "source": [
    "plt.figure(figsize=(10, 5)) \n",
    "plt.plot(df, color=\"blue\",label=\"Original Orders Data\")"
   ]
  },
  {
   "cell_type": "code",
   "execution_count": null,
   "metadata": {},
   "outputs": [],
   "source": [
    "plt.figure(figsize=(10, 5)) \n",
    "plt.plot(rolling_mean, color=\"red\", label=\"Rolling Mean Orders Number\")"
   ]
  },
  {
   "cell_type": "code",
   "execution_count": null,
   "metadata": {},
   "outputs": [],
   "source": [
    "plt.figure(figsize=(10, 5)) \n",
    "plt.plot(rolling_std, color=\"black\", label = \"Rolling Standard Deviation in Orders Number\")"
   ]
  },
  {
   "cell_type": "code",
   "execution_count": null,
   "metadata": {},
   "outputs": [],
   "source": [
    "plt.figure(figsize=(12, 6)) \n",
    "plt.plot(df, color=\"blue\",label=\"Original Orders Data\")\n",
    "plt.plot(rolling_mean, color=\"red\", label=\"Rolling Mean Orders Number\")\n",
    "plt.plot(rolling_std, color=\"black\", label = \"Rolling Standard Deviation in Orders Number\")\n",
    "plt.title(\"Orders Time Series, Rolling Mean, Standard Deviation\")\n",
    "plt.legend(loc=\"best\")"
   ]
  },
  {
   "cell_type": "code",
   "execution_count": null,
   "metadata": {},
   "outputs": [],
   "source": [
    "from statsmodels.tsa.stattools import adfuller\n",
    "\n",
    "adft = adfuller(df,autolag=\"AIC\")\n",
    "\n",
    "output_df = pd.DataFrame({\"Values\":[adft[0],adft[1],adft[2],adft[3], adft[4]['1%'], adft[4]['5%'], adft[4]['10%']]  , \"Metric\":[\"Test Statistics\",\"p-value\",\"No. of lags used\",\"Number of observations used\", \n",
    "                                                        \"critical value (1%)\", \"critical value (5%)\", \"critical value (10%)\"]})\n",
    "print(output_df)\n"
   ]
  },
  {
   "cell_type": "code",
   "execution_count": null,
   "metadata": {},
   "outputs": [],
   "source": [
    "autocorrelation_lag1 = df['unique_order_count'].autocorr(lag=1)\n",
    "print(\"One Day Lag: \", autocorrelation_lag1)"
   ]
  },
  {
   "cell_type": "code",
   "execution_count": null,
   "metadata": {},
   "outputs": [],
   "source": [
    "for i in range(1,34):\n",
    "    autocorrelation_lag = df['unique_order_count'].autocorr(lag=i)\n",
    "    print(f\"{i} Day Lag: \", autocorrelation_lag)\n",
    "    print()"
   ]
  },
  {
   "cell_type": "code",
   "execution_count": null,
   "metadata": {},
   "outputs": [],
   "source": [
    "import matplotlib.pyplot as plt\n",
    "from statsmodels.tsa.seasonal import seasonal_decompose\n",
    "\n",
    "# Decompose the time series data\n",
    "decompose = seasonal_decompose(df['unique_order_count'], model='additive', period=7)\n",
    "\n",
    "# Create a new figure with specified size\n",
    "fig, axes = plt.subplots(4, 1, figsize=(15, 10))  # Adjust the size as needed\n",
    "\n",
    "# Plot the observed, trend, seasonal, and residual components\n",
    "decompose.observed.plot(ax=axes[0], title='Observed')\n",
    "decompose.trend.plot(ax=axes[1], title='Trend')\n",
    "decompose.seasonal.plot(ax=axes[2], title='Seasonal')\n",
    "decompose.resid.plot(ax=axes[3], title='Residual')\n",
    "\n",
    "# Adjust layout to avoid overlap\n",
    "plt.tight_layout()\n",
    "\n",
    "# Show the plot\n",
    "plt.show()\n"
   ]
  },
  {
   "cell_type": "code",
   "execution_count": null,
   "metadata": {},
   "outputs": [],
   "source": [
    "df['Date'] = df.index\n",
    "train = df[df['Date'] < pd.Timestamp(\"2024-05-01\")]\n",
    "train['train'] = train['unique_order_count']\n",
    "del train['Date']\n",
    "del train['unique_order_count']\n",
    "\n",
    "test = df[df['Date'] >= pd.Timestamp(\"2024-05-01\")]\n",
    "del test['Date']\n",
    "test['test'] = test['unique_order_count']\n",
    "del test['unique_order_count']\n",
    "\n",
    "plt.figure(figsize=(15, 10)) \n",
    "plt.plot(train, color = \"black\")\n",
    "plt.plot(test, color = \"red\")\n",
    "plt.title(\"Train/Test split for Orders Data\")\n",
    "plt.ylabel(\"Number Of Orders\")\n",
    "plt.xlabel('Date')\n",
    "sns.set()\n",
    "plt.show()"
   ]
  },
  {
   "cell_type": "code",
   "execution_count": null,
   "metadata": {},
   "outputs": [],
   "source": [
    "from pmdarima.arima import auto_arima\n",
    "model = auto_arima(train, trace=True, error_action='ignore', suppress_warnings=True)\n",
    "model.fit(train)\n",
    "forecast = model.predict(n_periods=len(test))\n",
    "forecast = pd.DataFrame(forecast,index = test.index,columns=['Prediction'])"
   ]
  },
  {
   "cell_type": "code",
   "execution_count": null,
   "metadata": {},
   "outputs": [],
   "source": [
    "plt.figure(figsize=(15, 10)) \n",
    "plt.plot(train)\n",
    "plt.plot(test)\n",
    "plt.plot(forecast)\n",
    "plt.title(\"Train/Test split for Orders Data\")\n",
    "plt.ylabel(\"Number Of Orders\")\n",
    "plt.xlabel('Date')\n",
    "sns.set()\n",
    "plt.show()"
   ]
  },
  {
   "cell_type": "code",
   "execution_count": null,
   "metadata": {},
   "outputs": [],
   "source": [
    "from math import sqrt\n",
    "from sklearn.metrics import mean_squared_error\n",
    "mse = mean_squared_error(test,forecast)\n",
    "rms = sqrt(mse)\n",
    "\n",
    "print(\"RMSE: \", rms)\n",
    "print(\"MSE: \", mse)"
   ]
  },
  {
   "cell_type": "code",
   "execution_count": null,
   "metadata": {},
   "outputs": [],
   "source": [
    "from pmdarima.arima import auto_arima\n",
    "model = auto_arima(df, trace=True, error_action='ignore', suppress_warnings=True)\n",
    "model.fit(df)\n",
    "forecast = model.predict(n_periods=7)\n",
    "\n",
    "forecast = pd.DataFrame(forecast, columns=['Prediction'])"
   ]
  },
  {
   "cell_type": "code",
   "execution_count": null,
   "metadata": {},
   "outputs": [],
   "source": [
    "print(forecast)"
   ]
  }
 ],
 "metadata": {
  "kernelspec": {
   "display_name": "conda_dart",
   "language": "python",
   "name": "python3"
  },
  "language_info": {
   "codemirror_mode": {
    "name": "ipython",
    "version": 3
   },
   "file_extension": ".py",
   "mimetype": "text/x-python",
   "name": "python",
   "nbconvert_exporter": "python",
   "pygments_lexer": "ipython3",
   "version": "3.12.3"
  }
 },
 "nbformat": 4,
 "nbformat_minor": 2
}
