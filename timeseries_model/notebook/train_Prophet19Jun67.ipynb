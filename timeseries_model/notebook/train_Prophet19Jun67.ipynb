{
 "cells": [
  {
   "cell_type": "code",
   "execution_count": null,
   "metadata": {},
   "outputs": [],
   "source": [
    "import pandas as pd\n",
    "import numpy as np\n",
    "import matplotlib.pyplot as plt"
   ]
  },
  {
   "cell_type": "code",
   "execution_count": null,
   "metadata": {},
   "outputs": [],
   "source": [
    "from darts import TimeSeries\n",
    "\n",
    "df = pd.read_csv('../csv/Ming19Jun67_total_order.csv')\n",
    "df.tail()"
   ]
  },
  {
   "cell_type": "code",
   "execution_count": null,
   "metadata": {},
   "outputs": [],
   "source": [
    "df.head()"
   ]
  },
  {
   "cell_type": "code",
   "execution_count": null,
   "metadata": {},
   "outputs": [],
   "source": [
    "df.shape"
   ]
  },
  {
   "cell_type": "code",
   "execution_count": null,
   "metadata": {},
   "outputs": [],
   "source": [
    "df.info()"
   ]
  },
  {
   "cell_type": "code",
   "execution_count": null,
   "metadata": {},
   "outputs": [],
   "source": [
    "df['order_completed_at'] = pd.to_datetime(df['order_completed_at'])\n",
    "# make timeseries Object\n",
    "series = TimeSeries.from_dataframe(df,\n",
    "                                   time_col='order_completed_at',\n",
    "                                   value_cols=['unique_order_count'],\n",
    "                                   freq=\"D\")"
   ]
  },
  {
   "cell_type": "code",
   "execution_count": null,
   "metadata": {},
   "outputs": [],
   "source": [
    "import matplotlib.pyplot as plt\n",
    "import matplotlib.dates as mdates\n",
    "\n",
    "plt.figure(figsize=(20, 10)) \n",
    "series.plot()\n",
    "\n",
    "plt.gca().xaxis.set_major_formatter(mdates.DateFormatter('%b %Y'))\n",
    "plt.gca().xaxis.set_major_locator(mdates.MonthLocator())\n",
    "plt.gcf().autofmt_xdate() \n",
    "\n",
    "plt.title('Total Order By Date from 2022-2024')\n",
    "plt.xlabel('Date')\n",
    "plt.ylabel('Number of Orders (Unit)')\n",
    "\n",
    "plt.show()"
   ]
  },
  {
   "cell_type": "code",
   "execution_count": null,
   "metadata": {},
   "outputs": [],
   "source": [
    "# training, validation =series.split_before(0.9)\n",
    "# training, validation =series.split_before(pd.Timestamp('2024-05-01')) # 1 month\n",
    "training, validation =series.split_before(pd.Timestamp('2024-05-01')) # 2 month\n",
    "\n",
    "validation_df = validation.pd_dataframe()\n",
    "training_df = training.pd_dataframe()\n",
    "print(training_df.tail())\n",
    "print(validation_df.head())"
   ]
  },
  {
   "cell_type": "code",
   "execution_count": null,
   "metadata": {},
   "outputs": [],
   "source": [
    "print(validation_df.shape)"
   ]
  },
  {
   "cell_type": "code",
   "execution_count": null,
   "metadata": {},
   "outputs": [],
   "source": [
    "plt.figure(figsize=(20, 10))  # ปรับขนาดของภาพ (กว้าง x สูง)\n",
    "training.plot()\n",
    "validation.plot()\n",
    "\n",
    "# ตั้งค่ารูปแบบของวันที่บนแกน x\n",
    "plt.gca().xaxis.set_major_formatter(mdates.DateFormatter('%b %Y'))\n",
    "plt.gca().xaxis.set_major_locator(mdates.MonthLocator())\n",
    "plt.gcf().autofmt_xdate()  # ปรับให้วันที่ไม่ซ้อนกัน\n",
    "\n",
    "# กำหนด Title และชื่อของแกน x และ y\n",
    "plt.title('Total Order By Date from 2022-2024')\n",
    "plt.xlabel('Date')\n",
    "plt.ylabel('Number of Orders (Unit)')\n",
    "\n",
    "plt.show()"
   ]
  },
  {
   "cell_type": "code",
   "execution_count": null,
   "metadata": {},
   "outputs": [],
   "source": [
    "# from darts.models import Prophet\n",
    "# from darts.metrics import mape, mae, mse, mase\n",
    "# from math import sqrt\n",
    "# from darts.utils.utils import ModelMode, SeasonalityMode\n",
    "\n",
    "# parameters = {\n",
    "#     \"trend\":[ModelMode.ADDITIVE, ModelMode.ADDITIVE],\n",
    "#     \"seasonal\": [SeasonalityMode.ADDITIVE, SeasonalityMode.MULTIPLICATIVE],\n",
    "#     'seasonal_periods': [4, 7, 12, 24, 30],\n",
    "#     \"random_state\": [42]\n",
    "# }\n",
    "\n",
    "# best_parameter = Prophet.gridsearch(\n",
    "#     parameters=parameters,\n",
    "#     series = series, #note (training + validation) X only training set!!!\n",
    "#     start=pd.Timestamp(\"2024-05-01\"),\n",
    "#     forecast_horizon=7,\n",
    "#     stride=1,          \n",
    "#     last_points_only=False,  \n",
    "#     metric=mape,\n",
    "#     verbose=-1\n",
    "# )"
   ]
  },
  {
   "cell_type": "code",
   "execution_count": null,
   "metadata": {},
   "outputs": [],
   "source": [
    "from darts.models import Prophet\n",
    "from darts.metrics import mape, mae, mse, mase\n",
    "from math import sqrt\n",
    "\n",
    "model = Prophet(country_holidays=\"TH\")\n",
    "model.fit(training)"
   ]
  },
  {
   "cell_type": "code",
   "execution_count": null,
   "metadata": {},
   "outputs": [],
   "source": [
    "from darts.metrics import mape, mae, mse, mase\n",
    "from math import sqrt\n",
    "\n",
    "backtest_errors = model.backtest(\n",
    "     series,\n",
    "     start=pd.Timestamp('2024-05-01'),          # เริ่มต้นที่ 90% ของข้อมูล\n",
    "     forecast_horizon=7, #จำนวนก้าวการพยากรณ์ในอนาคตที่ต้องการ\n",
    "     stride=1,           #ช่วงการเลื่อนในการทดสอบแต่ละครั้ง\n",
    "     last_points_only=False,  #  ให้แสดงเฉพาะจุดสิ้นสุดของการพยากรณ์หรือไม่\n",
    "     metric=mape,\n",
    "     reduction=np.mean           #ฟังก์ชันการลดรูปผลลัพธ์ (เช่น mean การหาเฉลี่ย)\n",
    ")"
   ]
  },
  {
   "cell_type": "code",
   "execution_count": null,
   "metadata": {},
   "outputs": [],
   "source": [
    "print(f'backtest_errors MAPE: {backtest_errors}')"
   ]
  },
  {
   "cell_type": "code",
   "execution_count": null,
   "metadata": {},
   "outputs": [],
   "source": [
    "# result from training , validation only\n",
    "prediction = model.predict(len(validation))\n",
    "\n",
    "mape_score = mape(validation, prediction)\n",
    "print(f'score MAPE: {round(mape_score, 4)}')\n",
    "print(f'score ACC: {100-(round(mape_score, 4))}')\n",
    "\n",
    "mse_score = mse(validation, prediction)\n",
    "print(f'score MSE: {round(mse_score, 4)}')\n",
    "\n",
    "print(f'score RMSE: {round(sqrt(mse_score), 4)}')\n",
    "\n",
    "mae_score = mae(validation, prediction)\n",
    "print(f'score MAE: {round(mae_score, 4)}')"
   ]
  },
  {
   "cell_type": "code",
   "execution_count": null,
   "metadata": {},
   "outputs": [],
   "source": [
    "plt.figure(figsize=(20, 10))  # ปรับขนาดของภาพ (กว้าง x สูง)\n",
    "##prediction\n",
    "prediction.plot(label=\"prediction\")\n",
    "training.plot(label=\"training\")\n",
    "validation.plot(label=\"validation\")\n",
    "\n",
    "plt.legend()\n",
    "plt.title('Train, Validation, and Prediction')\n",
    "plt.xlabel('Date')\n",
    "plt.ylabel('Order Unit')\n",
    "plt.show()"
   ]
  },
  {
   "cell_type": "code",
   "execution_count": null,
   "metadata": {},
   "outputs": [],
   "source": [
    "# predict future\n",
    "model.fit(series)"
   ]
  },
  {
   "cell_type": "code",
   "execution_count": null,
   "metadata": {},
   "outputs": [],
   "source": [
    "#check date\n",
    "series.pd_dataframe().tail(14)"
   ]
  },
  {
   "cell_type": "code",
   "execution_count": null,
   "metadata": {},
   "outputs": [],
   "source": [
    "forecast = model.predict(7)\n",
    "# forecast  = scaler.inverse_transform(forecast)\n",
    "forecast = forecast.pd_dataframe().reset_index()\n",
    "forecast.columns = ['Date', 'Total Order']\n",
    "forecast.tail(7)\n",
    "\n",
    "forecast.to_csv('../forecast/19-25-06-67_prophet.csv', index=False)"
   ]
  },
  {
   "cell_type": "code",
   "execution_count": null,
   "metadata": {},
   "outputs": [],
   "source": [
    "model.save(\"../model/Prophet_19Jun67_1month.pkl\")"
   ]
  }
 ],
 "metadata": {
  "kernelspec": {
   "display_name": "conda_dart",
   "language": "python",
   "name": "python3"
  },
  "language_info": {
   "codemirror_mode": {
    "name": "ipython",
    "version": 3
   },
   "file_extension": ".py",
   "mimetype": "text/x-python",
   "name": "python",
   "nbconvert_exporter": "python",
   "pygments_lexer": "ipython3",
   "version": "3.12.3"
  }
 },
 "nbformat": 4,
 "nbformat_minor": 2
}
