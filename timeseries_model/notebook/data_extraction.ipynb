{
 "cells": [
  {
   "cell_type": "code",
   "execution_count": 1,
   "metadata": {},
   "outputs": [],
   "source": [
    "import pandas as pd\n",
    "import matplotlib.pyplot as plt\n",
    "from darts import TimeSeries\n",
    "import numpy as np"
   ]
  },
  {
   "cell_type": "code",
   "execution_count": 2,
   "metadata": {},
   "outputs": [
    {
     "name": "stdout",
     "output_type": "stream",
     "text": [
      "  order_completed_at  unique_order_count\n",
      "0         2023-01-01                  15\n",
      "1         2023-01-02                  32\n",
      "2         2023-01-03                  89\n",
      "3         2023-01-04                  73\n",
      "4         2023-01-05                  67\n",
      "    order_completed_at  unique_order_count\n",
      "543         2024-06-27                 145\n",
      "544         2024-06-28                 142\n",
      "545         2024-06-29                 126\n",
      "546         2024-06-30                 161\n",
      "547         2024-07-01                 142\n"
     ]
    }
   ],
   "source": [
    "date_file = '../csv/Ming1Jul67_total_order.csv'\n",
    "df = pd.read_csv(date_file)\n",
    "print(df.head())\n",
    "print(df.tail())"
   ]
  },
  {
   "cell_type": "code",
   "execution_count": 3,
   "metadata": {},
   "outputs": [
    {
     "name": "stdout",
     "output_type": "stream",
     "text": [
      "<class 'pandas.core.frame.DataFrame'>\n",
      "RangeIndex: 548 entries, 0 to 547\n",
      "Data columns (total 2 columns):\n",
      " #   Column              Non-Null Count  Dtype \n",
      "---  ------              --------------  ----- \n",
      " 0   order_completed_at  548 non-null    object\n",
      " 1   unique_order_count  548 non-null    int64 \n",
      "dtypes: int64(1), object(1)\n",
      "memory usage: 8.7+ KB\n"
     ]
    }
   ],
   "source": [
    "df.info()"
   ]
  },
  {
   "cell_type": "code",
   "execution_count": null,
   "metadata": {},
   "outputs": [],
   "source": [
    "# import pandas as pd\n",
    "\n",
    "# # อ่านข้อมูลจากไฟล์ CSV\n",
    "# df = pd.read_csv('csv/Ming12Jun67_V8_Group.csv')\n",
    "\n",
    "# # แปลงคอลัมน์ order_completed_at เป็น datetime\n",
    "# df['order_completed_at'] = pd.to_datetime(df['order_completed_at'])\n",
    "\n",
    "# # Group by คอลัมน์ order_completed_at และนับจำนวน order ที่ไม่ซ้ำกัน และรวมค่า total_quantity_variants\n",
    "# grouped_df = df.groupby(df['order_completed_at']).agg({\n",
    "#     'number': 'nunique'\n",
    "# }).reset_index()\n",
    "\n",
    "# # เปลี่ยนชื่อคอลัมน์\n",
    "# grouped_df.columns = ['order_completed_at', 'unique_order_count']\n",
    "\n",
    "# # แปลงคอลัมน์ order_completed_at เป็น datetime\n",
    "# df['order_completed_at'] = pd.to_datetime(df['order_completed_at'])\n",
    "\n",
    "# # เรียงลำดับวันที่\n",
    "# grouped_df = grouped_df.sort_values('order_completed_at')\n",
    "\n",
    "\n",
    "# date_to_find = pd.Timestamp('2024-06-12').date()\n",
    "# grouped_df = grouped_df[grouped_df['order_completed_at'].dt.date < date_to_find]\n",
    "\n",
    "# # แสดง DataFrame ที่ได้\n",
    "# print(grouped_df.head())\n",
    "# print(grouped_df.tail())\n",
    "# print(grouped_df.info())"
   ]
  },
  {
   "cell_type": "code",
   "execution_count": 31,
   "metadata": {},
   "outputs": [
    {
     "name": "stdout",
     "output_type": "stream",
     "text": [
      "<class 'pandas.core.frame.DataFrame'>\n",
      "RangeIndex: 529 entries, 0 to 528\n",
      "Data columns (total 2 columns):\n",
      " #   Column              Non-Null Count  Dtype         \n",
      "---  ------              --------------  -----         \n",
      " 0   order_completed_at  529 non-null    datetime64[ns]\n",
      " 1   unique_order_count  529 non-null    int64         \n",
      "dtypes: datetime64[ns](1), int64(1)\n",
      "memory usage: 8.4 KB\n"
     ]
    }
   ],
   "source": [
    "# grouped_df.info()"
   ]
  },
  {
   "cell_type": "code",
   "execution_count": 13,
   "metadata": {},
   "outputs": [],
   "source": [
    "# grouped_df.to_csv('csv/Ming13Jun67_total_order.csv', index=False)"
   ]
  },
  {
   "cell_type": "code",
   "execution_count": 4,
   "metadata": {},
   "outputs": [],
   "source": [
    "# ข้อมูลใหม่ที่ต้องการเพิ่ม\n",
    "new_data = pd.DataFrame({\n",
    "    'order_completed_at': [ \"2024-07-02\"],\n",
    "    'unique_order_count': [158]\n",
    "})\n",
    "\n",
    "# เพิ่มข้อมูลใหม่เข้าไปใน DataFrame\n",
    "grouped_df = pd.concat([df, new_data], ignore_index=True)"
   ]
  },
  {
   "cell_type": "code",
   "execution_count": 5,
   "metadata": {},
   "outputs": [
    {
     "name": "stdout",
     "output_type": "stream",
     "text": [
      "  order_completed_at  unique_order_count\n",
      "0         2023-01-01                  15\n",
      "1         2023-01-02                  32\n",
      "2         2023-01-03                  89\n",
      "3         2023-01-04                  73\n",
      "4         2023-01-05                  67\n",
      "    order_completed_at  unique_order_count\n",
      "535         2024-06-19                 138\n",
      "536         2024-06-20                 120\n",
      "537         2024-06-21                 152\n",
      "538         2024-06-22                 138\n",
      "539         2024-06-23                 126\n",
      "540         2024-06-24                 149\n",
      "541         2024-06-25                 138\n",
      "542         2024-06-26                 166\n",
      "543         2024-06-27                 145\n",
      "544         2024-06-28                 142\n",
      "545         2024-06-29                 126\n",
      "546         2024-06-30                 161\n",
      "547         2024-07-01                 142\n",
      "548         2024-07-02                 158\n",
      "<class 'pandas.core.frame.DataFrame'>\n",
      "RangeIndex: 549 entries, 0 to 548\n",
      "Data columns (total 2 columns):\n",
      " #   Column              Non-Null Count  Dtype \n",
      "---  ------              --------------  ----- \n",
      " 0   order_completed_at  549 non-null    object\n",
      " 1   unique_order_count  549 non-null    int64 \n",
      "dtypes: int64(1), object(1)\n",
      "memory usage: 8.7+ KB\n",
      "None\n"
     ]
    }
   ],
   "source": [
    "# แสดง DataFrame ที่ได้\n",
    "print(grouped_df.head())\n",
    "print(grouped_df.tail(14))\n",
    "print(grouped_df.info())"
   ]
  },
  {
   "cell_type": "code",
   "execution_count": 6,
   "metadata": {},
   "outputs": [
    {
     "name": "stdout",
     "output_type": "stream",
     "text": [
      "<class 'pandas.core.frame.DataFrame'>\n",
      "RangeIndex: 549 entries, 0 to 548\n",
      "Data columns (total 2 columns):\n",
      " #   Column              Non-Null Count  Dtype         \n",
      "---  ------              --------------  -----         \n",
      " 0   order_completed_at  549 non-null    datetime64[ns]\n",
      " 1   unique_order_count  549 non-null    int64         \n",
      "dtypes: datetime64[ns](1), int64(1)\n",
      "memory usage: 8.7 KB\n",
      "None\n"
     ]
    }
   ],
   "source": [
    "grouped_df['order_completed_at'] = pd.to_datetime(grouped_df['order_completed_at'])\n",
    "print(grouped_df.info())"
   ]
  },
  {
   "cell_type": "code",
   "execution_count": 7,
   "metadata": {},
   "outputs": [
    {
     "name": "stdout",
     "output_type": "stream",
     "text": [
      "    order_completed_at  unique_order_count\n",
      "544         2024-06-28                 142\n",
      "545         2024-06-29                 126\n",
      "546         2024-06-30                 161\n",
      "547         2024-07-01                 142\n",
      "548         2024-07-02                 158\n"
     ]
    }
   ],
   "source": [
    "print(grouped_df.tail())"
   ]
  },
  {
   "cell_type": "code",
   "execution_count": 8,
   "metadata": {},
   "outputs": [],
   "source": [
    "grouped_df.to_csv('../csv/Ming2Jul67_total_order.csv', index=False)"
   ]
  }
 ],
 "metadata": {
  "kernelspec": {
   "display_name": "conda_dart",
   "language": "python",
   "name": "python3"
  },
  "language_info": {
   "codemirror_mode": {
    "name": "ipython",
    "version": 3
   },
   "file_extension": ".py",
   "mimetype": "text/x-python",
   "name": "python",
   "nbconvert_exporter": "python",
   "pygments_lexer": "ipython3",
   "version": "3.12.3"
  }
 },
 "nbformat": 4,
 "nbformat_minor": 2
}
