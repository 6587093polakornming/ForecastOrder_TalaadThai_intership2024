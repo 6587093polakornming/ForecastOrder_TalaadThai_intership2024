{
 "cells": [
  {
   "cell_type": "code",
   "execution_count": null,
   "metadata": {},
   "outputs": [],
   "source": [
    "import pandas as pd\n",
    "import matplotlib.pyplot as plt\n",
    "from darts import TimeSeries\n",
    "import numpy as np"
   ]
  },
  {
   "cell_type": "code",
   "execution_count": null,
   "metadata": {},
   "outputs": [],
   "source": [
    "date_file = '../csv/Ming1Jul67_total_order.csv'\n",
    "df = pd.read_csv(date_file)\n",
    "print(df.head())\n",
    "print(df.tail())"
   ]
  },
  {
   "cell_type": "code",
   "execution_count": null,
   "metadata": {},
   "outputs": [],
   "source": [
    "df.info()"
   ]
  },
  {
   "cell_type": "code",
   "execution_count": null,
   "metadata": {},
   "outputs": [],
   "source": [
    "# import pandas as pd\n",
    "\n",
    "# # อ่านข้อมูลจากไฟล์ CSV\n",
    "# df = pd.read_csv('csv/Ming12Jun67_V8_Group.csv')\n",
    "\n",
    "# # แปลงคอลัมน์ order_completed_at เป็น datetime\n",
    "# df['order_completed_at'] = pd.to_datetime(df['order_completed_at'])\n",
    "\n",
    "# # Group by คอลัมน์ order_completed_at และนับจำนวน order ที่ไม่ซ้ำกัน และรวมค่า total_quantity_variants\n",
    "# grouped_df = df.groupby(df['order_completed_at']).agg({\n",
    "#     'number': 'nunique'\n",
    "# }).reset_index()\n",
    "\n",
    "# # เปลี่ยนชื่อคอลัมน์\n",
    "# grouped_df.columns = ['order_completed_at', 'unique_order_count']\n",
    "\n",
    "# # แปลงคอลัมน์ order_completed_at เป็น datetime\n",
    "# df['order_completed_at'] = pd.to_datetime(df['order_completed_at'])\n",
    "\n",
    "# # เรียงลำดับวันที่\n",
    "# grouped_df = grouped_df.sort_values('order_completed_at')\n",
    "\n",
    "\n",
    "# date_to_find = pd.Timestamp('2024-06-12').date()\n",
    "# grouped_df = grouped_df[grouped_df['order_completed_at'].dt.date < date_to_find]\n",
    "\n",
    "# # แสดง DataFrame ที่ได้\n",
    "# print(grouped_df.head())\n",
    "# print(grouped_df.tail())\n",
    "# print(grouped_df.info())"
   ]
  },
  {
   "cell_type": "code",
   "execution_count": null,
   "metadata": {},
   "outputs": [],
   "source": [
    "# grouped_df.info()"
   ]
  },
  {
   "cell_type": "code",
   "execution_count": null,
   "metadata": {},
   "outputs": [],
   "source": [
    "# grouped_df.to_csv('csv/Ming13Jun67_total_order.csv', index=False)"
   ]
  },
  {
   "cell_type": "code",
   "execution_count": null,
   "metadata": {},
   "outputs": [],
   "source": [
    "# ข้อมูลใหม่ที่ต้องการเพิ่ม\n",
    "new_data = pd.DataFrame({\n",
    "    'order_completed_at': [ \"2024-07-02\"],\n",
    "    'unique_order_count': [158]\n",
    "})\n",
    "\n",
    "# เพิ่มข้อมูลใหม่เข้าไปใน DataFrame\n",
    "grouped_df = pd.concat([df, new_data], ignore_index=True)"
   ]
  },
  {
   "cell_type": "code",
   "execution_count": null,
   "metadata": {},
   "outputs": [],
   "source": [
    "# แสดง DataFrame ที่ได้\n",
    "print(grouped_df.head())\n",
    "print(grouped_df.tail(14))\n",
    "print(grouped_df.info())"
   ]
  },
  {
   "cell_type": "code",
   "execution_count": null,
   "metadata": {},
   "outputs": [],
   "source": [
    "grouped_df['order_completed_at'] = pd.to_datetime(grouped_df['order_completed_at'])\n",
    "print(grouped_df.info())"
   ]
  },
  {
   "cell_type": "code",
   "execution_count": null,
   "metadata": {},
   "outputs": [],
   "source": [
    "print(grouped_df.tail())"
   ]
  },
  {
   "cell_type": "code",
   "execution_count": null,
   "metadata": {},
   "outputs": [],
   "source": [
    "grouped_df.to_csv('../csv/Ming2Jul67_total_order.csv', index=False)"
   ]
  }
 ],
 "metadata": {
  "kernelspec": {
   "display_name": "conda_dart",
   "language": "python",
   "name": "python3"
  },
  "language_info": {
   "codemirror_mode": {
    "name": "ipython",
    "version": 3
   },
   "file_extension": ".py",
   "mimetype": "text/x-python",
   "name": "python",
   "nbconvert_exporter": "python",
   "pygments_lexer": "ipython3",
   "version": "3.12.3"
  }
 },
 "nbformat": 4,
 "nbformat_minor": 2
}
