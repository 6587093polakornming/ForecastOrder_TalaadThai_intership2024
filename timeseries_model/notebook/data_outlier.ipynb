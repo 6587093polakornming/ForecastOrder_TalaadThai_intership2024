{
 "cells": [
  {
   "cell_type": "code",
   "execution_count": null,
   "metadata": {},
   "outputs": [],
   "source": [
    "import pandas as pd\n",
    "import numpy as np\n",
    "import matplotlib.pyplot as plt"
   ]
  },
  {
   "cell_type": "code",
   "execution_count": null,
   "metadata": {},
   "outputs": [],
   "source": [
    "df = pd.read_csv(\"../csv/Ming18Jun67_total_order.csv\")\n",
    "df.tail()"
   ]
  },
  {
   "cell_type": "code",
   "execution_count": null,
   "metadata": {},
   "outputs": [],
   "source": [
    "from darts import TimeSeries\n",
    "df_ts = TimeSeries.from_dataframe(df,\n",
    "                                   time_col='order_completed_at',\n",
    "                                   value_cols=['unique_order_count'])"
   ]
  },
  {
   "cell_type": "code",
   "execution_count": null,
   "metadata": {},
   "outputs": [],
   "source": [
    "# import pandas as pd \n",
    "# import tensorflow as tf \n",
    "# from keras.layers import Input, Dense \n",
    "# from keras.models import Model \n",
    "# from sklearn.metrics import precision_recall_fscore_support \n",
    "# import matplotlib.pyplot as plt "
   ]
  },
  {
   "cell_type": "code",
   "execution_count": null,
   "metadata": {},
   "outputs": [],
   "source": [
    "# Exclude datetime column again \n",
    "# data_tensor = tf.convert_to_tensor(data_converted.drop( \n",
    "#     'timestamp', axis=1).values, dtype=tf.float32) \n",
    "  \n",
    "# # Define the autoencoder model \n",
    "# input_dim = data_converted.shape[1] - 1\n",
    "# encoding_dim = 10\n",
    "  \n",
    "# input_layer = Input(shape=(input_dim,)) \n",
    "# encoder = Dense(encoding_dim, activation='relu')(input_layer) \n",
    "# decoder = Dense(input_dim, activation='relu')(encoder) \n",
    "# autoencoder = Model(inputs=input_layer, outputs=decoder) \n",
    "  \n",
    "# # Compile and fit the model \n",
    "# autoencoder.compile(optimizer='adam', loss='mse') \n",
    "# autoencoder.fit(data_tensor, data_tensor, epochs=50, \n",
    "#                 batch_size=32, shuffle=True) \n",
    "  \n",
    "# # Calculate the reconstruction error for each data point \n",
    "# reconstructions = autoencoder.predict(data_tensor) \n",
    "# mse = tf.reduce_mean(tf.square(data_tensor - reconstructions), \n",
    "#                      axis=1) \n",
    "# anomaly_scores = pd.Series(mse.numpy(), name='anomaly_scores') \n",
    "# anomaly_scores.index = data_converted.index "
   ]
  },
  {
   "cell_type": "code",
   "execution_count": null,
   "metadata": {},
   "outputs": [],
   "source": [
    "# Function to replace outliers with the mean of the rest of the values\n",
    "from scipy.stats import zscore\n",
    "from darts import TimeSeries\n",
    "\n",
    "def replace_outliers_with_mean(df, column_name):\n",
    "    # Calculate Z-scores\n",
    "    z_scores = zscore(df[column_name])\n",
    "    \n",
    "    # Identify outliers (using a threshold of 3 for Z-score)\n",
    "    outliers = np.abs(z_scores) > 3\n",
    "    \n",
    "    # Calculate mean of non-outliers\n",
    "    mean_non_outliers = df.loc[~outliers, column_name].mean()\n",
    "    \n",
    "    # Replace outliers with the mean of non-outliers\n",
    "    df.loc[outliers, column_name] = mean_non_outliers\n",
    "    \n",
    "    return df\n",
    "\n",
    "# Replace outliers in 'gmv' column\n",
    "df_remove_out = replace_outliers_with_mean(df, 'unique_order_count')\n",
    "df_remove_out_ts = TimeSeries.from_dataframe(df_remove_out,\n",
    "                                   time_col='order_completed_at',\n",
    "                                   value_cols=['unique_order_count'])\n",
    "# Display the DataFrame\n",
    "# df[['order_completed_at', 'unique_order_count']][df['date'] == '2024-06-05']"
   ]
  },
  {
   "cell_type": "code",
   "execution_count": null,
   "metadata": {},
   "outputs": [],
   "source": [
    "plt.figure(figsize=(20, 10))  # ปรับขนาดของภาพ (กว้าง x สูง)\n",
    "\n",
    "\n",
    "##prediction\n",
    "df_remove_out_ts.plot(label=\"remove_outlier\")\n",
    "df_ts.plot(label=\"data\")\n",
    "\n",
    "plt.legend()\n",
    "plt.xlabel('Date')\n",
    "plt.ylabel('Order Unit')\n",
    "plt.show()"
   ]
  }
 ],
 "metadata": {
  "kernelspec": {
   "display_name": "conda_dart",
   "language": "python",
   "name": "python3"
  },
  "language_info": {
   "codemirror_mode": {
    "name": "ipython",
    "version": 3
   },
   "file_extension": ".py",
   "mimetype": "text/x-python",
   "name": "python",
   "nbconvert_exporter": "python",
   "pygments_lexer": "ipython3",
   "version": "3.12.3"
  }
 },
 "nbformat": 4,
 "nbformat_minor": 2
}
