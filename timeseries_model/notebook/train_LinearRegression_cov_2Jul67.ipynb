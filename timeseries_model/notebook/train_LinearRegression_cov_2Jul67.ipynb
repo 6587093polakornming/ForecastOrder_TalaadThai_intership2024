{
 "cells": [
  {
   "cell_type": "code",
   "execution_count": null,
   "metadata": {},
   "outputs": [],
   "source": [
    "import pandas as pd\n",
    "import numpy as np\n",
    "import matplotlib.pyplot as plt"
   ]
  },
  {
   "cell_type": "code",
   "execution_count": null,
   "metadata": {},
   "outputs": [],
   "source": [
    "from darts import TimeSeries\n",
    "\n",
    "df = pd.read_csv('../csv/2Jul67_feature.csv')\n",
    "df['order_completed_at'] = pd.to_datetime(df['order_completed_at'])\n",
    "df.tail()"
   ]
  },
  {
   "cell_type": "code",
   "execution_count": null,
   "metadata": {},
   "outputs": [],
   "source": [
    "df.info()"
   ]
  },
  {
   "cell_type": "code",
   "execution_count": null,
   "metadata": {},
   "outputs": [],
   "source": [
    "from darts.models import (\n",
    "    LinearRegressionModel,\n",
    "    RegressionModel,\n",
    "    LightGBMModel,\n",
    "    XGBModel,\n",
    "    CatBoostModel,\n",
    ")\n",
    "from darts.metrics import mape, mse, mae"
   ]
  },
  {
   "cell_type": "code",
   "execution_count": null,
   "metadata": {},
   "outputs": [],
   "source": [
    "# make timeseries Object\n",
    "series = TimeSeries.from_dataframe(df,\n",
    "                                   time_col='order_completed_at',\n",
    "                                   value_cols=['unique_order_count', 'year', 'month', 'day', 'dayofweek_num', 'midmonth', 'payday', 'double_date'],\n",
    "                                   freq=\"D\")"
   ]
  },
  {
   "cell_type": "code",
   "execution_count": null,
   "metadata": {},
   "outputs": [],
   "source": [
    "print(series)"
   ]
  },
  {
   "cell_type": "code",
   "execution_count": null,
   "metadata": {},
   "outputs": [],
   "source": [
    "target_ts = series[['unique_order_count']]\n",
    "future_cov_ts = series[['year', 'month', 'day', 'dayofweek_num', 'midmonth', 'payday', 'double_date']]\n",
    "\n",
    "cut_off = pd.Timestamp(\"2024-05-01\")\n",
    "\n",
    "target_training, target_validation =target_ts.split_before(cut_off)\n",
    "\n",
    "target_training.plot()\n",
    "target_validation.plot()\n",
    "plt.show()"
   ]
  },
  {
   "cell_type": "code",
   "execution_count": null,
   "metadata": {},
   "outputs": [],
   "source": [
    "# Making a parameter dictionary for use in the gridsearch function\n",
    "# Gridsearch will return the best model that hasn't been trained yet.\n",
    "from darts.models import LinearRegressionModel\n",
    "from darts.metrics import mape, mae, mse, mase\n",
    "from math import sqrt\n",
    "\n",
    "parameters = {\n",
    "    \"lags\": list(range(1, 36)),\n",
    "    \"lags_future_covariates\": [(0,7)],\n",
    "    \"output_chunk_length\": [7],\n",
    "    \"random_state\": [42]\n",
    "}\n",
    "\n",
    "best_parameter = LinearRegressionModel.gridsearch(\n",
    "    parameters=parameters,\n",
    "    series = target_ts, #note (training + validation) X only training set!!!\n",
    "    future_covariates= future_cov_ts,\n",
    "    start=cut_off,\n",
    "    forecast_horizon=7,\n",
    "    stride=1,          \n",
    "    last_points_only=False,  \n",
    "    metric=mse,\n",
    "    verbose=-1\n",
    ")"
   ]
  },
  {
   "cell_type": "code",
   "execution_count": null,
   "metadata": {},
   "outputs": [],
   "source": [
    "print(best_parameter)\n",
    "best_model = best_parameter[0]"
   ]
  },
  {
   "cell_type": "code",
   "execution_count": null,
   "metadata": {},
   "outputs": [],
   "source": [
    "best_model.fit(series=target_training, future_covariates=future_cov_ts)"
   ]
  },
  {
   "cell_type": "code",
   "execution_count": null,
   "metadata": {},
   "outputs": [],
   "source": [
    "from darts.models import LinearRegressionModel\n",
    "from darts.metrics import mape, mae, mse, mase\n",
    "from math import sqrt\n",
    "\n",
    "# result from training , validation only\n",
    "prediction = best_model.predict(len(target_validation))"
   ]
  },
  {
   "cell_type": "code",
   "execution_count": null,
   "metadata": {},
   "outputs": [],
   "source": [
    "mape_score = mape(target_validation, prediction)\n",
    "print(f'score MAPE: {round(mape_score, 4)}')\n",
    "print(f'score ACC: {100-(round(mape_score, 4))}')\n",
    "\n",
    "mse_score = mse(target_validation, prediction)\n",
    "print(f'score MSE: {round(mse_score, 4)}')\n",
    "\n",
    "print(f'score RMSE: {round(sqrt(mse_score), 4)}')\n",
    "\n",
    "mae_score = mae(target_validation, prediction)\n",
    "print(f'score MAE: {round(mae_score, 4)}')"
   ]
  },
  {
   "cell_type": "code",
   "execution_count": null,
   "metadata": {},
   "outputs": [],
   "source": [
    "plt.figure(figsize=(20, 10))  # ปรับขนาดของภาพ (กว้าง x สูง)\n",
    "##prediction\n",
    "prediction.plot(label=\"prediction\")\n",
    "target_training.plot(label=\"training\")\n",
    "target_validation.plot(label=\"validation\")\n",
    "\n",
    "plt.legend()\n",
    "plt.title('Train, Validation, and Prediction')\n",
    "plt.xlabel('Date')\n",
    "plt.ylabel('Order Unit')\n",
    "plt.show()"
   ]
  }
 ],
 "metadata": {
  "kernelspec": {
   "display_name": "conda_dart",
   "language": "python",
   "name": "python3"
  },
  "language_info": {
   "codemirror_mode": {
    "name": "ipython",
    "version": 3
   },
   "file_extension": ".py",
   "mimetype": "text/x-python",
   "name": "python",
   "nbconvert_exporter": "python",
   "pygments_lexer": "ipython3",
   "version": "3.12.3"
  }
 },
 "nbformat": 4,
 "nbformat_minor": 2
}
