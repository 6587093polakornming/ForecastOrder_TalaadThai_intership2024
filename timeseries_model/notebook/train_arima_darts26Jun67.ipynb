{
 "cells": [
  {
   "cell_type": "code",
   "execution_count": null,
   "metadata": {},
   "outputs": [],
   "source": [
    "import pandas as pd\n",
    "import numpy as np\n",
    "import matplotlib.pyplot as plt"
   ]
  },
  {
   "cell_type": "code",
   "execution_count": null,
   "metadata": {},
   "outputs": [],
   "source": [
    "from darts import TimeSeries\n",
    "\n",
    "df = pd.read_csv('../csv/Ming1Jul67_total_order.csv')\n",
    "df.tail()"
   ]
  },
  {
   "cell_type": "code",
   "execution_count": null,
   "metadata": {},
   "outputs": [],
   "source": [
    "df.info()"
   ]
  },
  {
   "cell_type": "code",
   "execution_count": null,
   "metadata": {},
   "outputs": [],
   "source": [
    "df['order_completed_at'] = pd.to_datetime(df['order_completed_at'])"
   ]
  },
  {
   "cell_type": "code",
   "execution_count": null,
   "metadata": {},
   "outputs": [],
   "source": [
    "# make timeseries Object\n",
    "series = TimeSeries.from_dataframe(df,\n",
    "                                   time_col='order_completed_at',\n",
    "                                   value_cols=['unique_order_count'],\n",
    "                                   freq=\"D\")"
   ]
  },
  {
   "cell_type": "markdown",
   "metadata": {},
   "source": [
    "# Data preprocessing"
   ]
  },
  {
   "cell_type": "code",
   "execution_count": null,
   "metadata": {},
   "outputs": [],
   "source": [
    "# Function to replace outliers with the mean of the rest of the values\n",
    "from scipy.stats import zscore\n",
    "from darts import TimeSeries\n",
    "\n",
    "def replace_outliers_with_mean(df, column_name):\n",
    "    # Calculate Z-scores\n",
    "    z_scores = zscore(df[column_name])\n",
    "    \n",
    "    # Identify outliers (using a threshold of 3 for Z-score)\n",
    "    outliers = np.abs(z_scores) > 3\n",
    "    \n",
    "    # Calculate mean of non-outliers\n",
    "    mean_non_outliers = df.loc[~outliers, column_name].mean()\n",
    "    \n",
    "    # Replace outliers with the mean of non-outliers\n",
    "    df.loc[outliers, column_name] = mean_non_outliers\n",
    "    \n",
    "    return df\n",
    "\n",
    "# Replace outliers in 'gmv' column\n",
    "df_remove_out = replace_outliers_with_mean(df, 'unique_order_count')\n",
    "series_remove_outlier = TimeSeries.from_dataframe(df_remove_out,\n",
    "                                   time_col='order_completed_at',\n",
    "                                   value_cols=['unique_order_count'],\n",
    "                                   freq=\"D\")\n",
    "series = series_remove_outlier"
   ]
  },
  {
   "cell_type": "code",
   "execution_count": null,
   "metadata": {},
   "outputs": [],
   "source": [
    "from darts.dataprocessing.transformers import (Scaler,)\n",
    "\n",
    "scaler = Scaler()\n",
    "series_rescaled = scaler.fit_transform(series)\n",
    "series = series_rescaled"
   ]
  },
  {
   "cell_type": "code",
   "execution_count": null,
   "metadata": {},
   "outputs": [],
   "source": [
    "from darts.utils.statistics import extract_trend_and_seasonality\n",
    "trends , seasonal = extract_trend_and_seasonality(series)\n",
    "\n",
    "\n",
    "# Plot the results\n",
    "plt.figure(figsize=(12, 8))\n",
    "\n",
    "# Original series\n",
    "plt.subplot(3, 1, 1)\n",
    "plt.plot(series.time_index, series.values(), label='Original Series')\n",
    "plt.title('Original Series')\n",
    "plt.legend()\n",
    "\n",
    "# Trend component\n",
    "plt.subplot(3, 1, 2)\n",
    "plt.plot(trends.time_index, trends.values(), label='Trend Component', color='orange')\n",
    "plt.title('Trend Component')\n",
    "plt.legend()\n",
    "\n",
    "# Seasonal component\n",
    "plt.subplot(3, 1, 3)\n",
    "plt.plot(seasonal.time_index, seasonal.values(), label='Seasonal Component', color='green')\n",
    "plt.title('Seasonal Component')\n",
    "plt.legend()\n",
    "\n",
    "# Adjust layout\n",
    "plt.tight_layout()\n",
    "plt.show()"
   ]
  },
  {
   "cell_type": "markdown",
   "metadata": {},
   "source": [
    "### stationary test"
   ]
  },
  {
   "cell_type": "markdown",
   "metadata": {},
   "source": [
    "#### (MA) moving average"
   ]
  },
  {
   "cell_type": "code",
   "execution_count": null,
   "metadata": {},
   "outputs": [],
   "source": [
    "# Plot stationary and also the seasonality using ACF and PACF plots\n",
    "from darts.utils.statistics import check_seasonality, plot_acf, plot_residuals_analysis, plot_pacf\n",
    "\n",
    "#test stationary with autocorrelation function\n",
    "plot_acf(series, max_lag=60)\n",
    "plt.show()\n",
    "\n",
    "#กรณีข้อมูลเป็น Stationary จุดในแกน X (lags) มีค่า Y เป็น 0 หรือใกล้เคียง(ค่า Correlation -1,1)\n",
    "\n",
    "#ARIMA order (p, d, q) ; q = 35 look at lags 35 crossline"
   ]
  },
  {
   "cell_type": "code",
   "execution_count": null,
   "metadata": {},
   "outputs": [],
   "source": [
    "# stationary test\n",
    "from statsmodels.tsa.stattools import adfuller\n",
    "\n",
    "result = adfuller(df[\"unique_order_count\"])\n",
    "print('ADF Statistic: %f' % result[0])\n",
    "print('p-value: %f' % result[1])\n",
    "\n",
    "#p-value > 0.05: Fail to reject the null hypothesis (H0), the data has a unit root and is non-stationary.\n",
    "#p-value <= 0.05: Reject the null hypothesis (H0), the data does not have a unit root and is stationary.\n",
    "#https://machinelearningmastery.com/time-series-data-stationary-python/"
   ]
  },
  {
   "cell_type": "code",
   "execution_count": null,
   "metadata": {},
   "outputs": [],
   "source": [
    "#Auto Regressive (p)\n",
    "from statsmodels.graphics.tsaplots import  plot_pacf\n",
    "from statsmodels.tsa.stattools import pacf\n",
    "\n",
    "plt.rcParams.update({'figure.figsize':(10,4)})\n",
    "plot_pacf(df['unique_order_count'].dropna(), method = 'ols')\n",
    "df_pacf = pacf(df['unique_order_count'].dropna(), method = 'ols')"
   ]
  },
  {
   "cell_type": "code",
   "execution_count": null,
   "metadata": {},
   "outputs": [],
   "source": [
    "import numpy as np\n",
    "\n",
    "for i in range(0, len(df_pacf)):\n",
    "    if df_pacf[i] < (1.96 / np.sqrt(len(df['unique_order_count']))):\n",
    "        print('p = ', i - 1)\n",
    "        break"
   ]
  },
  {
   "cell_type": "code",
   "execution_count": null,
   "metadata": {},
   "outputs": [],
   "source": [
    "#Moving Average (q)\n",
    "from statsmodels.graphics.tsaplots import  plot_acf\n",
    "from statsmodels.tsa.stattools import acf\n",
    "\n",
    "plt.rcParams.update({'figure.figsize':(10,4)})\n",
    "plot_acf(df['unique_order_count'], fft = True, lags=60)\n",
    "df_acf = acf(df['unique_order_count'], fft = True, nlags=60)"
   ]
  },
  {
   "cell_type": "code",
   "execution_count": null,
   "metadata": {},
   "outputs": [],
   "source": [
    "for i in range(0, len(df_acf)):\n",
    "    if df_acf[i] < (1.96 / np.sqrt(len(df['unique_order_count']))):\n",
    "        print('q=', i - 1)\n",
    "        break"
   ]
  },
  {
   "cell_type": "code",
   "execution_count": null,
   "metadata": {},
   "outputs": [],
   "source": [
    "# training, validation =series.split_before(pd.Timestamp('2024-01-01'))\n",
    "# training, validation =series.split_before(0.9)\n",
    "cut_off = pd.Timestamp('2024-05-01')\n",
    "training, validation =series.split_before(cut_off) # 1 month\n",
    "# training, validation =series.split_before(pd.Timestamp('2024-04-01')) # 2 month"
   ]
  },
  {
   "cell_type": "code",
   "execution_count": null,
   "metadata": {},
   "outputs": [],
   "source": [
    "#check date split\n",
    "validation_df = validation.pd_dataframe()\n",
    "training_df = training.pd_dataframe()\n",
    "print(training_df.tail())\n",
    "print(validation_df.head())\n",
    "print(training_df.shape)\n",
    "print(validation_df.shape)"
   ]
  },
  {
   "cell_type": "code",
   "execution_count": null,
   "metadata": {},
   "outputs": [],
   "source": [
    "from darts.models.forecasting.arima import ARIMA\n",
    "from darts.metrics import mape, mae, mse, mase\n",
    "from math import sqrt\n",
    "\n",
    "parameters = {\n",
    "    \"q\": [0,1,2,3,4,5],\n",
    "    \"p\":[0,1,2,3,4,5],\n",
    "    \"d\":[0]\n",
    "}\n",
    "\n",
    "best_parameter = ARIMA.gridsearch(\n",
    "    parameters=parameters,\n",
    "    series = series, \n",
    "    start=cut_off,\n",
    "    forecast_horizon=7,\n",
    "    stride=1,          \n",
    "    last_points_only=False,  \n",
    "    metric=mse,\n",
    "    verbose=-1\n",
    ")"
   ]
  },
  {
   "cell_type": "code",
   "execution_count": null,
   "metadata": {},
   "outputs": [],
   "source": [
    "from darts.models.forecasting.arima import ARIMA\n",
    "from darts.metrics import mape, mae, mse, mase\n",
    "from math import sqrt\n",
    "\n",
    "best_model = ARIMA(q=2, p=4, d=0)\n",
    "best_model.fit(training)"
   ]
  },
  {
   "cell_type": "code",
   "execution_count": null,
   "metadata": {},
   "outputs": [],
   "source": [
    "print(best_parameter)"
   ]
  },
  {
   "cell_type": "code",
   "execution_count": null,
   "metadata": {},
   "outputs": [],
   "source": [
    "best_model = best_parameter[0]\n",
    "best_model.fit(training)"
   ]
  },
  {
   "cell_type": "code",
   "execution_count": null,
   "metadata": {},
   "outputs": [],
   "source": [
    "from darts.metrics import mape, mae, mse, mase\n",
    "from math import sqrt\n",
    "\n",
    "backtest_errors = best_model.backtest(\n",
    "     series,\n",
    "     start=pd.Timestamp('2024-05-01'),          # เริ่มต้นที่ 90% ของข้อมูล\n",
    "     forecast_horizon=7, #จำนวนก้าวการพยากรณ์ในอนาคตที่ต้องการ\n",
    "     stride=1,           #ช่วงการเลื่อนในการทดสอบแต่ละครั้ง\n",
    "     last_points_only=False,  #  ให้แสดงเฉพาะจุดสิ้นสุดของการพยากรณ์หรือไม่\n",
    "     metric=mse,\n",
    "     reduction=np.mean           #ฟังก์ชันการลดรูปผลลัพธ์ (เช่น mean การหาเฉลี่ย)\n",
    ")\n",
    "print(f'backtest_errors MSE: {backtest_errors}')"
   ]
  },
  {
   "cell_type": "code",
   "execution_count": null,
   "metadata": {},
   "outputs": [],
   "source": [
    "from darts.metrics import mape, mae, mse, mase\n",
    "from math import sqrt\n",
    "\n",
    "backtest_errors = best_model.backtest(\n",
    "     series,\n",
    "     start=pd.Timestamp('2024-05-01'),          # เริ่มต้นที่ 90% ของข้อมูล\n",
    "     forecast_horizon=7, #จำนวนก้าวการพยากรณ์ในอนาคตที่ต้องการ\n",
    "     stride=1,           #ช่วงการเลื่อนในการทดสอบแต่ละครั้ง\n",
    "     last_points_only=False,  #  ให้แสดงเฉพาะจุดสิ้นสุดของการพยากรณ์หรือไม่\n",
    "     metric=mape,\n",
    "     reduction=np.mean           #ฟังก์ชันการลดรูปผลลัพธ์ (เช่น mean การหาเฉลี่ย)\n",
    ")\n",
    "print(f'backtest_errors MAPE: {backtest_errors}')"
   ]
  },
  {
   "cell_type": "code",
   "execution_count": null,
   "metadata": {},
   "outputs": [],
   "source": [
    "# result from training , validation only\n",
    "prediction = best_model.predict(len(validation))\n",
    "\n",
    "mape_score = mape(validation, prediction)\n",
    "print(f'score MAPE: {round(mape_score, 4)}')\n",
    "print(f'score ACC: {100-(round(mape_score, 4))}')\n",
    "\n",
    "mse_score = mse(validation, prediction)\n",
    "print(f'score MSE: {round(mse_score, 4)}')\n",
    "\n",
    "print(f'score RMSE: {round(sqrt(mse_score), 4)}')\n",
    "\n",
    "mae_score = mae(validation, prediction)\n",
    "print(f'score MAE: {round(mae_score, 4)}')"
   ]
  },
  {
   "cell_type": "code",
   "execution_count": null,
   "metadata": {},
   "outputs": [],
   "source": [
    "validation_rescale = scaler.inverse_transform(validation)\n",
    "prediction_rescale = scaler.inverse_transform(prediction)\n",
    "\n",
    "mape_score = mape(validation_rescale, prediction_rescale)\n",
    "print(f'score MAPE: {round(mape_score, 4)}')\n",
    "print(f'score ACC: {100-(round(mape_score, 4))}')\n",
    "\n",
    "mse_score = mse(validation_rescale, prediction_rescale)\n",
    "print(f'score MSE: {round(mse_score, 4)}')\n",
    "\n",
    "print(f'score RMSE: {round(sqrt(mse_score), 4)}')\n",
    "\n",
    "mae_score = mae(validation_rescale, prediction_rescale)\n",
    "print(f'score MAE: {round(mae_score, 4)}')"
   ]
  },
  {
   "cell_type": "code",
   "execution_count": null,
   "metadata": {},
   "outputs": [],
   "source": [
    "plt.figure(figsize=(20, 10))  # ปรับขนาดของภาพ (กว้าง x สูง)\n",
    "##prediction\n",
    "prediction.plot(label=\"prediction\")\n",
    "training.plot(label=\"training\")\n",
    "validation.plot(label=\"validation\")\n",
    "\n",
    "plt.legend()\n",
    "plt.title('Train, Validation, and Prediction')\n",
    "plt.xlabel('Date')\n",
    "plt.ylabel('Order Unit')\n",
    "plt.show()"
   ]
  },
  {
   "cell_type": "code",
   "execution_count": null,
   "metadata": {},
   "outputs": [],
   "source": [
    "# predict future\n",
    "best_model.fit(series)"
   ]
  },
  {
   "cell_type": "code",
   "execution_count": null,
   "metadata": {},
   "outputs": [],
   "source": [
    "from darts.models import ARIMA\n",
    "# best_model = ARIMA.load(\"../model/ARIMA_Model_totalOrder_25Jun67.pkl\")\n",
    "\n",
    "forecast = best_model.predict(7)\n",
    "forecast  = scaler.inverse_transform(forecast)\n",
    "forecast = forecast.pd_dataframe().reset_index()\n",
    "forecast.columns = ['Date', 'Total Order']\n",
    "print(forecast.tail(7))\n",
    "\n",
    "forecast.tail(7).to_csv('../forecast/Date_ARIMA.csv', index=False)"
   ]
  },
  {
   "cell_type": "code",
   "execution_count": null,
   "metadata": {},
   "outputs": [],
   "source": [
    "best_model.save(\"../model/ARIMA_Model_totalOrder_1Jul67.pkl\")"
   ]
  },
  {
   "cell_type": "markdown",
   "metadata": {},
   "source": [
    "# ARIMA find order"
   ]
  },
  {
   "cell_type": "code",
   "execution_count": null,
   "metadata": {},
   "outputs": [],
   "source": [
    "import numpy as np, pandas as pd \n",
    "import matplotlib.pyplot as plt \n",
    "plt.rcParams.update({'figure.figsize':(9,7), 'figure.dpi':120}) \n",
    "#Original Series \n",
    "fig, (ax1, ax2, ax3) = plt.subplots(3) \n",
    "ax1.plot(df['unique_order_count']); ax1.set_title('Original Series'); ax1.axes.xaxis.set_visible(False) \n",
    "# 1st Differencing \n",
    "ax2.plot(df['unique_order_count'].diff()); ax2.set_title('1st Order Differencing'); ax2.axes.xaxis.set_visible(False) \n",
    "# 2nd Differencing \n",
    "ax3.plot(df['unique_order_count'].diff().diff()); ax3.set_title('2nd Order Differencing') \n",
    "plt.show()\n"
   ]
  },
  {
   "cell_type": "code",
   "execution_count": null,
   "metadata": {},
   "outputs": [],
   "source": [
    "# stationary test\n",
    "from statsmodels.tsa.stattools import adfuller\n",
    "\n",
    "result = adfuller(df[\"unique_order_count\"])\n",
    "print('ADF Statistic: %f' % result[0])\n",
    "print('p-value: %f' % result[1])\n",
    "\n",
    "#p-value > 0.05: Fail to reject the null hypothesis (H0), the data has a unit root and is non-stationary.\n",
    "#p-value <= 0.05: Reject the null hypothesis (H0), the data does not have a unit root and is stationary.\n",
    "#https://machinelearningmastery.com/time-series-data-stationary-python/"
   ]
  },
  {
   "cell_type": "code",
   "execution_count": null,
   "metadata": {},
   "outputs": [],
   "source": [
    "from statsmodels.graphics.tsaplots import plot_acf \n",
    "fig, (ax1, ax2, ax3) = plt.subplots(3) \n",
    "plot_acf(df['unique_order_count'], ax=ax1) \n",
    "plot_acf(df['unique_order_count'].diff().dropna(), ax=ax2) \n",
    "plot_acf(df['unique_order_count'].diff().diff().dropna(), ax=ax3)\n"
   ]
  },
  {
   "cell_type": "code",
   "execution_count": null,
   "metadata": {},
   "outputs": [],
   "source": [
    "plot_acf(df['unique_order_count'].diff().dropna())"
   ]
  },
  {
   "cell_type": "code",
   "execution_count": null,
   "metadata": {},
   "outputs": [],
   "source": [
    "plot_acf(df['unique_order_count'].dropna(), lags=60)"
   ]
  },
  {
   "cell_type": "code",
   "execution_count": null,
   "metadata": {},
   "outputs": [],
   "source": [
    "from statsmodels.graphics.tsaplots import plot_pacf \n",
    "plot_pacf(df['unique_order_count'].diff().dropna())\n"
   ]
  },
  {
   "cell_type": "code",
   "execution_count": null,
   "metadata": {},
   "outputs": [],
   "source": [
    "plot_pacf(df['unique_order_count'].dropna())"
   ]
  }
 ],
 "metadata": {
  "kernelspec": {
   "display_name": "conda_dart",
   "language": "python",
   "name": "python3"
  },
  "language_info": {
   "codemirror_mode": {
    "name": "ipython",
    "version": 3
   },
   "file_extension": ".py",
   "mimetype": "text/x-python",
   "name": "python",
   "nbconvert_exporter": "python",
   "pygments_lexer": "ipython3",
   "version": "3.12.3"
  }
 },
 "nbformat": 4,
 "nbformat_minor": 2
}
