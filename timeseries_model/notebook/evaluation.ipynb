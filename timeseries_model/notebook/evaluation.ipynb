{
 "cells": [
  {
   "cell_type": "code",
   "execution_count": null,
   "metadata": {},
   "outputs": [],
   "source": [
    "import pandas as pd\n",
    "import numpy as np\n",
    "import matplotlib.pyplot as plt"
   ]
  },
  {
   "cell_type": "code",
   "execution_count": null,
   "metadata": {},
   "outputs": [],
   "source": [
    "from darts import TimeSeries\n",
    "filename = \"Ming25Jun67_total_order.csv\"\n",
    "df = pd.read_csv(f'../csv/{filename}')\n",
    "df.info()"
   ]
  },
  {
   "cell_type": "code",
   "execution_count": null,
   "metadata": {},
   "outputs": [],
   "source": [
    "print(df.shape)\n",
    "print(df.head())\n",
    "print(df.tail())"
   ]
  },
  {
   "cell_type": "code",
   "execution_count": null,
   "metadata": {},
   "outputs": [],
   "source": [
    "df['order_completed_at'] = pd.to_datetime(df['order_completed_at'])\n",
    "# make timeseries Object\n",
    "series = TimeSeries.from_dataframe(df,\n",
    "                                   time_col='order_completed_at',\n",
    "                                   value_cols=['unique_order_count'],\n",
    "                                   freq=\"D\")"
   ]
  },
  {
   "cell_type": "markdown",
   "metadata": {},
   "source": [
    "### remove outlier"
   ]
  },
  {
   "cell_type": "code",
   "execution_count": null,
   "metadata": {},
   "outputs": [],
   "source": [
    "# Function to replace outliers with the mean of the rest of the values\n",
    "from scipy.stats import zscore\n",
    "from darts import TimeSeries\n",
    "\n",
    "def replace_outliers_with_mean(df, column_name):\n",
    "    # Calculate Z-scores\n",
    "    z_scores = zscore(df[column_name])\n",
    "    \n",
    "    # Identify outliers (using a threshold of 3 for Z-score)\n",
    "    outliers = np.abs(z_scores) > 3\n",
    "    \n",
    "    # Calculate mean of non-outliers\n",
    "    mean_non_outliers = df.loc[~outliers, column_name].mean()\n",
    "    \n",
    "    # Replace outliers with the mean of non-outliers\n",
    "    df.loc[outliers, column_name] = mean_non_outliers\n",
    "    \n",
    "    return df\n",
    "\n",
    "# Replace outliers in 'gmv' column\n",
    "df_remove_out = replace_outliers_with_mean(df, 'unique_order_count')\n",
    "series_remove_outlier = TimeSeries.from_dataframe(df_remove_out,\n",
    "                                   time_col='order_completed_at',\n",
    "                                   value_cols=['unique_order_count'],\n",
    "                                   freq=\"D\")"
   ]
  },
  {
   "cell_type": "code",
   "execution_count": null,
   "metadata": {},
   "outputs": [],
   "source": [
    "from darts.dataprocessing.transformers import (Scaler,)\n",
    "\n",
    "scaler = Scaler()\n",
    "series = series_remove_outlier #!!!\n",
    "series_rescaled = scaler.fit_transform(series)\n",
    "\n",
    "series = series_rescaled #!!!"
   ]
  },
  {
   "cell_type": "markdown",
   "metadata": {},
   "source": [
    "### test split"
   ]
  },
  {
   "cell_type": "code",
   "execution_count": null,
   "metadata": {},
   "outputs": [],
   "source": [
    "cut_off = pd.Timestamp(\"2024-05-01\")\n",
    "training, validation =series.split_before(cut_off)"
   ]
  },
  {
   "cell_type": "code",
   "execution_count": null,
   "metadata": {},
   "outputs": [],
   "source": [
    "#check date split\n",
    "validation_df = validation.pd_dataframe()\n",
    "training_df = training.pd_dataframe()\n",
    "print(training_df.tail())\n",
    "print(validation_df.head())\n",
    "print(f'training set: {training_df.shape}')\n",
    "print(f'validation set: {validation_df.shape}')"
   ]
  },
  {
   "cell_type": "markdown",
   "metadata": {},
   "source": [
    "### Viuslize data"
   ]
  },
  {
   "cell_type": "code",
   "execution_count": null,
   "metadata": {},
   "outputs": [],
   "source": [
    "import matplotlib.dates as mdates\n",
    "\n",
    "plt.figure(figsize=(20, 10))  # ปรับขนาดของภาพ (กว้าง x สูง)\n",
    "training.plot()\n",
    "validation.plot()\n",
    "\n",
    "# ตั้งค่ารูปแบบของวันที่บนแกน x\n",
    "plt.gca().xaxis.set_major_formatter(mdates.DateFormatter('%b %Y'))\n",
    "plt.gca().xaxis.set_major_locator(mdates.MonthLocator())\n",
    "plt.gcf().autofmt_xdate()  # ปรับให้วันที่ไม่ซ้อนกัน\n",
    "\n",
    "# กำหนด Title และชื่อของแกน x และ y\n",
    "plt.title('Total Order By Date from 2022-2024')\n",
    "plt.xlabel('Date')\n",
    "plt.ylabel('Number of Orders (Unit)')\n",
    "\n",
    "plt.show()"
   ]
  },
  {
   "cell_type": "markdown",
   "metadata": {},
   "source": [
    "# Model "
   ]
  },
  {
   "cell_type": "markdown",
   "metadata": {},
   "source": [
    "### Regression model"
   ]
  },
  {
   "cell_type": "markdown",
   "metadata": {},
   "source": [
    "##### Linear Regression"
   ]
  },
  {
   "cell_type": "code",
   "execution_count": null,
   "metadata": {},
   "outputs": [],
   "source": [
    "from darts.models import (LinearRegressionModel,\n",
    "                          CatBoostModel, \n",
    "                          LightGBMModel, \n",
    "                          XGBModel)\n",
    "from darts.metrics import mape, mae, mse, mase\n",
    "from math import sqrt\n",
    "\n",
    "model_lst = [LinearRegressionModel, \n",
    "             CatBoostModel, \n",
    "             LightGBMModel,\n",
    "             XGBModel]\n",
    "\n",
    "# for m in model_lst:\n",
    "#     model_name = m.__name__\n",
    "#     print(model_name)\n",
    "#     if model_name == \"LinearRegressionModel\":print(True)\n",
    "\n",
    "\n",
    "model_param_dict = {\n",
    "    0:{\"lags\": list(range(1, 36)),\n",
    "        \"output_chunk_length\": [7],\n",
    "        \"random_state\": [42]\n",
    "        },\n",
    "    1:{\n",
    "\n",
    "    }\n",
    "}\n",
    "\n",
    "# def get_best_model():\n",
    "#     parameters = {\n",
    "#         \"lags\": list(range(1, 36)),\n",
    "#         \"output_chunk_length\": [7],  # ทดลอง output_chunk_length ที่แตกต่างกัน\n",
    "#         \"random_state\": [42]\n",
    "#     }\n",
    "\n",
    "#     best_parameter = LinearRegressionModel.gridsearch(\n",
    "#         parameters=parameters,\n",
    "#         series = series, #note (training + validation) X only training set!!!\n",
    "#         start=cut_off,\n",
    "#         forecast_horizon=7,\n",
    "#         stride=1,          \n",
    "#         last_points_only=False,  \n",
    "#         metric=mse,\n",
    "#         verbose=-1\n",
    "#     )"
   ]
  },
  {
   "cell_type": "code",
   "execution_count": null,
   "metadata": {},
   "outputs": [],
   "source": [
    "print(best_parameter)\n",
    "best_model = best_parameter[0]"
   ]
  },
  {
   "cell_type": "code",
   "execution_count": null,
   "metadata": {},
   "outputs": [],
   "source": [
    "\n",
    "# result from training , validation only\n",
    "prediction = best_model.predict(len(validation))\n",
    "\n",
    "mape_score = mape(validation, prediction)\n",
    "print(f'score MAPE: {round(mape_score, 4)}')\n",
    "print(f'score ACC: {100-(round(mape_score, 4))}')\n",
    "\n",
    "mse_score = mse(validation, prediction)\n",
    "print(f'score MSE: {round(mse_score, 4)}')\n",
    "\n",
    "print(f'score RMSE: {round(sqrt(mse_score), 4)}')\n",
    "\n",
    "mae_score = mae(validation, prediction)\n",
    "print(f'score MAE: {round(mae_score, 4)}')"
   ]
  }
 ],
 "metadata": {
  "kernelspec": {
   "display_name": "conda_dart",
   "language": "python",
   "name": "python3"
  },
  "language_info": {
   "codemirror_mode": {
    "name": "ipython",
    "version": 3
   },
   "file_extension": ".py",
   "mimetype": "text/x-python",
   "name": "python",
   "nbconvert_exporter": "python",
   "pygments_lexer": "ipython3",
   "version": "3.12.3"
  }
 },
 "nbformat": 4,
 "nbformat_minor": 2
}
