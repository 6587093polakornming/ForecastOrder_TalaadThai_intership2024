{
 "cells": [
  {
   "cell_type": "code",
   "execution_count": null,
   "metadata": {},
   "outputs": [],
   "source": [
    "import pandas as pd\n",
    "import numpy as np\n",
    "import matplotlib.pyplot as plt"
   ]
  },
  {
   "cell_type": "code",
   "execution_count": null,
   "metadata": {},
   "outputs": [],
   "source": [
    "from darts import TimeSeries\n",
    "\n",
    "df = pd.read_csv('../csv/Ming25Jun67_total_order.csv')\n",
    "df.tail()"
   ]
  },
  {
   "cell_type": "code",
   "execution_count": null,
   "metadata": {},
   "outputs": [],
   "source": [
    "df.info()"
   ]
  },
  {
   "cell_type": "code",
   "execution_count": null,
   "metadata": {},
   "outputs": [],
   "source": [
    "df['order_completed_at'] = pd.to_datetime(df['order_completed_at'])"
   ]
  },
  {
   "cell_type": "code",
   "execution_count": null,
   "metadata": {},
   "outputs": [],
   "source": [
    "# make timeseries Object\n",
    "series = TimeSeries.from_dataframe(df,\n",
    "                                   time_col='order_completed_at',\n",
    "                                   value_cols=['unique_order_count'],\n",
    "                                    freq=\"D\")"
   ]
  },
  {
   "cell_type": "code",
   "execution_count": null,
   "metadata": {},
   "outputs": [],
   "source": [
    "# Function to replace outliers with the mean of the rest of the values\n",
    "from scipy.stats import zscore\n",
    "from darts import TimeSeries\n",
    "\n",
    "def replace_outliers_with_mean(df, column_name):\n",
    "    # Calculate Z-scores\n",
    "    z_scores = zscore(df[column_name])\n",
    "    \n",
    "    # Identify outliers (using a threshold of 3 for Z-score)\n",
    "    outliers = np.abs(z_scores) > 3\n",
    "    \n",
    "    # Calculate mean of non-outliers\n",
    "    mean_non_outliers = df.loc[~outliers, column_name].mean()\n",
    "    \n",
    "    # Replace outliers with the mean of non-outliers\n",
    "    df.loc[outliers, column_name] = mean_non_outliers\n",
    "    \n",
    "    return df\n",
    "\n",
    "# Replace outliers in 'gmv' column\n",
    "df_remove_out = replace_outliers_with_mean(df, 'unique_order_count')\n",
    "series_remove_outlier = TimeSeries.from_dataframe(df_remove_out,\n",
    "                                   time_col='order_completed_at',\n",
    "                                   value_cols=['unique_order_count'],\n",
    "                                   freq=\"D\")\n",
    "series = series_remove_outlier # !!!"
   ]
  },
  {
   "cell_type": "code",
   "execution_count": null,
   "metadata": {},
   "outputs": [],
   "source": [
    "from darts.dataprocessing.transformers import (Scaler,)\n",
    "\n",
    "scaler = Scaler()\n",
    "series_rescaled = scaler.fit_transform(series)\n",
    "series = series_rescaled"
   ]
  },
  {
   "cell_type": "code",
   "execution_count": null,
   "metadata": {},
   "outputs": [],
   "source": [
    "# training, validation =series.split_before(pd.Timestamp('2024-01-01'))\n",
    "# training, validation =series.split_before(0.9)\n",
    "cut_off = 0.8\n",
    "training, validation =series.split_before(cut_off) # 1 month\n",
    "# training, validation =series.split_before(pd.Timestamp('2024-04-01')) # 2 month"
   ]
  },
  {
   "cell_type": "code",
   "execution_count": null,
   "metadata": {},
   "outputs": [],
   "source": [
    "#check date split\n",
    "validation_df = validation.pd_dataframe()\n",
    "training_df = training.pd_dataframe()\n",
    "print(training_df.tail())\n",
    "print(validation_df.head())\n",
    "print(training_df.shape)\n",
    "print(validation_df.shape)"
   ]
  },
  {
   "cell_type": "code",
   "execution_count": null,
   "metadata": {},
   "outputs": [],
   "source": [
    "import matplotlib.dates as mdates\n",
    "\n",
    "plt.figure(figsize=(20, 10))  # ปรับขนาดของภาพ (กว้าง x สูง)\n",
    "training.plot()\n",
    "validation.plot()\n",
    "\n",
    "# ตั้งค่ารูปแบบของวันที่บนแกน x\n",
    "plt.gca().xaxis.set_major_formatter(mdates.DateFormatter('%b %Y'))\n",
    "plt.gca().xaxis.set_major_locator(mdates.MonthLocator())\n",
    "plt.gcf().autofmt_xdate()  # ปรับให้วันที่ไม่ซ้อนกัน\n",
    "\n",
    "# กำหนด Title และชื่อของแกน x และ y\n",
    "plt.title('Total Order By Date from 2022-2024')\n",
    "plt.xlabel('Date')\n",
    "plt.ylabel('Number of Orders (Unit)')\n",
    "\n",
    "plt.show()"
   ]
  },
  {
   "cell_type": "code",
   "execution_count": null,
   "metadata": {},
   "outputs": [],
   "source": [
    "from darts.models import CatBoostModel\n",
    "\n",
    "model = CatBoostModel(lags=42, output_chunk_length=7, random_state=42) # must at least input lags\n",
    "model.fit(training)\n",
    "forecast = model.predict(len(validation))"
   ]
  },
  {
   "cell_type": "code",
   "execution_count": null,
   "metadata": {},
   "outputs": [],
   "source": [
    "# plot Actual and Predict\n",
    "import matplotlib.pyplot as plt\n",
    "\n",
    "plt.figure(figsize=(20, 10))  \n",
    "series.plot(label=\"Actual\")\n",
    "forecast.plot(label=\"forecast\", low_quantile=0.05, high_quantile=0.95)\n",
    "plt.legend()"
   ]
  },
  {
   "cell_type": "code",
   "execution_count": null,
   "metadata": {},
   "outputs": [],
   "source": [
    "from darts.metrics import mape, mae, mse, mase\n",
    "from math import sqrt\n",
    "#not recommendation\n",
    "\n",
    "mape_score = mape(validation, forecast)\n",
    "print(f'score MAPE: {mape_score}')\n",
    "\n",
    "mase_score = mase(validation, forecast, training)\n",
    "print(f'score MASE: {mase_score}')"
   ]
  },
  {
   "cell_type": "code",
   "execution_count": null,
   "metadata": {},
   "outputs": [],
   "source": [
    "from darts.metrics import mape, mae, mse, mase\n",
    "from math import sqrt\n",
    "\n",
    "backtest_errors = model.backtest(\n",
    "     series,\n",
    "     start=pd.Timestamp(\"2024-04-01\"),          # เริ่มต้นที่ 90% ของข้อมูล\n",
    "     forecast_horizon=7, #จำนวนก้าวการพยากรณ์ในอนาคตที่ต้องการ\n",
    "     stride=7,           #ช่วงการเลื่อนในการทดสอบแต่ละครั้ง\n",
    "     last_points_only=False,  #  ให้แสดงเฉพาะจุดสิ้นสุดของการพยากรณ์หรือไม่\n",
    "     metric=mape,\n",
    "     reduction=np.mean,           #ฟังก์ชันการลดรูปผลลัพธ์ (เช่น mean การหาเฉลี่ย)\n",
    "     verbose=-1\n",
    ")\n",
    "print(f'backtest_errors MAPE: {backtest_errors}')\n"
   ]
  },
  {
   "cell_type": "code",
   "execution_count": null,
   "metadata": {},
   "outputs": [],
   "source": [
    "from darts.models import CatBoostModel\n",
    "from darts.metrics import mape, mae, mse, mase\n",
    "from math import sqrt\n",
    "\n",
    "parameters = {\n",
    "    \"lags\":list(range(1,34)),\n",
    "    \"output_chunk_length\":  [7],  # ทดลอง output_chunk_length ที่แตกต่างกัน\n",
    "    \"random_state\": [42]\n",
    "}\n",
    "\n",
    "best_parameter = CatBoostModel.gridsearch(\n",
    "    parameters=parameters,\n",
    "    series = series, #note (training + validation) X only training set!!!\n",
    "    start=cut_off,\n",
    "    forecast_horizon=7,\n",
    "    stride=7,          \n",
    "    last_points_only=False,  \n",
    "    metric=mse,\n",
    "    reduction=np.mean, \n",
    "    verbose=-1 \n",
    ")"
   ]
  },
  {
   "cell_type": "code",
   "execution_count": null,
   "metadata": {},
   "outputs": [],
   "source": [
    "print(best_parameter)\n",
    "# param_dict = best_parameter[1]\n",
    "best_model = best_parameter[0]\n",
    "best_model.fit(training)"
   ]
  },
  {
   "cell_type": "code",
   "execution_count": null,
   "metadata": {},
   "outputs": [],
   "source": [
    "# best_model = best_parameter[0]\n",
    "best_model = CatBoostModel(\n",
    "    lags = 31,\n",
    "    # n_estimators=100,\n",
    "    # max_depth=9,\n",
    "    output_chunk_length=7,\n",
    "    random_state=42)\n",
    "    # random_state=42)\n",
    "best_model.fit(training)"
   ]
  },
  {
   "cell_type": "markdown",
   "metadata": {},
   "source": [
    "# test hyperparameter"
   ]
  },
  {
   "cell_type": "code",
   "execution_count": null,
   "metadata": {},
   "outputs": [],
   "source": [
    "# from darts.models import CatBoostModel\n",
    "# from darts.metrics import mape, mae, mse, mase\n",
    "# from math import sqrt\n",
    "# best_lags = 1\n",
    "# best_mape = 100\n",
    "\n",
    "# def find_mape_backtest(best_model):\n",
    "#     backtest_errors = best_model.backtest(\n",
    "#             series,\n",
    "#             start=pd.Timestamp(\"2024-04-01\"),          # เริ่มต้นที่ 90% ของข้อมูล\n",
    "#             forecast_horizon=7, #จำนวนก้าวการพยากรณ์ในอนาคตที่ต้องการ\n",
    "#             stride=1,           #ช่วงการเลื่อนในการทดสอบแต่ละครั้ง\n",
    "#             last_points_only=False,  #  ให้แสดงเฉพาะจุดสิ้นสุดของการพยากรณ์หรือไม่\n",
    "#             metric=mape,\n",
    "#             reduction=np.mean,           #ฟังก์ชันการลดรูปผลลัพธ์ (เช่น mean การหาเฉลี่ย)\n",
    "#             verbose=-1\n",
    "#         )\n",
    "#     return backtest_errors\n",
    "\n",
    "# # best_model = best_parameter[0]\n",
    "# for i in range(1,34):\n",
    "#     best_model = CatBoostModel(\n",
    "#         lags = i,\n",
    "#         # n_estimators=100,\n",
    "#         # max_depth=9,\n",
    "#         output_chunk_length=7,\n",
    "#         random_state=42)\n",
    "#     best_model.fit(training)\n",
    "#     mape_error = find_mape_backtest(best_model)\n",
    "#     if i == 1: \n",
    "#         best_mape = mape_error\n",
    "#     else:\n",
    "#         if best_mape > mape_error:\n",
    "#             best_lags = i; best_mape = mape_error\n",
    "\n",
    "# print(f'best lags {best_lags} MAPE: {best_mape}')"
   ]
  },
  {
   "cell_type": "code",
   "execution_count": null,
   "metadata": {},
   "outputs": [],
   "source": [
    "backtest_errors = best_model.backtest(\n",
    "            series,\n",
    "            start=pd.Timestamp(\"2024-05-01\"),          # เริ่มต้นที่ 90% ของข้อมูล\n",
    "            forecast_horizon=7, #จำนวนก้าวการพยากรณ์ในอนาคตที่ต้องการ\n",
    "            stride=1,           #ช่วงการเลื่อนในการทดสอบแต่ละครั้ง\n",
    "            last_points_only=False,  #  ให้แสดงเฉพาะจุดสิ้นสุดของการพยากรณ์หรือไม่\n",
    "            metric=mape,\n",
    "            reduction=np.mean,           #ฟังก์ชันการลดรูปผลลัพธ์ (เช่น mean การหาเฉลี่ย)\n",
    "            verbose=-1\n",
    "        )\n",
    "print(f'backtest MAPE: {backtest_errors}')"
   ]
  },
  {
   "cell_type": "code",
   "execution_count": null,
   "metadata": {},
   "outputs": [],
   "source": [
    "# result from training , validation only\n",
    "prediction = best_model.predict(len(validation))\n",
    "\n",
    "mape_score = mape(validation, prediction)\n",
    "print(f'score MAPE: {round(mape_score, 4)}')\n",
    "print(f'score ACC: {100-(round(mape_score, 4))}')\n",
    "\n",
    "mse_score = mse(validation, prediction)\n",
    "print(f'score MSE: {round(mse_score, 4)}')\n",
    "\n",
    "print(f'score RMSE: {round(sqrt(mse_score), 4)}')\n",
    "\n",
    "mae_score = mae(validation, prediction)\n",
    "print(f'score MAE: {round(mae_score, 4)}')"
   ]
  },
  {
   "cell_type": "code",
   "execution_count": null,
   "metadata": {},
   "outputs": [],
   "source": [
    "validation_rescale = scaler.inverse_transform(validation)\n",
    "prediction_rescale = scaler.inverse_transform(prediction)\n",
    "\n",
    "mape_score = mape(validation_rescale, prediction_rescale)\n",
    "print(f'score MAPE: {round(mape_score, 4)}')\n",
    "print(f'score ACC: {100-(round(mape_score, 4))}')\n",
    "\n",
    "mse_score = mse(validation_rescale, prediction_rescale)\n",
    "print(f'score MSE: {round(mse_score, 4)}')\n",
    "\n",
    "print(f'score RMSE: {round(sqrt(mse_score), 4)}')\n",
    "\n",
    "mae_score = mae(validation_rescale, prediction_rescale)\n",
    "print(f'score MAE: {round(mae_score, 4)}')"
   ]
  },
  {
   "cell_type": "code",
   "execution_count": null,
   "metadata": {},
   "outputs": [],
   "source": [
    "plt.figure(figsize=(20, 10))  # ปรับขนาดของภาพ (กว้าง x สูง)\n",
    "##prediction\n",
    "prediction.plot(label=\"prediction\")\n",
    "training.plot(label=\"training\")\n",
    "validation.plot(label=\"validation\")\n",
    "\n",
    "plt.legend()\n",
    "plt.title('Train, Validation, and Prediction')\n",
    "plt.xlabel('Date')\n",
    "plt.ylabel('Order Unit')\n",
    "plt.show()"
   ]
  },
  {
   "cell_type": "code",
   "execution_count": null,
   "metadata": {},
   "outputs": [],
   "source": [
    "# predict future\n",
    "best_model.fit(series)"
   ]
  },
  {
   "cell_type": "code",
   "execution_count": null,
   "metadata": {},
   "outputs": [],
   "source": [
    "#check date\n",
    "series.pd_dataframe().tail(14)"
   ]
  },
  {
   "cell_type": "code",
   "execution_count": null,
   "metadata": {},
   "outputs": [],
   "source": [
    "forecast = best_model.predict(7)\n",
    "forecast  = scaler.inverse_transform(forecast)\n",
    "forecast = forecast.pd_dataframe().reset_index()\n",
    "forecast.columns = ['Date', 'Total Order']\n",
    "print(forecast.tail(7))\n",
    "\n",
    "forecast.to_csv('../forecast/20-25-06-67_CatBoost_31lags.csv', index=False)"
   ]
  },
  {
   "cell_type": "code",
   "execution_count": null,
   "metadata": {},
   "outputs": [],
   "source": [
    "#from darts.models import LinearRegressionModel, Prophet\n",
    "\n",
    "best_model.save(\"../model/CatBoostModel_totalOrder_25Jun67_31lags.pkl\")"
   ]
  },
  {
   "cell_type": "code",
   "execution_count": null,
   "metadata": {},
   "outputs": [],
   "source": [
    "from darts.metrics import mape, mae, mse, mase\n",
    "from math import sqrt\n",
    "from darts.models import CatBoostModel\n",
    "\n",
    "training, validation =series.split_before(pd.Timestamp('2024-05-01')) # 1 month\n",
    "\n",
    "best_model = CatBoostModel.load(\"../model/CatBoostModel_totalOrder_25Jun67_31lags.pkl\")\n",
    "backtest_errors = best_model.backtest(\n",
    "     series,\n",
    "     start=pd.Timestamp('2024-05-01'),          # เริ่มต้นที่ 90% ของข้อมูล\n",
    "     forecast_horizon=7, #จำนวนก้าวการพยากรณ์ในอนาคตที่ต้องการ\n",
    "     stride=1,           #ช่วงการเลื่อนในการทดสอบแต่ละครั้ง\n",
    "     last_points_only=False,  #  ให้แสดงเฉพาะจุดสิ้นสุดของการพยากรณ์หรือไม่\n",
    "     metric=mse,\n",
    "     reduction=np.mean,           #ฟังก์ชันการลดรูปผลลัพธ์ (เช่น mean การหาเฉลี่ย)\n",
    "     verbose=-1\n",
    ")\n",
    "print(f'backtest_errors MSE: {backtest_errors}')"
   ]
  }
 ],
 "metadata": {
  "kernelspec": {
   "display_name": "conda_dart",
   "language": "python",
   "name": "python3"
  },
  "language_info": {
   "codemirror_mode": {
    "name": "ipython",
    "version": 3
   },
   "file_extension": ".py",
   "mimetype": "text/x-python",
   "name": "python",
   "nbconvert_exporter": "python",
   "pygments_lexer": "ipython3",
   "version": "3.12.3"
  }
 },
 "nbformat": 4,
 "nbformat_minor": 2
}
