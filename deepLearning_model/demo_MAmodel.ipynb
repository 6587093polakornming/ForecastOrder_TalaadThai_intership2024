{
 "cells": [
  {
   "cell_type": "code",
   "execution_count": null,
   "metadata": {},
   "outputs": [],
   "source": [
    "import pandas as pd\n",
    "import numpy as np\n",
    "import matplotlib.pyplot as plt\n",
    "from statsmodels.graphics.tsaplots import plot_acf, plot_pacf\n",
    "from statsmodels.tsa.arima.model import ARIMA\n",
    " \n",
    "import yfinance as yf\n",
    "import warnings\n",
    "warnings.filterwarnings(\"ignore\")\n",
    " \n",
    "plt.rcParams['figure.figsize'] = 15, 5"
   ]
  },
  {
   "cell_type": "code",
   "execution_count": null,
   "metadata": {},
   "outputs": [],
   "source": [
    "   \n",
    "AMD = yf.Ticker(\"AMD\")\n",
    " \n",
    "# getting the historical market data\n",
    "AMD_values = AMD.history(start=\"2020-01-01\")\n",
    " \n",
    "# Plotting the close price of AMD\n",
    "AMD_values[['Close']].plot()"
   ]
  },
  {
   "cell_type": "code",
   "execution_count": null,
   "metadata": {},
   "outputs": [],
   "source": [
    "AMD_values['rolling_av'] = AMD_values['Close'].rolling(10).mean()\n",
    " \n",
    "# plotting 10-day rolling average value with the closing value\n",
    "AMD_values[['Close','rolling_av']].plot()"
   ]
  },
  {
   "cell_type": "code",
   "execution_count": null,
   "metadata": {},
   "outputs": [],
   "source": [
    "\n",
    "# Function to plot ACF and PACF\n",
    "def plot_acf_pacf(timeseries):\n",
    "    fig, (ax1, ax2) = plt.subplots(2, 1, figsize=(10, 7))\n",
    "    plot_acf(timeseries, ax=ax1, lags=75)\n",
    "    plot_pacf(timeseries, ax=ax2, lags=75)\n",
    "    plt.show()\n",
    " \n",
    " \n",
    "# Plotting ACF and PACF of the closing value time series\n",
    "plot_acf_pacf(AMD_values['Close'])"
   ]
  },
  {
   "cell_type": "code",
   "execution_count": null,
   "metadata": {},
   "outputs": [],
   "source": [
    "   \n",
    "#creating the model\n",
    "MA_model = ARIMA(endog=AMD_values['Close'], order=(0, 0, 55))\n",
    " \n",
    "#fitting data to the model\n",
    "results = MA_model.fit()\n",
    " \n",
    "#summary of the model\n",
    "print(results.summary())"
   ]
  },
  {
   "cell_type": "code",
   "execution_count": null,
   "metadata": {},
   "outputs": [],
   "source": [
    "#prediction data\n",
    "start_date = '2023-12-15'\n",
    "end_date   = '2024-06-25'\n",
    "AMD_values['prediction'] = results.predict(start=start_date, end=end_date)\n",
    " \n",
    "#printing last 14 values of the prediction with original and rolling avg value\n",
    "print(AMD_values[['Close','rolling_av','prediction']].tail(14))"
   ]
  },
  {
   "cell_type": "code",
   "execution_count": null,
   "metadata": {},
   "outputs": [],
   "source": [
    "# Forecast future values\n",
    "# Forecast future closing prices\n",
    "forecast_steps = 30  # Forecasting for the next 30 days\n",
    "forecast_index = pd.date_range(start=AMD_values['Close'].index[-1], periods=forecast_steps+1, freq='D')[1:]  # Generate datetime index for forecast\n",
    "forecast = results.forecast(steps=forecast_steps)\n",
    " \n",
    "# plotting the end results\n",
    "AMD_values[['Close','rolling_av','prediction']].plot()\n",
    "plt.plot(forecast_index, forecast, color='red', label='Forecast')"
   ]
  },
  {
   "cell_type": "code",
   "execution_count": null,
   "metadata": {},
   "outputs": [],
   "source": []
  }
 ],
 "metadata": {
  "kernelspec": {
   "display_name": ".venv",
   "language": "python",
   "name": "python3"
  },
  "language_info": {
   "codemirror_mode": {
    "name": "ipython",
    "version": 3
   },
   "file_extension": ".py",
   "mimetype": "text/x-python",
   "name": "python",
   "nbconvert_exporter": "python",
   "pygments_lexer": "ipython3",
   "version": "3.10.11"
  }
 },
 "nbformat": 4,
 "nbformat_minor": 2
}
