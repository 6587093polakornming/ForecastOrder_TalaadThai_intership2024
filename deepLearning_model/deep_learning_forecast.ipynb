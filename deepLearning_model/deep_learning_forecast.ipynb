{
 "cells": [
  {
   "cell_type": "markdown",
   "metadata": {},
   "source": [
    "# Import Data"
   ]
  },
  {
   "cell_type": "markdown",
   "metadata": {},
   "source": [
    "# Invalid Prediction"
   ]
  },
  {
   "cell_type": "code",
   "execution_count": null,
   "metadata": {},
   "outputs": [],
   "source": [
    "import numpy as np\n",
    "import pandas as pd\n",
    "import yfinance as yf\n",
    "import datetime as dt\n",
    "import matplotlib.pyplot as plt\n",
    "import math"
   ]
  },
  {
   "cell_type": "code",
   "execution_count": null,
   "metadata": {},
   "outputs": [],
   "source": [
    "# importing libraries\n",
    "from tensorflow import keras\n",
    "from keras.models import Sequential\n",
    "from keras.layers import LSTM\n",
    "from keras.layers import Dense\n",
    "from keras.layers import SimpleRNN\n",
    "from keras.layers import Dropout\n",
    "from keras.layers import GRU, Bidirectional\n",
    "from keras.optimizers import SGD\n",
    "from sklearn import metrics\n",
    "from sklearn.metrics import mean_squared_error"
   ]
  },
  {
   "cell_type": "code",
   "execution_count": null,
   "metadata": {},
   "outputs": [],
   "source": [
    "df = pd.read_csv(\"Ming1Jul67_total_order.csv\")\n",
    "df.head(5)\n",
    "df['order_completed_at'] = pd.to_datetime(df['order_completed_at'])"
   ]
  },
  {
   "cell_type": "code",
   "execution_count": null,
   "metadata": {},
   "outputs": [],
   "source": [
    "df.info()"
   ]
  },
  {
   "cell_type": "code",
   "execution_count": null,
   "metadata": {},
   "outputs": [],
   "source": [
    "print(df.head())\n",
    "print(df.tail())"
   ]
  },
  {
   "cell_type": "markdown",
   "metadata": {},
   "source": [
    "# Reshape data\n",
    "### for deep learning"
   ]
  },
  {
   "cell_type": "code",
   "execution_count": null,
   "metadata": {},
   "outputs": [],
   "source": [
    "data = df.iloc[:,1:2] \n",
    "print(data.head())\n",
    "print(data.shape)"
   ]
  },
  {
   "cell_type": "code",
   "execution_count": null,
   "metadata": {},
   "outputs": [],
   "source": [
    "# Selecting Open Price values\n",
    "dataset = data.unique_order_count.values \n",
    "# Reshaping 1D to 2D array\n",
    "dataset = np.reshape(dataset, (-1,1)) \n",
    "dataset.shape"
   ]
  },
  {
   "cell_type": "markdown",
   "metadata": {},
   "source": [
    "# Feature Scaling"
   ]
  },
  {
   "cell_type": "code",
   "execution_count": null,
   "metadata": {},
   "outputs": [],
   "source": [
    "from sklearn.preprocessing import MinMaxScaler\n",
    "scaler = MinMaxScaler(feature_range=(0,1))\n",
    "# scaling dataset\n",
    "dataset_scaled = scaler.fit_transform(dataset)\n",
    "\n",
    "print(dataset_scaled[:5])"
   ]
  },
  {
   "cell_type": "code",
   "execution_count": null,
   "metadata": {},
   "outputs": [],
   "source": [
    "X_dataset = []\n",
    "y_dataset = []\n",
    "for i in range(50, len(dataset_scaled)):\n",
    "    X_dataset.append(dataset_scaled[i-50:i, 0])\n",
    "    y_dataset.append(dataset_scaled[i, 0])\n",
    "    if i <= 51:\n",
    "        print(X_dataset)\n",
    "        print(y_dataset)\n",
    "        print()"
   ]
  },
  {
   "cell_type": "code",
   "execution_count": null,
   "metadata": {},
   "outputs": [],
   "source": [
    "# The data is converted to Numpy array\n",
    "X_dataset, y_dataset = np.array(X_dataset), np.array(y_dataset)\n",
    " \n",
    "#Reshaping\n",
    "X_dataset = np.reshape(X_dataset, (X_dataset.shape[0], X_dataset.shape[1],1))\n",
    "y_dataset = np.reshape(y_dataset, (y_dataset.shape[0],1))\n",
    "print(\"X_train :\",X_dataset.shape,\"y_train :\",y_dataset.shape)"
   ]
  },
  {
   "cell_type": "code",
   "execution_count": null,
   "metadata": {},
   "outputs": [],
   "source": [
    "from tensorflow import keras"
   ]
  },
  {
   "cell_type": "code",
   "execution_count": null,
   "metadata": {},
   "outputs": [],
   "source": [
    "model = keras.models.load_model('../notenook/train_regressorLSTM_1Jul67.keras')"
   ]
  },
  {
   "cell_type": "code",
   "execution_count": null,
   "metadata": {},
   "outputs": [],
   "source": [
    "# fitting the model\n",
    "history = model.fit(X_dataset, y_dataset, epochs = 20, batch_size = 2)\n",
    "model.summary()"
   ]
  },
  {
   "cell_type": "code",
   "execution_count": null,
   "metadata": {},
   "outputs": [],
   "source": [
    "#list all data in history\n",
    "print(history.history.keys())\n",
    "#summarize history for loss\n",
    "plt.plot(history.history['loss'])\n",
    "plt.plot(history.history['accuracy'])\n",
    "plt.title('model loss')\n",
    "plt.ylabel('loss')\n",
    "plt.xlabel('epoch')\n",
    "plt.legend(['train', 'test'], loc='upper left')\n",
    "plt.show()"
   ]
  },
  {
   "cell_type": "code",
   "execution_count": null,
   "metadata": {},
   "outputs": [],
   "source": [
    "y_LSTM = model.predict(X_dataset)\n",
    "y_LSTM_O = scaler.inverse_transform(y_LSTM)"
   ]
  },
  {
   "cell_type": "code",
   "execution_count": null,
   "metadata": {},
   "outputs": [],
   "source": [
    "print(data.index)"
   ]
  },
  {
   "cell_type": "code",
   "execution_count": null,
   "metadata": {},
   "outputs": [],
   "source": [
    "print(y_LSTM_O)"
   ]
  },
  {
   "cell_type": "code",
   "execution_count": null,
   "metadata": {},
   "outputs": [],
   "source": [
    "#Plot for RNN predictions\n",
    "plt.plot(data.index, data.unique_order_count, label = \"train_data\", color = \"b\")\n",
    "plt.plot(data.index[50:],y_LSTM_O, label = \"y_RNN\", color = \"brown\")\n",
    "plt.legend()\n",
    "plt.title(\"Basic LSTM\")"
   ]
  },
  {
   "cell_type": "markdown",
   "metadata": {},
   "source": [
    "# Fail Forecast"
   ]
  },
  {
   "cell_type": "code",
   "execution_count": null,
   "metadata": {},
   "outputs": [],
   "source": [
    "import numpy as np\n",
    "from sklearn.preprocessing import MinMaxScaler\n",
    "\n",
    "# สมมติว่าคุณมีโมเดล LSTM ที่ผ่านการเทรนแล้วชื่อ 'model'\n",
    "# และข้อมูลของคุณอยู่ในตัวแปรชื่อ 'data'\n",
    "\n",
    "# ขั้นตอนที่ 1: เตรียมข้อมูลอินพุต\n",
    "scaled_data = dataset_scaled \n",
    "\n",
    "# กำหนดจำนวนวันที่ใช้เป็นอินพุต และจำนวนวันที่ต้องการทำนาย\n",
    "n_steps = 50  # ใช้ข้อมูล 50 วันล่าสุดเป็นอินพุต\n",
    "n_future = 7  # ทำนาย 7 วันถัดไป (1 สัปดาห์)\n",
    "\n",
    "# เตรียมข้อมูล n_steps วันล่าสุดเป็นอินพุต\n",
    "X_forecast = scaled_data[-n_steps:].reshape((1, n_steps, 1))\n",
    "\n",
    "# ขั้นตอนที่ 2: ทำนายทีละวันเป็นเวลา 1 สัปดาห์\n",
    "predictions = []\n",
    "\n",
    "for _ in range(n_future):\n",
    "    # ทำนายค่าสำหรับวันถัดไป\n",
    "    next_day_scaled = model.predict(X_forecast)\n",
    "    \n",
    "    # แปลงค่าที่ทำนายกลับเป็นสเกลเดิม\n",
    "    next_day = scaler.inverse_transform(next_day_scaled)[0, 0]\n",
    "    \n",
    "    # เพิ่มค่าที่ทำนายได้เข้าไปในลิสต์\n",
    "    predictions.append(next_day)\n",
    "    \n",
    "    # ปรับปรุง X_forecast สำหรับการทำนายวันถัดไป\n",
    "    X_forecast = np.roll(X_forecast, -1, axis=1)\n",
    "    X_forecast[0, -1, 0] = next_day_scaled[0, 0]\n",
    "\n",
    "# ตอนนี้ 'predictions' มีค่าที่ทำนายสำหรับ 7 วันถัดไป\n",
    "print(\"ค่าที่ทำนายสำหรับ 7 วันถัดไป:\")\n",
    "for i, pred in enumerate(predictions, 1):\n",
    "    print(f\"วันที่ {i}: {pred}\")"
   ]
  },
  {
   "cell_type": "markdown",
   "metadata": {},
   "source": [
    "# Output Chunk Forecasting"
   ]
  },
  {
   "cell_type": "code",
   "execution_count": null,
   "metadata": {},
   "outputs": [],
   "source": [
    "#https://stackoverflow.com/questions/69906416/forecast-future-values-with-lstm-in-python"
   ]
  },
  {
   "cell_type": "code",
   "execution_count": null,
   "metadata": {},
   "outputs": [],
   "source": [
    "import numpy as np\n",
    "import pandas as pd\n",
    "import yfinance as yf\n",
    "import tensorflow as tf\n",
    "from tensorflow.keras.layers import Dense, LSTM\n",
    "from tensorflow.keras.models import Sequential\n",
    "from sklearn.preprocessing import MinMaxScaler\n",
    "pd.options.mode.chained_assignment = None\n",
    "tf.random.set_seed(0)"
   ]
  },
  {
   "cell_type": "code",
   "execution_count": null,
   "metadata": {},
   "outputs": [],
   "source": [
    "df = pd.read_csv(\"Ming1Jul67_total_order.csv\")\n",
    "df['order_completed_at'] = pd.to_datetime(df['order_completed_at'])\n",
    "df.info()"
   ]
  },
  {
   "cell_type": "code",
   "execution_count": null,
   "metadata": {},
   "outputs": [],
   "source": [
    "df.index = df[\"order_completed_at\"]\n",
    "df = df.drop([\"order_completed_at\"], axis=1)"
   ]
  },
  {
   "cell_type": "code",
   "execution_count": null,
   "metadata": {},
   "outputs": [],
   "source": [
    "df.info()"
   ]
  },
  {
   "cell_type": "code",
   "execution_count": null,
   "metadata": {},
   "outputs": [],
   "source": [
    "df.head(5)"
   ]
  },
  {
   "cell_type": "code",
   "execution_count": null,
   "metadata": {},
   "outputs": [],
   "source": [
    "# download the data\n",
    "y = df['unique_order_count'].fillna(method='ffill')\n",
    "y = y.values.reshape(-1, 1)\n",
    "\n",
    "# scale the data\n",
    "scaler = MinMaxScaler(feature_range=(0, 1))\n",
    "scaler = scaler.fit(y)\n",
    "y = scaler.transform(y)\n",
    "\n",
    "# generate the input and output sequences\n",
    "n_lookback = 50  # length of input sequences (lookback period)\n",
    "n_forecast = 7  # length of output sequences (forecast period)\n",
    "\n",
    "X = []\n",
    "Y = []\n",
    "\n",
    "for i in range(n_lookback, len(y) - n_forecast + 1):\n",
    "    X.append(y[i - n_lookback: i])\n",
    "    Y.append(y[i: i + n_forecast])\n",
    "\n",
    "X = np.array(X)\n",
    "Y = np.array(Y)"
   ]
  },
  {
   "cell_type": "code",
   "execution_count": null,
   "metadata": {},
   "outputs": [],
   "source": [
    "# fit the model\n",
    "model = Sequential()\n",
    "model.add(LSTM(50, return_sequences = True,input_shape = (n_lookback,1)))\n",
    "model.add(LSTM(50, return_sequences = False))\n",
    "model.add(Dense(25))\n",
    "model.add(Dense(n_forecast))\n",
    "\n",
    "model.compile(loss='mean_squared_error', optimizer='adam',metrics = [\"accuracy\"])\n",
    "model.fit(X, Y, epochs=100, batch_size=32, verbose=1)"
   ]
  },
  {
   "cell_type": "code",
   "execution_count": null,
   "metadata": {},
   "outputs": [],
   "source": [
    "# generate the forecasts\n",
    "X_ = y[- n_lookback:]  # last available input sequence\n",
    "X_ = X_.reshape(1, n_lookback, 1)\n",
    "\n",
    "Y_ = model.predict(X_).reshape(-1, 1)\n",
    "Y_ = scaler.inverse_transform(Y_)\n",
    "\n",
    "# organize the results in a data frame\n",
    "df_past = df[['unique_order_count']].reset_index()\n",
    "df_past.rename(columns={'order_completed_at': 'Date', 'unique_order_count': 'Actual'}, inplace=True)\n",
    "df_past['Date'] = pd.to_datetime(df_past['Date'])\n",
    "df_past['Forecast'] = np.nan\n",
    "df_past['Forecast'].iloc[-1] = df_past['Actual'].iloc[-1]\n",
    "\n",
    "df_future = pd.DataFrame(columns=['Date', 'Actual', 'Forecast'])\n",
    "df_future['Date'] = pd.date_range(start=df_past['Date'].iloc[-1] + pd.Timedelta(days=1), periods=n_forecast)\n",
    "df_future['Forecast'] = Y_.flatten()\n",
    "df_future['Actual'] = np.nan\n",
    "\n",
    "results = pd.concat([df_past, df_future]).set_index('Date')\n",
    "\n",
    "# plot the results\n",
    "results.plot(title='Total Order')"
   ]
  },
  {
   "cell_type": "code",
   "execution_count": null,
   "metadata": {},
   "outputs": [],
   "source": [
    "print(df_future)"
   ]
  },
  {
   "cell_type": "markdown",
   "metadata": {},
   "source": [
    "# Valid Prediction"
   ]
  },
  {
   "cell_type": "code",
   "execution_count": null,
   "metadata": {},
   "outputs": [],
   "source": [
    "#Initialising the model\n",
    "model = Sequential()\n",
    " \n",
    "#Adding LSTM layers\n",
    "model.add(LSTM(50, return_sequences = True, input_shape = (50,1)))\n",
    "model.add(LSTM(50, return_sequences = False))\n",
    "model.add(Dense(25))\n",
    "#Adding the output layer\n",
    "model.add(Dense(1))\n",
    " \n",
    "#Compiling the model\n",
    "model.compile(optimizer = 'adam',\n",
    "                      loss = 'mean_squared_error',\n",
    "                      metrics = [\"accuracy\"])"
   ]
  },
  {
   "cell_type": "code",
   "execution_count": null,
   "metadata": {},
   "outputs": [],
   "source": [
    "model = keras.models.load_model('train_regressorLSTM_1Jul67.keras')"
   ]
  },
  {
   "cell_type": "code",
   "execution_count": null,
   "metadata": {},
   "outputs": [],
   "source": [
    "from tensorflow.keras.callbacks import ModelCheckpoint"
   ]
  },
  {
   "cell_type": "code",
   "execution_count": null,
   "metadata": {},
   "outputs": [],
   "source": [
    "#load dataset\n",
    "df = pd.read_csv(\"Ming2Jul67_total_order.csv\")\n",
    "df.head(5)\n",
    "df['order_completed_at'] = pd.to_datetime(df['order_completed_at'])\n",
    "\n",
    "# # load model \n",
    "# model = keras.models.load_model('../notenook/train_regressorLSTM_1Jul67.keras')\n",
    "\n",
    "#preprocessing\n",
    "\n",
    "data = df.iloc[:,1:2] \n",
    "print(data.head())\n",
    "print(data.shape)\n",
    "\n",
    "# Selecting Open Price values\n",
    "dataset = data.unique_order_count.values \n",
    "# Reshaping 1D to 2D array\n",
    "dataset = np.reshape(dataset, (-1,1)) \n",
    "dataset.shape\n",
    "\n",
    "from sklearn.preprocessing import MinMaxScaler\n",
    "scaler = MinMaxScaler(feature_range=(0,1))\n",
    "# scaling dataset\n",
    "dataset_scaled = scaler.fit_transform(dataset)\n",
    "\n",
    "X_dataset = []\n",
    "y_dataset = []\n",
    "for i in range(50, len(dataset_scaled)):\n",
    "    X_dataset.append(dataset_scaled[i-50:i, 0])\n",
    "    y_dataset.append(dataset_scaled[i, 0])\n",
    "    if i <= 51:\n",
    "        print(X_dataset)\n",
    "        print(y_dataset)\n",
    "        print()\n",
    "\n",
    "# The data is converted to Numpy array\n",
    "X_dataset, y_dataset = np.array(X_dataset), np.array(y_dataset)\n",
    " \n",
    "#Reshaping\n",
    "X_dataset = np.reshape(X_dataset, (X_dataset.shape[0], X_dataset.shape[1],1))\n",
    "y_dataset = np.reshape(y_dataset, (y_dataset.shape[0],1))\n",
    "print(\"X_train :\",X_dataset.shape,\"y_train :\",y_dataset.shape)\n",
    "\n",
    "\n",
    "# fit model with lasted data\n",
    "filepath='weights_check/my_best_model.epoch{epoch:02d}-loss{loss:.2f}.keras'\n",
    "checkpoint = ModelCheckpoint(filepath=filepath, monitor='loss', verbose=1, save_best_only=True, mode='min')\n",
    "callbacks_list = [checkpoint]\n",
    "\n",
    "history = model.fit(X_dataset, y_dataset, epochs = 100, batch_size = 1, callbacks=callbacks_list)"
   ]
  },
  {
   "cell_type": "code",
   "execution_count": null,
   "metadata": {},
   "outputs": [],
   "source": [
    "#list all data in history\n",
    "print(history.history.keys())\n",
    "#summarize history for loss\n",
    "plt.plot(history.history['loss'])\n",
    "plt.plot(history.history['accuracy'])\n",
    "plt.title('model loss')\n",
    "plt.ylabel('loss')\n",
    "plt.xlabel('epoch')\n",
    "plt.legend(['loss', 'accuracy'], loc='upper left')\n",
    "plt.show()"
   ]
  },
  {
   "cell_type": "markdown",
   "metadata": {},
   "source": [
    "### save best model"
   ]
  },
  {
   "cell_type": "code",
   "execution_count": null,
   "metadata": {},
   "outputs": [],
   "source": [
    "model = keras.models.load_model(\"weights_check\\my_best_model.epoch99-loss0.00.keras\")\n",
    "model = model.save('train_regressorLSTM_1Jul67.keras')"
   ]
  },
  {
   "cell_type": "code",
   "execution_count": null,
   "metadata": {},
   "outputs": [],
   "source": [
    "model = keras.models.load_model('best_check/my_best_model.epoch99-loss0.00.keras')"
   ]
  },
  {
   "cell_type": "markdown",
   "metadata": {},
   "source": [
    "### Future Prediction"
   ]
  },
  {
   "cell_type": "code",
   "execution_count": null,
   "metadata": {},
   "outputs": [],
   "source": [
    "import numpy as np\n",
    "from sklearn.preprocessing import MinMaxScaler\n",
    "\n",
    "# สมมติว่าคุณมีโมเดล LSTM ที่ผ่านการเทรนแล้วชื่อ 'model'\n",
    "\n",
    "# และข้อมูลของคุณอยู่ในตัวแปรชื่อ 'data'\n",
    "# Selecting Open Price values\n",
    "\n",
    "df = pd.read_csv(\"Ming2Jul67_total_order.csv\")\n",
    "df['order_completed_at'] = pd.to_datetime(df['order_completed_at'])\n",
    "data = df\n",
    "dataset = data.unique_order_count.values \n",
    "# Reshaping 1D to 2D array\n",
    "dataset = np.reshape(dataset, (-1,1)) \n",
    "\n",
    "# ขั้นตอนที่ 1: เตรียมข้อมูลอินพุต\n",
    "scaler = MinMaxScaler(feature_range=(0, 1))\n",
    "scaled_data = scaler.fit_transform(dataset)\n",
    "\n",
    "# กำหนดจำนวนวันที่ใช้เป็นอินพุต และจำนวนวันที่ต้องการทำนาย\n",
    "n_steps = 50  # ใช้ข้อมูล 50 วันล่าสุดเป็นอินพุต\n",
    "n_future = 7  # ทำนาย 7 วันถัดไป (1 สัปดาห์)\n",
    "\n",
    "# เตรียมข้อมูล n_steps วันล่าสุดเป็นอินพุต\n",
    "last_steps = scaled_data[-n_steps:]\n",
    "X_forecast = last_steps.reshape((1, n_steps, 1))\n",
    "print(f\"init lasted 5 days {scaler.inverse_transform(X_forecast[0][-5:])}\")\n",
    "\n",
    "# ขั้นตอนที่ 2: ใช้โมเดลทำนาย\n",
    "forecasted_scaled = []\n",
    "\n",
    "for _ in range(n_future):\n",
    "    # ทำนายค่าถัดไป\n",
    "    next_pred = model.predict(X_forecast)\n",
    "    \n",
    "    # เพิ่มค่าที่ทำนายได้เข้าไปในลิสต์\n",
    "    forecasted_scaled.append(next_pred[0, 0])\n",
    "    \n",
    "    # อัปเดต X_forecast สำหรับการทำนายครั้งถัดไป\n",
    "    X_forecast = np.roll(X_forecast, -1, axis=1)\n",
    "    print(f\"shift {_} {scaler.inverse_transform(X_forecast[0][-5:])}\")\n",
    "    print(f\"predict {_} = {scaler.inverse_transform(next_pred)}\")\n",
    "    X_forecast[0, -1, 0] = next_pred[0, 0]\n",
    "    print(f\"after roll {_} {scaler.inverse_transform(X_forecast[0][-5:])}\")\n",
    "\n",
    "# ขั้นตอนที่ 3: ประมวลผลการทำนาย\n",
    "# แปลงค่าที่ทำนายกลับเป็นสเกลเดิม\n",
    "forecasted = scaler.inverse_transform(np.array(forecasted_scaled).reshape(-1, 1))\n",
    "unscaled = np.array(forecasted_scaled)\n",
    "# ตอนนี้ 'forecasted' มีค่าที่ทำนายสำหรับ 7 วันถัดไป"
   ]
  },
  {
   "cell_type": "code",
   "execution_count": null,
   "metadata": {},
   "outputs": [],
   "source": [
    "print(forecasted)"
   ]
  },
  {
   "cell_type": "code",
   "execution_count": null,
   "metadata": {},
   "outputs": [],
   "source": [
    "print(forecasted[0])"
   ]
  },
  {
   "cell_type": "code",
   "execution_count": null,
   "metadata": {},
   "outputs": [],
   "source": [
    "forecasted_df = pd.DataFrame(forecasted)\n",
    "print(forecasted_df.head())\n",
    "print(forecasted_df.info())\n"
   ]
  },
  {
   "cell_type": "markdown",
   "metadata": {},
   "source": [
    "### forecast dataframe"
   ]
  },
  {
   "cell_type": "code",
   "execution_count": null,
   "metadata": {},
   "outputs": [],
   "source": [
    "import pandas as pd\n",
    "import numpy as np\n",
    "\n",
    "# สมมติว่า forecasted คือ array ของผลการทำนาย\n",
    "latest_date = df['order_completed_at'].max()\n",
    "next_date = latest_date + pd.Timedelta(days=1)\n",
    "print(next_date)\n",
    "\n",
    "#forecast # สร้าง DataFrame\n",
    "start_date = next_date\n",
    "date_range = pd.date_range(start=start_date, periods=len(forecasted))\n",
    "print(date_range)\n",
    "forecasted_df = pd.DataFrame(forecasted)\n",
    "\n",
    "forecasted_df = pd.DataFrame({\n",
    "    'date': date_range,\n",
    "    'total_order': forecasted_df[0]\n",
    "})\n",
    "\n",
    "# แสดงผล\n",
    "print(forecasted_df)\n",
    "print(\"\\nข้อมูลของ DataFrame:\")\n",
    "print(forecasted_df.info())"
   ]
  },
  {
   "cell_type": "code",
   "execution_count": null,
   "metadata": {},
   "outputs": [],
   "source": [
    "# print(len((X_forecast)[0]))\n",
    "# print(unscaled)"
   ]
  }
 ],
 "metadata": {
  "kernelspec": {
   "display_name": "Python 3 (ipykernel)",
   "language": "python",
   "name": "python3"
  },
  "language_info": {
   "codemirror_mode": {
    "name": "ipython",
    "version": 3
   },
   "file_extension": ".py",
   "mimetype": "text/x-python",
   "name": "python",
   "nbconvert_exporter": "python",
   "pygments_lexer": "ipython3",
   "version": "3.10.11"
  }
 },
 "nbformat": 4,
 "nbformat_minor": 4
}
